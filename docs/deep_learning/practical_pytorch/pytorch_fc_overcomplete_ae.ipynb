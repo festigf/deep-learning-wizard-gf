{
 "cells": [
  {
   "cell_type": "markdown",
   "metadata": {},
   "source": [
    "# Overcomplete Autoencoders with PyTorch\n",
    "\n",
    "!!! tip \"Run Jupyter Notebook\"\n",
    "    You can run the code for this section in this [jupyter notebook link](https://github.com/ritchieng/deep-learning-wizard/blob/master/docs/deep_learning/practical_pytorch/pytorch_fc_overcomplete_ae.ipynb)."
   ]
  },
  {
   "cell_type": "markdown",
   "metadata": {},
   "source": [
    "## Introduction\n",
    "- Recap!\n",
    "    - An autoencoder's purpose is to learn an approximation of the identity function (mapping $x$ to $\\hat x$).\n",
    "        - Essentially we are trying to learn a function that can take our input $x$ and recreate it $\\hat x$.\n",
    "            - Technically we can do an exact recreation of our in-sample input if we use a very wide and deep neural network.\n",
    "- In this particular tutorial, we will be covering denoising autoencoder through overcomplete encoders. \n",
    "    - Essentially given noisy images, you can denoise and make them less noisy with this tutorial through overcomplete encoders.\n",
    "\n",
    "![](./images/autoencoder_0.png)\n"
   ]
  },
  {
   "cell_type": "markdown",
   "metadata": {},
   "source": [
    "## Fashion MNIST Dataset Exploration"
   ]
  },
  {
   "cell_type": "markdown",
   "metadata": {},
   "source": [
    "### Imports"
   ]
  },
  {
   "cell_type": "code",
   "execution_count": 18,
   "metadata": {},
   "outputs": [],
   "source": [
    "import torch\n",
    "import torch.nn as nn\n",
    "import torch.nn.functional as F\n",
    "import torchvision.transforms as transforms\n",
    "import torchvision.datasets as dsets\n",
    "import matplotlib.pyplot as plt\n",
    "import numpy as np\n",
    "%matplotlib inline\n",
    "figsize=(15, 6)\n",
    "plt.style.use('fivethirtyeight')"
   ]
  },
  {
   "cell_type": "markdown",
   "metadata": {},
   "source": [
    "\n",
    "| Name  | Content | Examples | Size | Link | MD5 Checksum|\n",
    "| --- | --- |--- | --- |--- |--- |\n",
    "| `train-images-idx3-ubyte.gz`  | training set images  | 60,000|26 MBytes | [Download](http://fashion-mnist.s3-website.eu-central-1.amazonaws.com/train-images-idx3-ubyte.gz)|`8d4fb7e6c68d591d4c3dfef9ec88bf0d`|\n",
    "| `train-labels-idx1-ubyte.gz`  | training set labels  |60,000|29 KBytes | [Download](http://fashion-mnist.s3-website.eu-central-1.amazonaws.com/train-labels-idx1-ubyte.gz)|`25c81989df183df01b3e8a0aad5dffbe`|\n",
    "| `t10k-images-idx3-ubyte.gz`  | test set images  | 10,000|4.3 MBytes | [Download](http://fashion-mnist.s3-website.eu-central-1.amazonaws.com/t10k-images-idx3-ubyte.gz)|`bef4ecab320f06d8554ea6380940ec79`|\n",
    "| `t10k-labels-idx1-ubyte.gz`  | test set labels  | 10,000| 5.1 KBytes | [Download](http://fashion-mnist.s3-website.eu-central-1.amazonaws.com/t10k-labels-idx1-ubyte.gz)|`bb300cfdad3c16e7a12a480ee83cd310`|"
   ]
  },
  {
   "cell_type": "markdown",
   "metadata": {},
   "source": [
    "### Load Dataset (Step 1)\n",
    "- Typically we've been leveraging on `dsets.MNIST()`, now we simply change to `dsets.FashionMNIST`!"
   ]
  },
  {
   "cell_type": "code",
   "execution_count": 5,
   "metadata": {},
   "outputs": [
    {
     "name": "stdout",
     "output_type": "stream",
     "text": [
      "Downloading http://fashion-mnist.s3-website.eu-central-1.amazonaws.com/train-images-idx3-ubyte.gz\n",
      "Downloading http://fashion-mnist.s3-website.eu-central-1.amazonaws.com/train-labels-idx1-ubyte.gz\n",
      "Downloading http://fashion-mnist.s3-website.eu-central-1.amazonaws.com/t10k-images-idx3-ubyte.gz\n",
      "Downloading http://fashion-mnist.s3-website.eu-central-1.amazonaws.com/t10k-labels-idx1-ubyte.gz\n",
      "Processing...\n",
      "Done!\n"
     ]
    }
   ],
   "source": [
    "# Fashion-MNIST data loader\n",
    "train_dataset = dsets.FashionMNIST(root='./data',\n",
    "                                   train=True,\n",
    "                                   transform=transforms.ToTensor(),\n",
    "                                   download=True)\n",
    "\n",
    "test_dataset = dsets.FashionMNIST(root='./data',\n",
    "                                  train=False,\n",
    "                                  transform=transforms.ToTensor())"
   ]
  },
  {
   "cell_type": "markdown",
   "metadata": {},
   "source": [
    "### Load Data Loader (Step 2)"
   ]
  },
  {
   "cell_type": "code",
   "execution_count": 6,
   "metadata": {},
   "outputs": [],
   "source": [
    "# Batch size, iterations and epochs\n",
    "batch_size = 100\n",
    "n_iters = 5000\n",
    "num_epochs = n_iters / (len(train_dataset) / batch_size)\n",
    "num_epochs = int(num_epochs)\n",
    "\n",
    "train_loader = torch.utils.data.DataLoader(dataset=train_dataset, \n",
    "                                           batch_size=batch_size, \n",
    "                                           shuffle=True)\n",
    "\n",
    "test_loader = torch.utils.data.DataLoader(dataset=test_dataset, \n",
    "                                          batch_size=batch_size, \n",
    "                                          shuffle=False)"
   ]
  },
  {
   "cell_type": "markdown",
   "metadata": {},
   "source": [
    "### Labels\n",
    "Each training and test example is assigned to one of the following labels:\n",
    "\n",
    "| Label | Description |\n",
    "| --- | --- |\n",
    "| 0 | T-shirt/top |\n",
    "| 1 | Trouser |\n",
    "| 2 | Pullover |\n",
    "| 3 | Dress |\n",
    "| 4 | Coat |\n",
    "| 5 | Sandal |\n",
    "| 6 | Shirt |\n",
    "| 7 | Sneaker |\n",
    "| 8 | Bag |\n",
    "| 9 | Ankle boot |\n"
   ]
  },
  {
   "cell_type": "markdown",
   "metadata": {},
   "source": [
    "#### Sample: Boot"
   ]
  },
  {
   "cell_type": "code",
   "execution_count": 7,
   "metadata": {},
   "outputs": [
    {
     "name": "stdout",
     "output_type": "stream",
     "text": [
      "Label 9\n"
     ]
    },
    {
     "data": {
      "image/png": "[encoded data removed]",
      "text/plain": [
       "<Figure size 432x288 with 1 Axes>"
      ]
     },
     "metadata": {},
     "output_type": "display_data"
    }
   ],
   "source": [
    "# Sample 0: boot\n",
    "sample_num = 0\n",
    "show_img = train_dataset[sample_num][0].numpy().reshape(28, 28)\n",
    "label = train_dataset[sample_num][1]\n",
    "print(f'Label {label}')\n",
    "plt.imshow(show_img, cmap='gray');"
   ]
  },
  {
   "cell_type": "markdown",
   "metadata": {},
   "source": [
    "#### Sample: shirt"
   ]
  },
  {
   "cell_type": "code",
   "execution_count": 8,
   "metadata": {},
   "outputs": [
    {
     "name": "stdout",
     "output_type": "stream",
     "text": [
      "Label 0\n"
     ]
    },
    {
     "data": {
      "image/png": "[encoded data removed]",
      "text/plain": [
       "<Figure size 432x288 with 1 Axes>"
      ]
     },
     "metadata": {},
     "output_type": "display_data"
    }
   ],
   "source": [
    "# Sample 1: shirt\n",
    "sample_num = 1\n",
    "show_img = train_dataset[sample_num][0].numpy().reshape(28, 28)\n",
    "label = train_dataset[sample_num][1]\n",
    "print(f'Label {label}')\n",
    "plt.imshow(show_img, cmap='gray');"
   ]
  },
  {
   "cell_type": "markdown",
   "metadata": {},
   "source": [
    "#### Sample: dress"
   ]
  },
  {
   "cell_type": "code",
   "execution_count": 9,
   "metadata": {},
   "outputs": [
    {
     "name": "stdout",
     "output_type": "stream",
     "text": [
      "Label 3\n"
     ]
    },
    {
     "data": {
      "image/png": "[encoded data removed]",
      "text/plain": [
       "<Figure size 432x288 with 1 Axes>"
      ]
     },
     "metadata": {},
     "output_type": "display_data"
    }
   ],
   "source": [
    "# Sample 3: dress\n",
    "sample_num = 3\n",
    "show_img = train_dataset[sample_num][0].numpy().reshape(28, 28)\n",
    "label = train_dataset[sample_num][1]\n",
    "print(f'Label {label}')\n",
    "plt.imshow(show_img, cmap='gray');"
   ]
  },
  {
   "cell_type": "markdown",
   "metadata": {},
   "source": [
    "#### Maximum/minimum pixel values\n",
    "- Pixel values range from 0 to 1"
   ]
  },
  {
   "cell_type": "code",
   "execution_count": 10,
   "metadata": {},
   "outputs": [
    {
     "name": "stdout",
     "output_type": "stream",
     "text": [
      "Minimum pixel value: 0.0\n",
      "Maximum pixel value: 1.0\n"
     ]
    }
   ],
   "source": [
    "min_pixel_value = train_dataset[sample_num][0].min()\n",
    "max_pixel_value = train_dataset[sample_num][0].max()\n",
    "\n",
    "print(f'Minimum pixel value: {min_pixel_value}')\n",
    "print(f'Maximum pixel value: {max_pixel_value}')"
   ]
  },
  {
   "cell_type": "markdown",
   "metadata": {},
   "source": [
    "## Overcomplete Autoencoder"
   ]
  },
  {
   "cell_type": "markdown",
   "metadata": {},
   "source": [
    "### Sigmoid Function\n",
    "- Sigmoid function was introduced earlier, where the function allows to bound our output from 0 to 1 inclusive given our input.\n",
    "- This is introduced and clarified here as we would want this in our final layer of our overcomplete autoencoder as we want to bound out final output to the pixels' range of 0 and 1."
   ]
  },
  {
   "cell_type": "code",
   "execution_count": 11,
   "metadata": {},
   "outputs": [
    {
     "data": {
      "text/plain": [
       "Text(0.5, 1.0, 'Sigmoid Function')"
      ]
     },
     "execution_count": 11,
     "metadata": {},
     "output_type": "execute_result"
    },
    {
     "data": {
      "image/png": "[encoded data removed]",
      "text/plain": [
       "<Figure size 1080x432 with 1 Axes>"
      ]
     },
     "metadata": {},
     "output_type": "display_data"
    }
   ],
   "source": [
    "# Sigmoid function has function bounded by min=0 and max=1\n",
    "# So this will be what we will be using for the final layer's function\n",
    "x = torch.arange(-10., 10., 0.1)\n",
    "plt.figure(figsize=figsize);\n",
    "plt.plot(x.numpy(), torch.sigmoid(x).numpy())\n",
    "plt.title('Sigmoid Function')"
   ]
  },
  {
   "cell_type": "markdown",
   "metadata": {},
   "source": [
    "### Steps\n",
    "- These steps should be familiar by now! Our famous 7 steps. But I will be adding one more step here, Step 8 where we run our inference.\n",
    "    - Step 1: Load Dataset\n",
    "    - Step 2: Make Dataset Iterable\n",
    "    - Step 3: Create Model Class\n",
    "    - Step 4: Instantiate Model Class\n",
    "    - Step 5: Instantiate Loss Class\n",
    "    - Step 6: Instantiate Optimizer Class\n",
    "    - Step 7: Train Model\n",
    "    - Step 8: Model Inference"
   ]
  },
  {
   "cell_type": "markdown",
   "metadata": {},
   "source": [
    "#### Step 3: Create Model Class"
   ]
  },
  {
   "cell_type": "code",
   "execution_count": 19,
   "metadata": {},
   "outputs": [],
   "source": [
    "# Model definition\n",
    "class FullyConnectedAutoencoder(nn.Module):\n",
    "    def __init__(self, input_dim, hidden_dim, output_dim):\n",
    "        super().__init__()\n",
    "        # Encoder: affine function\n",
    "        self.fc1 = nn.Linear(input_dim, hidden_dim)\n",
    "        # Decoder: affine function\n",
    "        self.fc2 = nn.Linear(hidden_dim, output_dim)\n",
    "\n",
    "    def forward(self, x):\n",
    "        # Encoder: affine function\n",
    "        out = self.fc1(x)\n",
    "        # Encoder: non-linear function\n",
    "        out = F.leaky_relu(out)\n",
    "\n",
    "        # Decoder: affine function\n",
    "        out = self.fc2(out)\n",
    "        # Decoder: non-linear function\n",
    "        out = torch.sigmoid(out)\n",
    "        \n",
    "        return out"
   ]
  },
  {
   "cell_type": "markdown",
   "metadata": {},
   "source": [
    "#### Step 4: Instantiate Model Class"
   ]
  },
  {
   "cell_type": "code",
   "execution_count": 20,
   "metadata": {},
   "outputs": [],
   "source": [
    "# Dimensions for overcomplete (larger latent representation)\n",
    "input_dim = 28*28\n",
    "hidden_dim = int(input_dim * 1.5)\n",
    "output_dim = input_dim\n",
    "\n",
    "# Instantiate Fully-connected Autoencoder (FC-AE)\n",
    "# And assign to model object\n",
    "model = FullyConnectedAutoencoder(input_dim, hidden_dim, output_dim)"
   ]
  },
  {
   "cell_type": "markdown",
   "metadata": {},
   "source": [
    "#### Step 5: Instantiate Loss Class"
   ]
  },
  {
   "cell_type": "code",
   "execution_count": 21,
   "metadata": {},
   "outputs": [],
   "source": [
    "# We want to minimize the per pixel reconstruction loss\n",
    "# So we've to use the mean squared error (MSE) loss\n",
    "# This is similar to our regression tasks' loss\n",
    "criterion = nn.MSELoss()"
   ]
  },
  {
   "cell_type": "markdown",
   "metadata": {},
   "source": [
    "#### Step 6: Instantiate Optimizer Class"
   ]
  },
  {
   "cell_type": "code",
   "execution_count": 22,
   "metadata": {},
   "outputs": [],
   "source": [
    "# Using basic Adam optimizer\n",
    "learning_rate = 1e-3\n",
    "optimizer = torch.optim.Adam(model.parameters(), lr=learning_rate)  "
   ]
  },
  {
   "cell_type": "markdown",
   "metadata": {},
   "source": [
    "##### Inspect Parameter Groups"
   ]
  },
  {
   "cell_type": "code",
   "execution_count": 23,
   "metadata": {
    "scrolled": true
   },
   "outputs": [
    {
     "name": "stdout",
     "output_type": "stream",
     "text": [
      "torch.Size([1176, 784])\n",
      "torch.Size([1176])\n",
      "torch.Size([784, 1176])\n",
      "torch.Size([784])\n"
     ]
    }
   ],
   "source": [
    "# Parameter inspection\n",
    "num_params_group = len(list(model.parameters()))\n",
    "for group_idx in range(num_params_group):\n",
    "    print(list(model.parameters())[group_idx].size())"
   ]
  },
  {
   "cell_type": "markdown",
   "metadata": {},
   "source": [
    "#### Step 7: Train Model\n",
    "- Take note there's a critical line of `dropout = nn.Dropout(0.5)` here which basically allows us to make noisy images from our original Fashion MNIST images.\n",
    "- It basically drops out 50% of all pixels randomly."
   ]
  },
  {
   "cell_type": "code",
   "execution_count": 24,
   "metadata": {},
   "outputs": [
    {
     "name": "stdout",
     "output_type": "stream",
     "text": [
      "Iteration: 500. Average Test Loss: 0.0001664187147980556.\n",
      "Iteration: 1000. Average Test Loss: 0.00014121478307060897.\n",
      "Iteration: 1500. Average Test Loss: 0.0001341506722383201.\n",
      "Iteration: 2000. Average Test Loss: 0.0001252180663868785.\n",
      "Iteration: 2500. Average Test Loss: 0.00012206179235363379.\n",
      "Iteration: 3000. Average Test Loss: 0.00011766648094635457.\n",
      "Iteration: 3500. Average Test Loss: 0.00011584569438127801.\n",
      "Iteration: 4000. Average Test Loss: 0.00011396891932236031.\n",
      "Iteration: 4500. Average Test Loss: 0.00011224475019844249.\n"
     ]
    }
   ],
   "source": [
    "idx = 0\n",
    "\n",
    "# Dropout for creating noisy images\n",
    "# by dropping out pixel with a 50% probability\n",
    "dropout = nn.Dropout(0.5)\n",
    "\n",
    "for epoch in range(num_epochs):\n",
    "    for i, (images, labels) in enumerate(train_loader):\n",
    "        # Load images with gradient accumulation capabilities\n",
    "        images = images.view(-1, 28*28).requires_grad_()\n",
    "        \n",
    "        # Noisy images\n",
    "        noisy_images = dropout(torch.ones(images.shape)) * images\n",
    "\n",
    "        # Clear gradients w.r.t. parameters\n",
    "        optimizer.zero_grad()\n",
    "\n",
    "        # Forward pass to get output\n",
    "        outputs = model(noisy_images)\n",
    "\n",
    "        # Calculate Loss: MSE Loss based on pixel-to-pixel comparison\n",
    "        loss = criterion(outputs, images)\n",
    "\n",
    "        # Getting gradients w.r.t. parameters via backpropagation\n",
    "        loss.backward()\n",
    "\n",
    "        # Updating parameters via gradient descent\n",
    "        optimizer.step()\n",
    "\n",
    "        idx += 1\n",
    "\n",
    "        if idx % 500 == 0:\n",
    "            # Calculate MSE Test Loss\n",
    "            total_test_loss = 0\n",
    "            total_samples = 0\n",
    "            \n",
    "            # Iterate through test dataset\n",
    "            for images, labels in test_loader:\n",
    "                # Noisy images\n",
    "                noisy_images = dropout(torch.ones(images.shape)) * images\n",
    "                \n",
    "                # Forward pass only to get logits/output\n",
    "                outputs = model(noisy_images.view(-1, 28*28))\n",
    "\n",
    "                # Test loss\n",
    "                test_loss = criterion(outputs, images.view(-1, 28*28))\n",
    "\n",
    "                # Total number of labels\n",
    "                total_samples += labels.size(0)\n",
    "\n",
    "                # Total test loss\n",
    "                total_test_loss += test_loss\n",
    "\n",
    "            mean_test_loss = total_test_loss / total_samples\n",
    "\n",
    "            # Print Loss\n",
    "            print(f'Iteration: {idx}. Average Test Loss: {mean_test_loss.item()}.')"
   ]
  },
  {
   "cell_type": "markdown",
   "metadata": {},
   "source": [
    "#### Model Inference"
   ]
  },
  {
   "cell_type": "markdown",
   "metadata": {},
   "source": [
    "##### Raw Sample 1"
   ]
  },
  {
   "cell_type": "code",
   "execution_count": 31,
   "metadata": {},
   "outputs": [
    {
     "name": "stdout",
     "output_type": "stream",
     "text": [
      "Label 4\n"
     ]
    },
    {
     "data": {
      "image/png": "[encoded data removed]",
      "text/plain": [
       "<Figure size 432x288 with 1 Axes>"
      ]
     },
     "metadata": {},
     "output_type": "display_data"
    }
   ],
   "source": [
    "# Test sample: Raw\n",
    "sample_num = 10\n",
    "raw_img = test_dataset[sample_num][0]\n",
    "show_img = raw_img.numpy().reshape(28, 28)\n",
    "label = test_dataset[sample_num][1]\n",
    "print(f'Label {label}')\n",
    "plt.imshow(show_img, cmap='gray');"
   ]
  },
  {
   "cell_type": "markdown",
   "metadata": {},
   "source": [
    "##### Test Sample 1: Noisy to Denoised"
   ]
  },
  {
   "cell_type": "code",
   "execution_count": 36,
   "metadata": {},
   "outputs": [
    {
     "name": "stdout",
     "output_type": "stream",
     "text": [
      "Label 4\n"
     ]
    },
    {
     "data": {
      "image/png": "[encoded data removed]",
      "text/plain": [
       "<Figure size 432x288 with 1 Axes>"
      ]
     },
     "metadata": {},
     "output_type": "display_data"
    }
   ],
   "source": [
    "# Test sample: Noisy\n",
    "sample_num = 10\n",
    "raw_img = test_dataset[sample_num][0]\n",
    "noisy_image = dropout(torch.ones(raw_img.shape)) * raw_img\n",
    "show_img = noisy_image.numpy().reshape(28, 28)\n",
    "label = test_dataset[sample_num][1]\n",
    "print(f'Label {label}')\n",
    "plt.imshow(show_img, cmap='gray');"
   ]
  },
  {
   "cell_type": "markdown",
   "metadata": {},
   "source": [
    "## Summary\n",
    "- Introduction\n",
    "    - Recap of Autoencoders\n",
    "    - Introduction of denoising autoencoders\n",
    "- Dataset Exploration\n",
    "    - Fashion MNIST\n",
    "        - 10 classes\n",
    "        - Similar to MNIST but fashion images instead of digits\n",
    "- **8 Step** Model Building Recap\n",
    "    - Step 1: Load Dataset\n",
    "    - Step 2: Make Dataset Iterable\n",
    "    - Step 3: Create Model Class\n",
    "    - Step 4: Instantiate Model Class\n",
    "    - Step 5: Instantiate Loss Class\n",
    "    - Step 6: Instantiate Optimizer Class\n",
    "    - Step 7: Train Model\n",
    "    - Step 8: Model Inference\n",
    "        - Raw Sample 1\n",
    "        - Noisy to Denoised Sample 1"
   ]
  }
 ],
 "metadata": {
  "kernelspec": {
   "display_name": "latest",
   "language": "python",
   "name": "latest"
  },
  "language_info": {
   "codemirror_mode": {
    "name": "ipython",
    "version": 3
   },
   "file_extension": ".py",
   "mimetype": "text/x-python",
   "name": "python",
   "nbconvert_exporter": "python",
   "pygments_lexer": "ipython3",
   "version": "3.7.3"
  }
 },
 "nbformat": 4,
 "nbformat_minor": 2
}
