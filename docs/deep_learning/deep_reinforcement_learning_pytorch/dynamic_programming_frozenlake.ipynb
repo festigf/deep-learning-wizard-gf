{
 "cells": [
  {
   "cell_type": "markdown",
   "metadata": {},
   "source": [
    "## Frozen Lake Introduction\n",
    "- [Fronze Lake](https://gym.openai.com/envs/FrozenLake-v0/) is a simple game where you are on a frozen lake and you need to retrieve an item on the frozen lake where some parts are frozen and some parts are holes (if you walk into them you die)\n",
    "- Actions: $\\mathcal{A} = \\{0, 1, 2, 3\\}$\n",
    "    1. LEFT: 0\n",
    "    2. DOWN = 1\n",
    "    3. RIGHT = 2\n",
    "    4. UP = 3\n",
    "- Whole lake is a 4 x 4 grid world, $\\mathcal{S} = \\{0,1,2,3,4,5,6,7,8,9,10,11,12,13,14,15\\}$\n",
    "    - ![](./images/gridworld.png)\n",
    "- On each grid, there are 4 possibilities\n",
    "    - S: starting point, safe (code = 'SFFF')\n",
    "    - F: frozen surface, safe (code = 'FHFH')\n",
    "    - H: hole, fall to your doom (code = 'FFFH')\n",
    "    - G: goal, where the frisbee is located ('HFFG')\n",
    "    - ![](./images/gridworld_examples.png)\n",
    "\n",
    "### Goal of Frozen Lake\n",
    "The key here is we want to get to **G** without falling into the hole **H** in the shortest amount of time\n",
    "\n",
    "### Why Dynamic Programming?\n",
    "In this game, we know our transition probability function and reward function, essentially the whole environment, allowing us to turn this game into a simple planning problem via dynamic programming through 4 simple functions: (1) policy evaluation (2) policy improvement (3) policy iteration or (4) value iteration\n",
    "\n",
    "Before we explore how to solve this game, let's first understand how the game works in detail."
   ]
  },
  {
   "cell_type": "markdown",
   "metadata": {},
   "source": [
    "### Deterministic Policy Environment"
   ]
  },
  {
   "cell_type": "code",
   "execution_count": 1,
   "metadata": {
    "collapsed": true
   },
   "outputs": [],
   "source": [
    "# Import gym, installable via `pip install gym`\n",
    "import gym"
   ]
  },
  {
   "cell_type": "code",
   "execution_count": 2,
   "metadata": {
    "collapsed": true
   },
   "outputs": [],
   "source": [
    "# Environment environment Slippery (stochastic policy, move left probability = 1/3) comes by default!\n",
    "# If we want deterministic policy, we need to create new environment\n",
    "# Make environment No Slippery (deterministic policy, move left = left)\n",
    "\n",
    "gym.envs.register(\n",
    "    id='FrozenLakeNotSlippery-v0',\n",
    "    entry_point='gym.envs.toy_text:FrozenLakeEnv',\n",
    "    kwargs={'map_name' : '4x4', 'is_slippery': False},\n",
    "    max_episode_steps=100,\n",
    "    reward_threshold=0.78, # optimum = .8196\n",
    ")\n",
    "\n",
    "# You can only register once\n",
    "# To delete any new environment\n",
    "# del gym.envs.registry.env_specs['FrozenLakeNotSlippery-v0']"
   ]
  },
  {
   "cell_type": "code",
   "execution_count": 3,
   "metadata": {
    "collapsed": true
   },
   "outputs": [],
   "source": [
    "# Make the environment based on deterministic policy\n",
    "env = gym.make('FrozenLakeNotSlippery-v0')"
   ]
  },
  {
   "cell_type": "code",
   "execution_count": 4,
   "metadata": {},
   "outputs": [
    {
     "name": "stdout",
     "output_type": "stream",
     "text": [
      "Discrete(16)\n"
     ]
    }
   ],
   "source": [
    "# State space\n",
    "print(env.observation_space)"
   ]
  },
  {
   "cell_type": "code",
   "execution_count": 5,
   "metadata": {},
   "outputs": [
    {
     "name": "stdout",
     "output_type": "stream",
     "text": [
      "16\n"
     ]
    }
   ],
   "source": [
    "S_n = env.observation_space.n\n",
    "print(S_n)"
   ]
  },
  {
   "cell_type": "code",
   "execution_count": 6,
   "metadata": {},
   "outputs": [
    {
     "name": "stdout",
     "output_type": "stream",
     "text": [
      "8\n",
      "7\n",
      "0\n",
      "8\n",
      "0\n",
      "7\n",
      "10\n",
      "5\n",
      "14\n",
      "14\n"
     ]
    }
   ],
   "source": [
    "# We should expect to see 15 possible grids from 0 to 15 when\n",
    "# we uniformly randomly sample from our observation space\n",
    "for i in range(10):\n",
    "    print(env.observation_space.sample())"
   ]
  },
  {
   "cell_type": "code",
   "execution_count": 7,
   "metadata": {},
   "outputs": [
    {
     "name": "stdout",
     "output_type": "stream",
     "text": [
      "Discrete(4)\n"
     ]
    }
   ],
   "source": [
    "# Action space\n",
    "print(env.action_space)"
   ]
  },
  {
   "cell_type": "code",
   "execution_count": 8,
   "metadata": {},
   "outputs": [
    {
     "name": "stdout",
     "output_type": "stream",
     "text": [
      "4\n"
     ]
    }
   ],
   "source": [
    "A_n = env.action_space.n\n",
    "print(A_n)"
   ]
  },
  {
   "cell_type": "code",
   "execution_count": 9,
   "metadata": {},
   "outputs": [
    {
     "name": "stdout",
     "output_type": "stream",
     "text": [
      "3\n",
      "0\n",
      "0\n",
      "0\n",
      "0\n",
      "3\n",
      "3\n",
      "3\n",
      "1\n",
      "3\n"
     ]
    }
   ],
   "source": [
    "# We should expect to see 4 actions when\n",
    "# we uniformly randomly sample:\n",
    "#     1. LEFT: 0\n",
    "#     2. DOWN = 1\n",
    "#     3. RIGHT = 2\n",
    "#     4. UP = 3\n",
    "for i in range(10):\n",
    "    print(env.action_space.sample())"
   ]
  },
  {
   "cell_type": "markdown",
   "metadata": {},
   "source": [
    "####  Making Steps"
   ]
  },
  {
   "cell_type": "code",
   "execution_count": 47,
   "metadata": {},
   "outputs": [
    {
     "name": "stdout",
     "output_type": "stream",
     "text": [
      "\n",
      "\u001b[41mS\u001b[0mFFF\n",
      "FHFH\n",
      "FFFH\n",
      "HFFG\n"
     ]
    }
   ],
   "source": [
    "# This sets the initial state at S, our starting point\n",
    "# We can render the environment to see where we are on the 4x4 frozenlake gridworld\n",
    "env.reset()\n",
    "env.render()"
   ]
  },
  {
   "cell_type": "code",
   "execution_count": 11,
   "metadata": {},
   "outputs": [
    {
     "name": "stdout",
     "output_type": "stream",
     "text": [
      "  (Left)\n",
      "\u001b[41mS\u001b[0mFFF\n",
      "FHFH\n",
      "FFFH\n",
      "HFFG\n",
      "0 0.0 False {'prob': 1.0}\n"
     ]
    }
   ],
   "source": [
    "# Go left (action=0), nothing should happen, and we should stay at the starting point, because there's no grid on the left\n",
    "env.reset()\n",
    "action = 0\n",
    "(observation, reward, done, prob) = env.step(action)\n",
    "env.render()\n",
    "\n",
    "# Observation = 1: move to grid number 1 (unchanged)\n",
    "# Prob = 1: deterministic policy, if we choose to go left, we'll go left\n",
    "print(observation, reward, done, prob)"
   ]
  },
  {
   "cell_type": "code",
   "execution_count": 12,
   "metadata": {},
   "outputs": [
    {
     "name": "stdout",
     "output_type": "stream",
     "text": [
      "  (Down)\n",
      "SFFF\n",
      "\u001b[41mF\u001b[0mHFH\n",
      "FFFH\n",
      "HFFG\n",
      "4 0.0 False {'prob': 1.0}\n"
     ]
    }
   ],
   "source": [
    "# Go down (action = 1), we should be safe as we step on frozen grid\n",
    "env.reset()\n",
    "action = 1\n",
    "(observation, reward, done, prob) = env.step(action)\n",
    "env.render()\n",
    "\n",
    "# Observation = 4: move to grid number 4\n",
    "# Prob = 1: deterministic policy, if we choose to go down we'll go down\n",
    "print(observation, reward, done, prob)"
   ]
  },
  {
   "cell_type": "code",
   "execution_count": 13,
   "metadata": {},
   "outputs": [
    {
     "name": "stdout",
     "output_type": "stream",
     "text": [
      "  (Right)\n",
      "S\u001b[41mF\u001b[0mFF\n",
      "FHFH\n",
      "FFFH\n",
      "HFFG\n",
      "1 0.0 False {'prob': 1.0}\n"
     ]
    }
   ],
   "source": [
    "# Go right (action = 2), we should be safe as we step on frozen grid\n",
    "env.reset()\n",
    "action = 2\n",
    "(observation, reward, done, prob) = env.step(action)\n",
    "env.render()\n",
    "\n",
    "# Observation = 1: move to grid number 1\n",
    "# Prob = 1: deterministic policy, if we choose to go right we'll go right\n",
    "print(observation, reward, done, prob)"
   ]
  },
  {
   "cell_type": "code",
   "execution_count": 14,
   "metadata": {},
   "outputs": [
    {
     "name": "stdout",
     "output_type": "stream",
     "text": [
      "  (Right)\n",
      "S\u001b[41mF\u001b[0mFF\n",
      "FHFH\n",
      "FFFH\n",
      "HFFG\n",
      "  (Right)\n",
      "SF\u001b[41mF\u001b[0mF\n",
      "FHFH\n",
      "FFFH\n",
      "HFFG\n",
      "2 0.0 False {'prob': 1.0}\n"
     ]
    }
   ],
   "source": [
    "# Go right twice (action = 2), we should be safe as we step on 2 frozen grids\n",
    "env.reset()\n",
    "action = 2\n",
    "(observation, reward, done, prob) = env.step(action)\n",
    "env.render()\n",
    "(observation, reward, done, prob) = env.step(action)\n",
    "env.render()\n",
    "\n",
    "# Observation = 2: move to the right twice from grid 0 to grid 2\n",
    "# Prob = 1: deterministic policy, if we choose to go right twice we'll go right twice\n",
    "print(observation, reward, done, prob)"
   ]
  },
  {
   "cell_type": "markdown",
   "metadata": {},
   "source": [
    "#### Dying: drop in hole grid 12,  H"
   ]
  },
  {
   "cell_type": "code",
   "execution_count": 15,
   "metadata": {},
   "outputs": [
    {
     "name": "stdout",
     "output_type": "stream",
     "text": [
      "  (Down)\n",
      "SFFF\n",
      "\u001b[41mF\u001b[0mHFH\n",
      "FFFH\n",
      "HFFG\n",
      "  (Down)\n",
      "SFFF\n",
      "FHFH\n",
      "\u001b[41mF\u001b[0mFFH\n",
      "HFFG\n",
      "  (Down)\n",
      "SFFF\n",
      "FHFH\n",
      "FFFH\n",
      "\u001b[41mH\u001b[0mFFG\n",
      "12 0.0 True {'prob': 1.0}\n"
     ]
    }
   ],
   "source": [
    "# Go down thrice (action = 1), we will die as we step onto the grid with a hole\n",
    "env.reset()\n",
    "action = 1\n",
    "(observation, reward, done, prob) = env.step(action)\n",
    "env.render()\n",
    "(observation, reward, done, prob) = env.step(action)\n",
    "env.render()\n",
    "(observation, reward, done, prob) = env.step(action)\n",
    "env.render()\n",
    "\n",
    "# Observation = 2: move to the right twice from grid 0 to grid 2\n",
    "# Prob = 1: deterministic policy, if we choose to go right twice we'll go right twice\n",
    "# Done = True because the game ends when we die (go onto hole grid (H) or finish the game (G))\n",
    "print(observation, reward, done, prob)"
   ]
  },
  {
   "cell_type": "markdown",
   "metadata": {},
   "source": [
    "#### Winning: get to grid 15, G"
   ]
  },
  {
   "cell_type": "code",
   "execution_count": 16,
   "metadata": {},
   "outputs": [
    {
     "name": "stdout",
     "output_type": "stream",
     "text": [
      "  (Right)\n",
      "S\u001b[41mF\u001b[0mFF\n",
      "FHFH\n",
      "FFFH\n",
      "HFFG\n",
      "  (Right)\n",
      "SF\u001b[41mF\u001b[0mF\n",
      "FHFH\n",
      "FFFH\n",
      "HFFG\n",
      "  (Down)\n",
      "SFFF\n",
      "FH\u001b[41mF\u001b[0mH\n",
      "FFFH\n",
      "HFFG\n",
      "  (Down)\n",
      "SFFF\n",
      "FHFH\n",
      "FF\u001b[41mF\u001b[0mH\n",
      "HFFG\n",
      "  (Down)\n",
      "SFFF\n",
      "FHFH\n",
      "FFFH\n",
      "HF\u001b[41mF\u001b[0mG\n",
      "  (Right)\n",
      "SFFF\n",
      "FHFH\n",
      "FFFH\n",
      "HFF\u001b[41mG\u001b[0m\n",
      "15 1.0 True {'prob': 1.0}\n"
     ]
    }
   ],
   "source": [
    "# Go right twice (action = 2), go down thrice (action = 1), go right once (action = 2)\n",
    "env.reset()\n",
    "\n",
    "# Right Twice\n",
    "action = 2\n",
    "(observation, reward, done, prob) = env.step(action)\n",
    "env.render()\n",
    "(observation, reward, done, prob) = env.step(action)\n",
    "env.render()\n",
    "\n",
    "# Down Thrice\n",
    "action = 1\n",
    "(observation, reward, done, prob) = env.step(action)\n",
    "env.render()\n",
    "(observation, reward, done, prob) = env.step(action)\n",
    "env.render()\n",
    "(observation, reward, done, prob) = env.step(action)\n",
    "env.render()\n",
    "\n",
    "# Right Once\n",
    "action = 2\n",
    "(observation, reward, done, prob) = env.step(action)\n",
    "env.render()\n",
    "\n",
    "# Observation = 2: move to the right twice from grid 0 to grid 2\n",
    "# Prob = 1: deterministic policy, if we choose to go right twice we'll go right twice\n",
    "# Done = True because the game ends when we die (go onto hole grid (H) or finish the game (G))\n",
    "print(observation, reward, done, prob)"
   ]
  },
  {
   "cell_type": "markdown",
   "metadata": {},
   "source": [
    "### Non-deterministic Policy Environment"
   ]
  },
  {
   "cell_type": "code",
   "execution_count": 17,
   "metadata": {
    "collapsed": true
   },
   "outputs": [],
   "source": [
    "# Make the environment based on deterministic policy\n",
    "env = gym.make('FrozenLake-v0')"
   ]
  },
  {
   "cell_type": "code",
   "execution_count": 18,
   "metadata": {},
   "outputs": [
    {
     "name": "stdout",
     "output_type": "stream",
     "text": [
      "  (Right)\n",
      "\u001b[41mS\u001b[0mFFF\n",
      "FHFH\n",
      "FFFH\n",
      "HFFG\n",
      "0 0.0 False {'prob': 0.3333333333333333}\n"
     ]
    }
   ],
   "source": [
    "# Go right once (action = 2), we should go to the right but we did not!\n",
    "env.seed(8)\n",
    "env.reset()\n",
    "action = 2\n",
    "(observation, reward, done, prob) = env.step(action)\n",
    "env.render()\n",
    "\n",
    "# Observation = 0: move to the right once from grid 0 to grid 1\n",
    "# Prob = 1/3: non-deterministic policy, if we choose to go right, there's only a 1/3 probability we would go to the right and with this environment seed we did not\n",
    "print(observation, reward, done, prob)"
   ]
  },
  {
   "cell_type": "code",
   "execution_count": 19,
   "metadata": {
    "scrolled": false
   },
   "outputs": [
    {
     "name": "stdout",
     "output_type": "stream",
     "text": [
      "  (Right)\n",
      "\u001b[41mS\u001b[0mFFF\n",
      "FHFH\n",
      "FFFH\n",
      "HFFG\n",
      "  (Right)\n",
      "S\u001b[41mF\u001b[0mFF\n",
      "FHFH\n",
      "FFFH\n",
      "HFFG\n",
      "  (Right)\n",
      "SF\u001b[41mF\u001b[0mF\n",
      "FHFH\n",
      "FFFH\n",
      "HFFG\n",
      "  (Right)\n",
      "SFFF\n",
      "FH\u001b[41mF\u001b[0mH\n",
      "FFFH\n",
      "HFFG\n",
      "  (Right)\n",
      "SFFF\n",
      "FHF\u001b[41mH\u001b[0m\n",
      "FFFH\n",
      "HFFG\n",
      "  (Right)\n",
      "SFFF\n",
      "FHF\u001b[41mH\u001b[0m\n",
      "FFFH\n",
      "HFFG\n",
      "  (Right)\n",
      "SFFF\n",
      "FHF\u001b[41mH\u001b[0m\n",
      "FFFH\n",
      "HFFG\n",
      "  (Right)\n",
      "SFFF\n",
      "FHF\u001b[41mH\u001b[0m\n",
      "FFFH\n",
      "HFFG\n",
      "  (Right)\n",
      "SFFF\n",
      "FHF\u001b[41mH\u001b[0m\n",
      "FFFH\n",
      "HFFG\n",
      "  (Right)\n",
      "SFFF\n",
      "FHF\u001b[41mH\u001b[0m\n",
      "FFFH\n",
      "HFFG\n"
     ]
    }
   ],
   "source": [
    "# Try to go to the right 10 times, let's see how many times it goes to the right, by right we won't die because we would end up at the extreme right of grid 3\n",
    "# See how it can go down/left/up/nothing instead of just right? \n",
    "# Intuitively when we are moving on a frozen lake, some times when we want to walk one direction we may end up in another direction as it's slippery\n",
    "# Setting seed here of the environment so you can reproduce my results, otherwise stochastic policy will yield different results for each run\n",
    "env.seed(8)\n",
    "env.reset()\n",
    "for i in range(10):\n",
    "    action = 2\n",
    "    (observation, reward, done, prob) = env.step(action)\n",
    "    env.render()"
   ]
  },
  {
   "cell_type": "markdown",
   "metadata": {},
   "source": [
    "### Custom Frozen Lake Non-deterministic Policy Environment\n",
    "- Because original code from [OpenAI](https://github.com/openai/gym/blob/master/gym/envs/toy_text/frozen_lake.py) only allows us to run `env.step(action)`, this is challenging if we want to do some visualization of our state-value and action-value (q-value) functions for learning\n",
    "- Hence, we'll be copying the whole code from [OpenAI Frozen Lake implementation](https://github.com/openai/gym/blob/master/gym/envs/toy_text/frozen_lake.py) and adding just one line to make sure we can get P via `self.P = P`\n",
    "- This code is not important, you can just copy it"
   ]
  },
  {
   "cell_type": "code",
   "execution_count": 20,
   "metadata": {
    "collapsed": true
   },
   "outputs": [],
   "source": [
    "import sys\n",
    "from contextlib import closing\n",
    "\n",
    "import numpy as np\n",
    "from six import StringIO, b\n",
    "\n",
    "from gym import utils\n",
    "from gym.envs.toy_text import discrete\n",
    "\n",
    "LEFT = 0\n",
    "DOWN = 1\n",
    "RIGHT = 2\n",
    "UP = 3\n",
    "\n",
    "MAPS = {\n",
    "    \"4x4\": [\n",
    "        \"SFFF\",\n",
    "        \"FHFH\",\n",
    "        \"FFFH\",\n",
    "        \"HFFG\"\n",
    "    ],\n",
    "    \"8x8\": [\n",
    "        \"SFFFFFFF\",\n",
    "        \"FFFFFFFF\",\n",
    "        \"FFFHFFFF\",\n",
    "        \"FFFFFHFF\",\n",
    "        \"FFFHFFFF\",\n",
    "        \"FHHFFFHF\",\n",
    "        \"FHFFHFHF\",\n",
    "        \"FFFHFFFG\"\n",
    "    ],\n",
    "}\n",
    "\n",
    "# Generates a random valid map (one that has a path from start to goal)\n",
    "# @params size, size of each side of the grid\n",
    "# @prams p, probability that a tile is frozen\n",
    "def generate_random_map(size=8, p=0.8):\n",
    "    valid = False\n",
    "    \n",
    "    #BFS to check that it's a valid path\n",
    "    def is_valid(arr, r=0, c=0):\n",
    "        if arr[r][c] == 'G':\n",
    "            return True\n",
    "        \n",
    "        tmp = arr[r][c]\n",
    "        arr[r][c] = \"#\"\n",
    "        \n",
    "        if r+1 < size and arr[r+1][c] not in '#H':\n",
    "            if is_valid(arr, r+1, c) == True:\n",
    "                arr[r][c] = tmp\n",
    "                return True\n",
    "        \n",
    "        if c+1 < size and arr[r][c+1] not in '#H':\n",
    "            if is_valid(arr, r, c+1) == True:\n",
    "                arr[r][c] = tmp\n",
    "                return True\n",
    "        \n",
    "        if r-1 >= 0 and arr[r-1][c] not in '#H':\n",
    "            if is_valid(arr, r-1, c) == True:\n",
    "                arr[r][c] = tmp\n",
    "                return True\n",
    "        \n",
    "        if c-1 >= 0 and arr[r][c-1] not in '#H':\n",
    "            if is_valid(arr,r, c-1) == True:\n",
    "                arr[r][c] = tmp\n",
    "                return True\n",
    "        arr[r][c] = tmp\n",
    "        return False\n",
    "\n",
    "    while not valid:\n",
    "        p = min(1, p)\n",
    "        res = np.random.choice(['F','H'], (size, size), p=[p, 1-p])\n",
    "        res[0][0] = 'S'\n",
    "        res[-1][-1] = 'G'\n",
    "        valid = is_valid(res)\n",
    "    return [\"\".join(x) for x in res]\n",
    "\n",
    "\n",
    "class FrozenLakeEnv(discrete.DiscreteEnv):\n",
    "    \"\"\"\n",
    "    Winter is here. You and your friends were tossing around a frisbee at the park\n",
    "    when you made a wild throw that left the frisbee out in the middle of the lake.\n",
    "    The water is mostly frozen, but there are a few holes where the ice has melted.\n",
    "    If you step into one of those holes, you'll fall into the freezing water.\n",
    "    At this time, there's an international frisbee shortage, so it's absolutely imperative that\n",
    "    you navigate across the lake and retrieve the disc.\n",
    "    However, the ice is slippery, so you won't always move in the direction you intend.\n",
    "    The surface is described using a grid like the following\n",
    "        SFFF\n",
    "        FHFH\n",
    "        FFFH\n",
    "        HFFG\n",
    "    S : starting point, safe\n",
    "    F : frozen surface, safe\n",
    "    H : hole, fall to your doom\n",
    "    G : goal, where the frisbee is located\n",
    "    The episode ends when you reach the goal or fall in a hole.\n",
    "    You receive a reward of 1 if you reach the goal, and zero otherwise.\n",
    "    \"\"\"\n",
    "\n",
    "    metadata = {'render.modes': ['human', 'ansi']}\n",
    "\n",
    "    def __init__(self, desc=None, map_name=\"4x4\",is_slippery=True):\n",
    "        if desc is None and map_name is None:\n",
    "            desc = generate_random_map()\n",
    "        elif desc is None:\n",
    "            desc = MAPS[map_name]\n",
    "        self.desc = desc = np.asarray(desc,dtype='c')\n",
    "        self.nrow, self.ncol = nrow, ncol = desc.shape\n",
    "        self.reward_range = (0, 1)\n",
    "\n",
    "        nA = 4\n",
    "        nS = nrow * ncol\n",
    "\n",
    "        isd = np.array(desc == b'S').astype('float64').ravel()\n",
    "        isd /= isd.sum()\n",
    "\n",
    "        P = {s : {a : [] for a in range(nA)} for s in range(nS)}\n",
    "\n",
    "        def to_s(row, col):\n",
    "            return row*ncol + col\n",
    "        \n",
    "        def inc(row, col, a):\n",
    "            if a==0: # left\n",
    "                col = max(col-1,0)\n",
    "            elif a==1: # down\n",
    "                row = min(row+1,nrow-1)\n",
    "            elif a==2: # right\n",
    "                col = min(col+1,ncol-1)\n",
    "            elif a==3: # up\n",
    "                row = max(row-1,0)\n",
    "            return (row, col)\n",
    "\n",
    "        for row in range(nrow):\n",
    "            for col in range(ncol):\n",
    "                s = to_s(row, col)\n",
    "                for a in range(4):\n",
    "                    li = P[s][a]\n",
    "                    letter = desc[row, col]\n",
    "                    if letter in b'GH':\n",
    "                        li.append((1.0, s, 0, True))\n",
    "                    else:\n",
    "                        if is_slippery:\n",
    "                            for b in [(a-1)%4, a, (a+1)%4]:\n",
    "                                newrow, newcol = inc(row, col, b)\n",
    "                                newstate = to_s(newrow, newcol)\n",
    "                                newletter = desc[newrow, newcol]\n",
    "                                done = bytes(newletter) in b'GH'\n",
    "                                rew = float(newletter == b'G')\n",
    "                                li.append((1.0/3.0, newstate, rew, done))\n",
    "                        else:\n",
    "                            newrow, newcol = inc(row, col, a)\n",
    "                            newstate = to_s(newrow, newcol)\n",
    "                            newletter = desc[newrow, newcol]\n",
    "                            done = bytes(newletter) in b'GH'\n",
    "                            rew = float(newletter == b'G')\n",
    "                            li.append((1.0, newstate, rew, done))\n",
    "\n",
    "        # New change because environment only allows step without\n",
    "        # specific state for learning environment!\n",
    "        self.P = P\n",
    "        \n",
    "        super(FrozenLakeEnv, self).__init__(nS, nA, P, isd)\n",
    "\n",
    "    def render(self, mode='human'):\n",
    "        outfile = StringIO() if mode == 'ansi' else sys.stdout\n",
    "\n",
    "        row, col = self.s // self.ncol, self.s % self.ncol\n",
    "        desc = self.desc.tolist()\n",
    "        desc = [[c.decode('utf-8') for c in line] for line in desc]\n",
    "        desc[row][col] = utils.colorize(desc[row][col], \"red\", highlight=True)\n",
    "        if self.lastaction is not None:\n",
    "            outfile.write(\"  ({})\\n\".format([\"Left\",\"Down\",\"Right\",\"Up\"][self.lastaction]))\n",
    "        else:\n",
    "            outfile.write(\"\\n\")\n",
    "        outfile.write(\"\\n\".join(''.join(line) for line in desc)+\"\\n\")\n",
    "\n",
    "        if mode != 'human':\n",
    "            with closing(outfile):\n",
    "                return outfile.getvalue()"
   ]
  },
  {
   "cell_type": "markdown",
   "metadata": {},
   "source": [
    "## Policy Evaluation"
   ]
  },
  {
   "cell_type": "markdown",
   "metadata": {},
   "source": [
    "### Transition Probability Function\n",
    "- $\\mathcal{P}_{ss'}^a = \\mathcal{P}(s' \\vert s, a)  = \\mathbb{P} [S_{t+1} = s' \\vert S_t = s, A_t = a]$"
   ]
  },
  {
   "cell_type": "markdown",
   "metadata": {},
   "source": [
    "#### Deterministic Environment \n",
    "- There's no probability distribution, if you decide to go left you'll go left\n",
    "- Hence in this example, given `current_state = 8` and `action = 0` which is left, we will end up with `probability = 1` in `new_state = 9`"
   ]
  },
  {
   "cell_type": "code",
   "execution_count": 21,
   "metadata": {},
   "outputs": [
    {
     "name": "stdout",
     "output_type": "stream",
     "text": [
      "Probability 1.0, New State 9\n"
     ]
    }
   ],
   "source": [
    "# Deterministic\n",
    "env = FrozenLakeEnv(is_slippery=False)\n",
    "\n",
    "current_state = 10  # State from S_n=16 State space\n",
    "action = 0  # Left action from A_n=4 Action space\n",
    "[(probability, new_state, reward, done)] = env.P[current_state][action]\n",
    "\n",
    "print('Probability {}, New State {}'.format(probability, new_state))"
   ]
  },
  {
   "cell_type": "markdown",
   "metadata": {},
   "source": [
    "#### Stochastic Environment \n",
    "- Given $S_t = 10, A_t = 0$ in a stochastic environment, the transition probability functions indicate you can end up in grid 6, 9, 14 each with 1/3 probability:\n",
    "    - $\\mathbb{P} [S_{t+1} = 6 \\vert S_t = 10, A_t = 0] = \\frac{1}{3}$\n",
    "    - $\\mathbb{P} [S_{t+1} = 9 \\vert S_t = 10, A_t = 0] = \\frac{1}{3}$\n",
    "    - $\\mathbb{P} [S_{t+1} = 14 \\vert S_t = 10, A_t = 0] = \\frac{1}{3}$"
   ]
  },
  {
   "cell_type": "code",
   "execution_count": 22,
   "metadata": {},
   "outputs": [
    {
     "data": {
      "text/plain": [
       "[(0.3333333333333333, 6, 0.0, False),\n",
       " (0.3333333333333333, 9, 0.0, False),\n",
       " (0.3333333333333333, 14, 0.0, False)]"
      ]
     },
     "execution_count": 22,
     "metadata": {},
     "output_type": "execute_result"
    }
   ],
   "source": [
    "# Stochastic\n",
    "env = FrozenLakeEnv(is_slippery=True)\n",
    "\n",
    "current_state = 10  # State from S_n=16 State space\n",
    "action = 0  # Left action from A_n=4 Action space\n",
    "env.P[current_state][action]"
   ]
  },
  {
   "cell_type": "markdown",
   "metadata": {},
   "source": [
    "### Random Policy Function"
   ]
  },
  {
   "cell_type": "code",
   "execution_count": 23,
   "metadata": {
    "scrolled": true
   },
   "outputs": [
    {
     "name": "stdout",
     "output_type": "stream",
     "text": [
      "(16, 4)\n"
     ]
    }
   ],
   "source": [
    "# Random policy generation\n",
    "def generate_random_policy(S_n, A_n):\n",
    "    # return np.random.randint(A_n, size=(S_n, A_n))\n",
    "    return np.ones([S_n, A_n]) / A_n\n",
    "\n",
    "# Given the total number of states S_n = 16\n",
    "# For each state out of 16 states, we can take 4 actions\n",
    "# Since this is a stochastic environment, we'll initialize a policy to have equal probabilities 0.25 of doing each action each state\n",
    "policy = generate_random_policy(S_n, A_n)\n",
    "print(policy.shape)"
   ]
  },
  {
   "cell_type": "code",
   "execution_count": 24,
   "metadata": {},
   "outputs": [
    {
     "data": {
      "image/png": "[encoded data removed]",
      "text/plain": [
       "<matplotlib.figure.Figure at 0x7ffa01ab35f8>"
      ]
     },
     "metadata": {},
     "output_type": "display_data"
    }
   ],
   "source": [
    "import seaborn as sns\n",
    "import matplotlib.pyplot as plt\n",
    "%matplotlib inline\n",
    "plt.figure(figsize=(5, 16))\n",
    "sns.heatmap(policy,  cmap=\"YlGnBu\", annot=True, cbar=False);"
   ]
  },
  {
   "cell_type": "markdown",
   "metadata": {},
   "source": [
    "### Policy Evaluation Function comprising State-value Function\n",
    "- How: $\\mathcal{V}_{\\pi}(s) = \\sum_{a \\in \\mathcal{A}} \\pi(a | s) \\sum_{s' \\in \\mathcal{S}}  \\mathcal{P}_{ss'}^a \\big[\\mathcal{R}_s^a + \\gamma  {V}_{\\pi}(s')\\big]$\n",
    "    - Simple code equation:\n",
    "        - Values of state given policy = sum ( action probability \\* transition probability \\* [reward + discount \\* value of new state] )\n",
    "- **Aim: getting state-values**"
   ]
  },
  {
   "cell_type": "code",
   "execution_count": 25,
   "metadata": {
    "collapsed": true
   },
   "outputs": [],
   "source": [
    "import numpy as np\n",
    "\n",
    "def policy_evaluation(env, policy, gamma=1., theta=1e-8):\n",
    "    r\"\"\"Policy evaluation function. Loop until state values stable, delta < theta.\n",
    "    \n",
    "    Returns V comprising values of states under given policy.\n",
    "    \n",
    "    Args:\n",
    "        env (gym.env): OpenAI environment class instantiated and assigned to an object.\n",
    "        policy (np.array): policy array to evaluate\n",
    "        gamma (float): discount rate for rewards\n",
    "        theta (float): tiny positive number, anything below it indicates value function convergence\n",
    "    \"\"\"\n",
    "    # 1. Create state-value array (16,)\n",
    "    V = np.zeros(S_n)\n",
    "    while True:\n",
    "        delta = 0\n",
    "        \n",
    "        # 2. Loop through states\n",
    "        for s in range(S_n):\n",
    "            Vs = 0\n",
    "            \n",
    "            # 2.1 Loop through actions for the unique state\n",
    "            # Given each state, we've 4 actions associated with different probabilities\n",
    "            # 0.25 x 4 in this case, so we'll be looping 4 times (4 action probabilities) at each state\n",
    "            for a, action_prob in enumerate(policy[s]):\n",
    "                # 2.1.1 Loop through to get transition probabilities, next state, rewards and whether the game ended\n",
    "                for prob, next_state, reward, done in env.P[s][a]:\n",
    "                    # State-value function to get our values of states given policy\n",
    "                    Vs += action_prob * prob * (reward + gamma * V[next_state])\n",
    "                    \n",
    "            # This simple equation allows us to stop this loop when we've converged\n",
    "            # How do we know? The new value of the state is smaller than a tiny positive value we set\n",
    "            # State value change is tiny compared to what we have so we just stop!\n",
    "            delta = max(delta, np.abs(V[s]-Vs))\n",
    "            \n",
    "            # 2.2 Update our state value for that state\n",
    "            V[s] = Vs\n",
    "            \n",
    "        # 3. Stop policy evaluation if our state values changes are smaller than our tiny positive number\n",
    "        if delta < theta:\n",
    "            break\n",
    "    \n",
    "    return V"
   ]
  },
  {
   "cell_type": "code",
   "execution_count": 26,
   "metadata": {
    "collapsed": true
   },
   "outputs": [],
   "source": [
    "# Generate random policy with equal probabilities of each action given any state\n",
    "rand_policy = generate_random_policy(S_n, A_n)\n",
    "\n",
    "# Evaluate the policy to get state values\n",
    "V = policy_evaluation(env, rand_policy)"
   ]
  },
  {
   "cell_type": "code",
   "execution_count": 27,
   "metadata": {},
   "outputs": [
    {
     "data": {
      "image/png": "[encoded data removed]",
      "text/plain": [
       "<matplotlib.figure.Figure at 0x7ff9f821f550>"
      ]
     },
     "metadata": {},
     "output_type": "display_data"
    }
   ],
   "source": [
    "# Plot heatmap\n",
    "plt.figure(figsize=(8, 8))\n",
    "sns.heatmap(V.reshape(4, 4),  cmap=\"YlGnBu\", annot=True, cbar=False);"
   ]
  },
  {
   "cell_type": "code",
   "execution_count": 28,
   "metadata": {},
   "outputs": [
    {
     "name": "stdout",
     "output_type": "stream",
     "text": [
      "\n",
      "\u001b[41mS\u001b[0mFFF\n",
      "FHFH\n",
      "FFFH\n",
      "HFFG\n"
     ]
    }
   ],
   "source": [
    "# This is our environment\n",
    "# Notice how the state values near the goal have higher values?\n",
    "# Those with \"H\" = hole, where you die if you step, have 0 values indicating those are bad areas to be in\n",
    "env.render()"
   ]
  },
  {
   "cell_type": "markdown",
   "metadata": {},
   "source": [
    "## Policy Improvement"
   ]
  },
  {
   "cell_type": "markdown",
   "metadata": {},
   "source": [
    "### Action-value (Q-value) function from State-value function\n",
    "- How: $\\mathcal{Q}_{\\pi}(s, a) = \\sum_{s' \\in \\mathcal{S}} \\mathcal{P}_{ss'}^a \\big[ \\mathcal{R}_s^a + \\gamma  \\mathcal{V}_{\\pi}(s') \\big]$\n",
    "    - Code equation\n",
    "        - Values of action = sum ( transition probability \\* [reward + discount \\* value of next state] )\n",
    "- **Aim: getting q-values (action-values)**"
   ]
  },
  {
   "cell_type": "code",
   "execution_count": 29,
   "metadata": {
    "collapsed": true
   },
   "outputs": [],
   "source": [
    "def q_value(env, V, s, gamma=1):\n",
    "    r\"\"\"Q-value (action-value) function from state-value function\n",
    "    \n",
    "    Returns Q values, values of actions.\n",
    "    \n",
    "    Args:\n",
    "        env (gym.env): OpenAI environment class instantiated and assigned to an object.\n",
    "        V (np.array): array of state-values obtained from policy evaluation function.\n",
    "        s (integer): integer representing current state in the gridworld\n",
    "        gamma (float): discount rate for rewards.\n",
    "    \"\"\"\n",
    "    # 1. Create q-value array for one state\n",
    "    # We have 4 actions, so let's create an array with the size of 4\n",
    "    q = np.zeros(A_n)\n",
    "    \n",
    "    # 2. Loop through each action\n",
    "    for a in range(A_n):\n",
    "        # 2.1 For each action, we've our transition probabilities, next state, rewards and whether the game ended\n",
    "        for prob, next_state, reward, done in env.P[s][a]:\n",
    "            # 2.1.1 Get our action-values from state-values\n",
    "            q[a] += prob * (reward + gamma * V[next_state])\n",
    "            \n",
    "    # Return action values\n",
    "    return q"
   ]
  },
  {
   "cell_type": "code",
   "execution_count": 30,
   "metadata": {
    "collapsed": true
   },
   "outputs": [],
   "source": [
    "# For every state, we've 4 actions, hence we've 16 x 4 q values\n",
    "Q = np.zeros([S_n, A_n])\n",
    "\n",
    "# Loop through each state out of 16\n",
    "# For each state, we will get the 4 q-values associated with the 4 actions\n",
    "for s in range(env.nS):\n",
    "    Q[s] = q_value(env, V, s)"
   ]
  },
  {
   "cell_type": "code",
   "execution_count": 31,
   "metadata": {},
   "outputs": [
    {
     "data": {
      "image/png": "[encoded data removed]",
      "text/plain": [
       "<matplotlib.figure.Figure at 0x7ff9f8219860>"
      ]
     },
     "metadata": {},
     "output_type": "display_data"
    }
   ],
   "source": [
    "plt.figure(figsize=(5, 16))\n",
    "sns.heatmap(Q,  cmap=\"YlGnBu\", annot=True, cbar=False);"
   ]
  },
  {
   "cell_type": "code",
   "execution_count": 32,
   "metadata": {
    "scrolled": true
   },
   "outputs": [
    {
     "name": "stdout",
     "output_type": "stream",
     "text": [
      "\n",
      "\u001b[41mS\u001b[0mFFF\n",
      "FHFH\n",
      "FFFH\n",
      "HFFG\n"
     ]
    }
   ],
   "source": [
    "# Notice how 13/14, those in the last row of the gridworld just before reaching the goal of finishing the game, their action values are large?\n",
    "env.render()"
   ]
  },
  {
   "cell_type": "markdown",
   "metadata": {},
   "source": [
    "### Policy Improvement Function\n",
    "- How: maximizing q-values per state by choosing actions with highest q-values\n",
    "- Aim: get improved policy"
   ]
  },
  {
   "cell_type": "code",
   "execution_count": 33,
   "metadata": {
    "collapsed": true
   },
   "outputs": [],
   "source": [
    "def policy_improvement(env, V, gamma=1.):\n",
    "    r\"\"\"Function to improve the policy by utilizing state values and action (q) values.\n",
    "    \n",
    "    Args:\n",
    "        env (gym.env): OpenAI environment class instantiated and assigned to an objects\n",
    "        V (np.array): array of state-values obtained from policy evaluation function\n",
    "        gamma (float): discount of rewards\n",
    "    \"\"\"\n",
    "    # 1. Blank policy\n",
    "    policy = np.zeros([env.nS, env.nA]) / env.nA\n",
    "    \n",
    "    # 2. For each state in 16 states\n",
    "    for s in range(env.nS):\n",
    "        \n",
    "        # 2.1 Get q values: q.shape returns (4,)\n",
    "        q = q_value(env, V, s, gamma)\n",
    "        \n",
    "        # 2.2 Find best action based on max q-value\n",
    "        # np.argwhere(q==np.max(q)) gives the position of largest q value\n",
    "        # given array([0.00852356, 0.01163091, 0.0108613 , 0.01550788]), this would return array([[3]]) of shape (1, 1)\n",
    "        # .flatten() reduces the shape to (1,) where we've array([3])\n",
    "        best_a = np.argwhere(q==np.max(q)).flatten()\n",
    "        \n",
    "        # 2.3 One-hot encode best action and store into policy array's row for that state\n",
    "        # In our case where the best action is array([3]), this would return\n",
    "        # array([0., 0., 0., 1.]) where position 3 is the best action\n",
    "        # Now we can store the best action into our policy\n",
    "        policy[s] = np.sum([np.eye(env.nA)[i] for i in best_a], axis=0)/len(best_a)\n",
    "        \n",
    "    return policy"
   ]
  },
  {
   "cell_type": "code",
   "execution_count": 34,
   "metadata": {
    "collapsed": true
   },
   "outputs": [],
   "source": [
    "new_policy = policy_improvement(env, V)"
   ]
  },
  {
   "cell_type": "code",
   "execution_count": 35,
   "metadata": {},
   "outputs": [
    {
     "data": {
      "image/png": "[encoded data removed]",
      "text/plain": [
       "<matplotlib.figure.Figure at 0x7ff9f800d438>"
      ]
     },
     "metadata": {},
     "output_type": "display_data"
    }
   ],
   "source": [
    "plt.figure(figsize=(5, 16))\n",
    "sns.heatmap(new_policy,  cmap=\"YlGnBu\", annot=True, cbar=False);"
   ]
  },
  {
   "cell_type": "code",
   "execution_count": 36,
   "metadata": {},
   "outputs": [
    {
     "data": {
      "image/png": "[encoded data removed]",
      "text/plain": [
       "<matplotlib.figure.Figure at 0x7ff9f81c7c18>"
      ]
     },
     "metadata": {},
     "output_type": "display_data"
    }
   ],
   "source": [
    "# Compared to this equiprobable policy, the one above is making some improvements by maximizing q-values per state\n",
    "plt.figure(figsize=(5, 16))\n",
    "sns.heatmap(rand_policy,  cmap=\"YlGnBu\", annot=True, cbar=False);"
   ]
  },
  {
   "cell_type": "markdown",
   "metadata": {},
   "source": [
    "### Policy Iteration Function\n",
    "- How: loop through policy evaluation (get state-values) and policy improvement functions (use state-values to calculate q-values to improve policy) until optimal policy obtained\n",
    "- Aim: improve policy until convergence\n",
    "    - Convergence: difference of state values between old and new policies is very small (less than theta, a very small positive number)"
   ]
  },
  {
   "cell_type": "code",
   "execution_count": 37,
   "metadata": {
    "collapsed": true
   },
   "outputs": [],
   "source": [
    "import copy\n",
    "def policy_iteration(env, gamma=1, theta=1e-8):\n",
    "    # 1. Create equiprobable policy where every state has 4 actions with equal probabilities as a starting policy\n",
    "    policy = np.ones([env.nS, env.nA]) / env.nA\n",
    "    \n",
    "    # 2. Loop through policy_evaluation and policy_improvement functions\n",
    "    while True:\n",
    "        # 2.1 Get state-values\n",
    "        V = policy_evaluation(env, policy, gamma, theta)\n",
    "        \n",
    "        # 2.2 Get new policy by getting q-values and maximizing q-values per state to get best action per state\n",
    "        new_policy = policy_improvement(env, V)\n",
    "\n",
    "        # 2.3 Stop if the value function estimates for successive policies has converged\n",
    "        if np.max(abs(policy_evaluation(env, policy) - policy_evaluation(env, new_policy))) < theta * 1e2:\n",
    "            break;\n",
    "        \n",
    "        # 2.4 Replace policy with new policy\n",
    "        policy = copy.copy(new_policy)\n",
    "    return policy, V"
   ]
  },
  {
   "cell_type": "code",
   "execution_count": 38,
   "metadata": {
    "collapsed": true
   },
   "outputs": [],
   "source": [
    "# obtain the optimal policy and optimal state-value function\n",
    "policy_pi, V_pi = policy_iteration(env)"
   ]
  },
  {
   "cell_type": "code",
   "execution_count": 39,
   "metadata": {},
   "outputs": [
    {
     "data": {
      "image/png": "[encoded data removed]",
      "text/plain": [
       "<matplotlib.figure.Figure at 0x7ff9f80f8d30>"
      ]
     },
     "metadata": {},
     "output_type": "display_data"
    }
   ],
   "source": [
    "# Optimal policy (pi) \n",
    "# LEFT = 0, DOWN = 1, RIGHT = 2, UP = 3\n",
    "plt.figure(figsize=(5, 16))\n",
    "sns.heatmap(policy_pi,  cmap=\"YlGnBu\", annot=True, cbar=False, square=True);"
   ]
  },
  {
   "cell_type": "code",
   "execution_count": 40,
   "metadata": {},
   "outputs": [
    {
     "data": {
      "image/png": "[encoded data removed]",
      "text/plain": [
       "<matplotlib.figure.Figure at 0x7ff9f81fe780>"
      ]
     },
     "metadata": {},
     "output_type": "display_data"
    }
   ],
   "source": [
    "# State values\n",
    "plt.figure(figsize=(8, 8))\n",
    "sns.heatmap(V_pi.reshape(4, 4),  cmap=\"YlGnBu\", annot=True, cbar=False, square=True);"
   ]
  },
  {
   "cell_type": "code",
   "execution_count": 41,
   "metadata": {},
   "outputs": [
    {
     "data": {
      "image/png": "[encoded data removed]",
      "text/plain": [
       "<matplotlib.figure.Figure at 0x7ff9f7fabcc0>"
      ]
     },
     "metadata": {},
     "output_type": "display_data"
    }
   ],
   "source": [
    "# State values without policy improvement, just evaluation\n",
    "plt.figure(figsize=(8, 8))\n",
    "sns.heatmap(V.reshape(4, 4),  cmap=\"YlGnBu\", annot=True, cbar=False);"
   ]
  },
  {
   "cell_type": "markdown",
   "metadata": {},
   "source": [
    "### Value iteration\n",
    "- Alternative to policy iteration\n",
    "- How: loop through to find optimal value function then get one-off policy\n",
    "- Aim: improve value function until convergence\n",
    "    - Convergence: until difference in new and old state values are small (smaller than theta, small positive number)"
   ]
  },
  {
   "cell_type": "code",
   "execution_count": 42,
   "metadata": {
    "collapsed": true
   },
   "outputs": [],
   "source": [
    "def value_iteration(env, gamma=1, theta=1e-8):\n",
    "    # 1. Create state values of shape (16,)\n",
    "    V = np.zeros(env.nS)\n",
    "    \n",
    "    # 2. Loop through q-value function until convergence\n",
    "    while True:\n",
    "        delta = 0\n",
    "        \n",
    "        # 2.1 Loop through each state\n",
    "        for s in range(env.nS):\n",
    "            # 2.2 Archive old state value\n",
    "            v = V[s]\n",
    "            \n",
    "            # 2.3 New state value = max of q-value\n",
    "            V[s] = max(q_value(env, V, s, gamma))\n",
    "            \n",
    "            delta = max(delta, abs(V[s] - v))\n",
    "        \n",
    "        # 2.2 If state value changes small, converged\n",
    "        if delta < theta:\n",
    "            break\n",
    "            \n",
    "    # 3. Extract one-off policy with optimal state values\n",
    "    policy = policy_improvement(env, V, gamma)\n",
    "    \n",
    "    return policy, V"
   ]
  },
  {
   "cell_type": "code",
   "execution_count": 43,
   "metadata": {
    "collapsed": true
   },
   "outputs": [],
   "source": [
    "policy_vi, V_vi = value_iteration(env)"
   ]
  },
  {
   "cell_type": "code",
   "execution_count": 44,
   "metadata": {},
   "outputs": [
    {
     "data": {
      "image/png": "[encoded data removed]",
      "text/plain": [
       "<matplotlib.figure.Figure at 0x7ff9f7e2b358>"
      ]
     },
     "metadata": {},
     "output_type": "display_data"
    }
   ],
   "source": [
    "# Optimal policy\n",
    "# LEFT = 0, DOWN = 1, RIGHT = 2, UP = 3\n",
    "plt.figure(figsize=(5, 16))\n",
    "sns.heatmap(policy_vi,  cmap=\"YlGnBu\", annot=True, cbar=False, square=True);"
   ]
  },
  {
   "cell_type": "code",
   "execution_count": 45,
   "metadata": {},
   "outputs": [
    {
     "data": {
      "image/png": "[encoded data removed]",
      "text/plain": [
       "<matplotlib.figure.Figure at 0x7ff9f7dc4940>"
      ]
     },
     "metadata": {},
     "output_type": "display_data"
    }
   ],
   "source": [
    "# State values\n",
    "plt.figure(figsize=(8, 8))\n",
    "sns.heatmap(V_vi.reshape(4, 4),  cmap=\"YlGnBu\", annot=True, cbar=False, square=True);"
   ]
  }
 ],
 "metadata": {
  "kernelspec": {
   "display_name": "Python 3",
   "language": "python",
   "name": "python3"
  },
  "language_info": {
   "codemirror_mode": {
    "name": "ipython",
    "version": 3
   },
   "file_extension": ".py",
   "mimetype": "text/x-python",
   "name": "python",
   "nbconvert_exporter": "python",
   "pygments_lexer": "ipython3",
   "version": "3.6.2"
  }
 },
 "nbformat": 4,
 "nbformat_minor": 2
}
