{
 "cells": [
  {
   "cell_type": "markdown",
   "metadata": {},
   "source": [
    "# Speed Optimization Basics: Numba\n",
    "\n",
    "## When to use Numba\n",
    "- Numba works well when the code relies a lot on (1) numpy, (2) loops, and/or (2) cuda.\n",
    "- Hence, we would like to maximize the use of numba in our code where possible where there are loops/numpy"
   ]
  },
  {
   "cell_type": "markdown",
   "metadata": {},
   "source": [
    "## Numba CPU: nopython\n",
    "- For a basic numba application, we can cecorate python function thus allowing it to run without python interpreter\n",
    "- Essentially, it will compile the function with specific arguments once into machine code, then uses the cache subsequently"
   ]
  },
  {
   "cell_type": "markdown",
   "metadata": {},
   "source": [
    "### With Numba: no python"
   ]
  },
  {
   "cell_type": "code",
   "execution_count": 8,
   "metadata": {},
   "outputs": [
    {
     "name": "stdout",
     "output_type": "stream",
     "text": [
      "161 µs ± 2.62 µs per loop (mean ± std. dev. of 7 runs, 10000 loops each)\n"
     ]
    }
   ],
   "source": [
    "from numba import jit, prange\n",
    "import numpy as np\n",
    "\n",
    "# Numpy array of 10k elements\n",
    "input_ndarray = np.random.rand(10000).reshape(10000)\n",
    "\n",
    "# This is the only extra line of code you need to add\n",
    "# which is a decorator\n",
    "@jit(nopython=True)\n",
    "def go_fast(a):\n",
    "    trace = 0\n",
    "    for i in range(a.shape[0]):\n",
    "        trace += np.tanh(a[i])\n",
    "    return a + trace\n",
    "\n",
    "%timeit go_fast(input_ndarray)"
   ]
  },
  {
   "cell_type": "markdown",
   "metadata": {},
   "source": [
    "### Without numba\n",
    "- This is much slower, time measured in the millisecond space rather than microsecond with `@jit(nopython=True)` or `@njit`"
   ]
  },
  {
   "cell_type": "code",
   "execution_count": 9,
   "metadata": {},
   "outputs": [
    {
     "name": "stdout",
     "output_type": "stream",
     "text": [
      "10.5 ms ± 163 µs per loop (mean ± std. dev. of 7 runs, 100 loops each)\n"
     ]
    }
   ],
   "source": [
    "# Without numba: notice how this is really slow\n",
    "def go_normal(a):\n",
    "    trace = 0\n",
    "    for i in range(a.shape[0]):\n",
    "        trace += np.tanh(a[i])\n",
    "    return a + trace\n",
    "\n",
    "%timeit go_normal(input_ndarray)"
   ]
  },
  {
   "cell_type": "markdown",
   "metadata": {},
   "source": [
    "## Numba CPU: parallel\n",
    "- Here, instead of the normal `range()` function we would use for loops, we would need to use `prange()` which allows us to execute the loops in parallel on separate threads\n",
    "- As you can see, it's slightly faster than `@jit(nopython=True)`"
   ]
  },
  {
   "cell_type": "code",
   "execution_count": 10,
   "metadata": {},
   "outputs": [
    {
     "name": "stdout",
     "output_type": "stream",
     "text": [
      "148 µs ± 71.3 µs per loop (mean ± std. dev. of 7 runs, 1 loop each)\n"
     ]
    }
   ],
   "source": [
    "@jit(nopython=True, parallel=True)\n",
    "def go_even_faster(a):\n",
    "    trace = 0\n",
    "    for i in prange(a.shape[0]):\n",
    "        trace += np.tanh(a[i])\n",
    "    return a + trace\n",
    "\n",
    "%timeit go_even_faster(input_ndarray)"
   ]
  },
  {
   "cell_type": "markdown",
   "metadata": {},
   "source": [
    "## Numba CPU: fastmath\n",
    "- What if we relax our condition of strictly adhering to `IEEE 754`. \n",
    "- We can have faster performance (depends)\n",
    "- I would say this is the least additional speed-up unless you really dig into areas where `fastmath=True` thrives"
   ]
  },
  {
   "cell_type": "code",
   "execution_count": 19,
   "metadata": {},
   "outputs": [
    {
     "name": "stdout",
     "output_type": "stream",
     "text": [
      "113 µs ± 39.7 µs per loop (mean ± std. dev. of 7 runs, 1 loop each)\n"
     ]
    }
   ],
   "source": [
    "@jit(nopython=True, parallel=True, fastmath=True)\n",
    "def go_super_fast(a):\n",
    "    trace = 0\n",
    "    for i in prange(a.shape[0]):\n",
    "        trace += np.tanh(a[i])\n",
    "    return a + trace\n",
    "\n",
    "%timeit go_super_fast(input_ndarray)"
   ]
  },
  {
   "cell_type": "markdown",
   "metadata": {},
   "source": [
    "## Summary\n",
    "- When to use Numba\n",
    "    - (1) numpy array or torch tensors,\n",
    "    - (2) loops, and/or\n",
    "    - (3) cuda\n",
    "- Numba CPU: nopython¶\n",
    "- Numba CPU: parallel \n",
    "- Numba CPU: fastmath"
   ]
  }
 ],
 "metadata": {
  "kernelspec": {
   "display_name": "latest",
   "language": "python",
   "name": "latest"
  },
  "language_info": {
   "codemirror_mode": {
    "name": "ipython",
    "version": 3
   },
   "file_extension": ".py",
   "mimetype": "text/x-python",
   "name": "python",
   "nbconvert_exporter": "python",
   "pygments_lexer": "ipython3",
   "version": "3.7.3"
  }
 },
 "nbformat": 4,
 "nbformat_minor": 2
}
