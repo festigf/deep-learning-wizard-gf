{
 "cells": [
  {
   "cell_type": "markdown",
   "metadata": {},
   "source": [
    "# 7. Overfitting Prevention"
   ]
  },
  {
   "cell_type": "markdown",
   "metadata": {},
   "source": [
    "## Why do we need to solve overfitting? \n",
    "- To increase the generalization ability of our deep learning algorithms\n",
    "- Able to make predictions well for out-of-sample data "
   ]
  },
  {
   "cell_type": "markdown",
   "metadata": {},
   "source": [
    "## Overfitting and Underfitting: Examples"
   ]
  },
  {
   "cell_type": "markdown",
   "metadata": {},
   "source": [
    "![](./images/overfitting.png)\n",
    "- **_This is an example from scikit-learn's website where you can easily (but shouldn't waste time) recreate via matplotlib :)_**\n",
    "\n",
    "#### Degree 1: underfitting\n",
    "- Insufficiently fits data\n",
    "    - High training loss\n",
    "- Unable to represent the true function\n",
    "    - Bad generalization ability\n",
    "    - Low testing accuracy\n",
    "        \n",
    "#### Degree 4: \"goodfitting\"\n",
    "- Sufficiently fits data\n",
    "    - Low training loss\n",
    "- Able to represent the true function\n",
    "    - Good generalization ability\n",
    "    - High testing accuracy\n",
    "    \n",
    "#### Degree 15: overfitting\n",
    "- Overfits data\n",
    "    - Very low to zero training loss\n",
    "- Unable to represent the true function\n",
    "    - Bad generalization ability\n",
    "    - Low testing accuracy"
   ]
  },
  {
   "cell_type": "markdown",
   "metadata": {},
   "source": [
    "## Overfitting and Underfitting: Learning Curves\n",
    "- Separate training/testing datasets\n",
    "- Understand generalization ability through the learning curve\n",
    "![](./images/overfitting_2.png)"
   ]
  },
  {
   "cell_type": "markdown",
   "metadata": {},
   "source": [
    "#### Underfitting: High Bias\n",
    "- Training/testing errors converged at a high level\n",
    "    - More data does not help\n",
    "    - Model has insufficient representational capacity $\\rightarrow$ unable to represent underlying function\n",
    "        - Poor data fit (high training error)\n",
    "        - Poor generalization (high testing error)\n",
    "- Solution\n",
    "    - Increase model's complexity/capacity\n",
    "        - More layers\n",
    "        - Larger hidden states\n",
    "    \n",
    "#### Overfitting: High Variance\n",
    "- Training/testing errors converged with a large gap between\n",
    "     - Excessive data fit (almost 0 training error)\n",
    "     - Poor generalization (high testing error)\n",
    "- Solutions\n",
    "    - Decrease model complexity\n",
    "    - More data\n",
    "    \n",
    "#### Goodfitting\n",
    "- Training/testing errors converged with very small gap at a low error level\n",
    "    - Good data fit (low training error; not excessively low)\n",
    "    - Good generalization (low testing error)"
   ]
  },
  {
   "cell_type": "markdown",
   "metadata": {},
   "source": [
    "## Solving Overfitting\n",
    "- Data augmentation (more data)    \n",
    "- Early stopping\n",
    "- Regularization: any changes to the learning algorithm to reduce testing error, not training error\n",
    "    - Weight decay (L2 regularization)\n",
    "    - Dropout    \n",
    "    - Batch Normalization"
   ]
  },
  {
   "cell_type": "markdown",
   "metadata": {},
   "source": [
    "## Overfitting Solution 1: Data Augmentation\n",
    "- Expanding the existing dataset, MNIST (28x28 images)\n",
    "- Works for most if not all image datasets (CIFAR-10, CIFAR-100, SVHN, etc.)"
   ]
  },
  {
   "cell_type": "markdown",
   "metadata": {},
   "source": [
    "### Centre Crop: 28 pixels"
   ]
  },
  {
   "cell_type": "code",
   "execution_count": 1,
   "metadata": {},
   "outputs": [
    {
     "name": "stdout",
     "output_type": "stream",
     "text": [
      "Downloading http://yann.lecun.com/exdb/mnist/train-images-idx3-ubyte.gz\n",
      "Downloading http://yann.lecun.com/exdb/mnist/train-labels-idx1-ubyte.gz\n",
      "Downloading http://yann.lecun.com/exdb/mnist/t10k-images-idx3-ubyte.gz\n",
      "Downloading http://yann.lecun.com/exdb/mnist/t10k-labels-idx1-ubyte.gz\n",
      "Processing...\n",
      "Done!\n"
     ]
    }
   ],
   "source": [
    "import torch\n",
    "import torch.nn as nn\n",
    "import torchvision.transforms as transforms\n",
    "import torchvision.datasets as dsets\n",
    "from torch.autograd import Variable\n",
    "\n",
    "# Set seed\n",
    "torch.manual_seed(0)\n",
    "\n",
    "\n",
    "'''\n",
    "STEP 0: CREATE TRANSFORMATIONS\n",
    "'''\n",
    "\n",
    "transform = transforms.Compose([\n",
    "            transforms.CenterCrop(28),\n",
    "            transforms.ToTensor(),\n",
    "            ])\n",
    "\n",
    "\n",
    "'''\n",
    "STEP 1: LOADING DATASET\n",
    "'''\n",
    "\n",
    "train_dataset = dsets.MNIST(root='./data', \n",
    "                            train=True, \n",
    "                            #transform=transforms.ToTensor(),\n",
    "                            transform=transform,\n",
    "                            download=True)\n",
    "\n",
    "train_dataset_orig = dsets.MNIST(root='./data', \n",
    "                                 train=True, \n",
    "                                 transform=transforms.ToTensor(),\n",
    "                                 download=True)\n",
    "\n",
    "'''\n",
    "STEP 2: MAKING DATASET ITERABLE\n",
    "'''\n",
    "\n",
    "batch_size = 100\n",
    "n_iters = 3000\n",
    "num_epochs = n_iters / (len(train_dataset) / batch_size)\n",
    "num_epochs = int(num_epochs)\n",
    "\n",
    "train_loader = torch.utils.data.DataLoader(dataset=train_dataset, \n",
    "                                           batch_size=batch_size, \n",
    "                                           shuffle=True)\n",
    "\n",
    "\n",
    "train_loader_orig = torch.utils.data.DataLoader(dataset=train_dataset_orig, \n",
    "                                                    batch_size=batch_size, \n",
    "                                                    shuffle=True)"
   ]
  },
  {
   "cell_type": "code",
   "execution_count": 2,
   "metadata": {},
   "outputs": [
    {
     "data": {
      "image/png": "[encoded data removed]",
      "text/plain": [
       "<Figure size 432x288 with 1 Axes>"
      ]
     },
     "metadata": {
      "needs_background": "light"
     },
     "output_type": "display_data"
    },
    {
     "data": {
      "image/png": "[encoded data removed]",
      "text/plain": [
       "<Figure size 432x288 with 1 Axes>"
      ]
     },
     "metadata": {
      "needs_background": "light"
     },
     "output_type": "display_data"
    },
    {
     "data": {
      "image/png": "[encoded data removed]",
      "text/plain": [
       "<Figure size 432x288 with 1 Axes>"
      ]
     },
     "metadata": {
      "needs_background": "light"
     },
     "output_type": "display_data"
    },
    {
     "data": {
      "image/png": "[encoded data removed]",
      "text/plain": [
       "<Figure size 432x288 with 1 Axes>"
      ]
     },
     "metadata": {
      "needs_background": "light"
     },
     "output_type": "display_data"
    }
   ],
   "source": [
    "import matplotlib.pyplot as plt\n",
    "%matplotlib inline\n",
    "\n",
    "for i, (images, labels) in enumerate(train_loader):\n",
    "    torch.manual_seed(0)\n",
    "    # Transformed image\n",
    "    plt.imshow(images.numpy()[i][0], cmap='gray')\n",
    "    plt.title('Transformed image')\n",
    "    plt.show()\n",
    "    \n",
    "    if i == 1:\n",
    "        break\n",
    "        \n",
    "for i, (images, labels) in enumerate(train_loader_orig):\n",
    "    torch.manual_seed(0)\n",
    "    # Transformed image\n",
    "    plt.imshow(images.numpy()[i][0], cmap='gray')\n",
    "    plt.title('Original image')\n",
    "    plt.show()\n",
    "    \n",
    "    if i == 1:\n",
    "        break"
   ]
  },
  {
   "cell_type": "markdown",
   "metadata": {},
   "source": [
    "### Centre Crop: 22 pixels"
   ]
  },
  {
   "cell_type": "code",
   "execution_count": 3,
   "metadata": {
    "collapsed": true
   },
   "outputs": [],
   "source": [
    "import torch\n",
    "import torch.nn as nn\n",
    "import torchvision.transforms as transforms\n",
    "import torchvision.datasets as dsets\n",
    "\n",
    "# Set seed\n",
    "torch.manual_seed(0)\n",
    "\n",
    "\n",
    "'''\n",
    "STEP 0: CREATE TRANSFORMATIONS\n",
    "'''\n",
    "\n",
    "transform = transforms.Compose([\n",
    "            transforms.CenterCrop(22),\n",
    "            transforms.ToTensor(),\n",
    "            ])\n",
    "\n",
    "\n",
    "'''\n",
    "STEP 1: LOADING DATASET\n",
    "'''\n",
    "\n",
    "train_dataset = dsets.MNIST(root='./data', \n",
    "                            train=True, \n",
    "                            #transform=transforms.ToTensor(),\n",
    "                            transform=transform,\n",
    "                            download=True)\n",
    "\n",
    "train_dataset_orig = dsets.MNIST(root='./data', \n",
    "                                 train=True, \n",
    "                                 transform=transforms.ToTensor(),\n",
    "                                 download=True)\n",
    "\n",
    "'''\n",
    "STEP 2: MAKING DATASET ITERABLE\n",
    "'''\n",
    "\n",
    "batch_size = 100\n",
    "n_iters = 3000\n",
    "num_epochs = n_iters / (len(train_dataset) / batch_size)\n",
    "num_epochs = int(num_epochs)\n",
    "\n",
    "train_loader = torch.utils.data.DataLoader(dataset=train_dataset, \n",
    "                                           batch_size=batch_size, \n",
    "                                           shuffle=True)\n",
    "\n",
    "\n",
    "train_loader_orig = torch.utils.data.DataLoader(dataset=train_dataset_orig, \n",
    "                                                    batch_size=batch_size, \n",
    "                                                    shuffle=True)"
   ]
  },
  {
   "cell_type": "code",
   "execution_count": 4,
   "metadata": {},
   "outputs": [
    {
     "data": {
      "image/png": "[encoded data removed]",
      "text/plain": [
       "<Figure size 432x288 with 1 Axes>"
      ]
     },
     "metadata": {
      "needs_background": "light"
     },
     "output_type": "display_data"
    },
    {
     "data": {
      "image/png": "[encoded data removed]",
      "text/plain": [
       "<Figure size 432x288 with 1 Axes>"
      ]
     },
     "metadata": {
      "needs_background": "light"
     },
     "output_type": "display_data"
    },
    {
     "data": {
      "image/png": "[encoded data removed]",
      "text/plain": [
       "<Figure size 432x288 with 1 Axes>"
      ]
     },
     "metadata": {
      "needs_background": "light"
     },
     "output_type": "display_data"
    },
    {
     "data": {
      "image/png": "[encoded data removed]",
      "text/plain": [
       "<Figure size 432x288 with 1 Axes>"
      ]
     },
     "metadata": {
      "needs_background": "light"
     },
     "output_type": "display_data"
    }
   ],
   "source": [
    "import matplotlib.pyplot as plt\n",
    "%matplotlib inline\n",
    "\n",
    "for i, (images, labels) in enumerate(train_loader):\n",
    "    torch.manual_seed(0)\n",
    "    # Transformed image\n",
    "    plt.imshow(images.numpy()[i][0], cmap='gray')\n",
    "    plt.title('Transformed image')\n",
    "    plt.show()\n",
    "    \n",
    "    if i == 1:\n",
    "        break\n",
    "        \n",
    "for i, (images, labels) in enumerate(train_loader_orig):\n",
    "    torch.manual_seed(0)\n",
    "    # Transformed image\n",
    "    plt.imshow(images.numpy()[i][0], cmap='gray')\n",
    "    plt.title('Original image')\n",
    "    plt.show()\n",
    "    \n",
    "    if i == 1:\n",
    "        break"
   ]
  },
  {
   "cell_type": "markdown",
   "metadata": {},
   "source": [
    "### Random Crop: 22 pixels"
   ]
  },
  {
   "cell_type": "code",
   "execution_count": 5,
   "metadata": {
    "collapsed": true
   },
   "outputs": [],
   "source": [
    "import torch\n",
    "import torch.nn as nn\n",
    "import torchvision.transforms as transforms\n",
    "import torchvision.datasets as dsets\n",
    "\n",
    "# Set seed\n",
    "torch.manual_seed(0)\n",
    "\n",
    "\n",
    "'''\n",
    "STEP 0: CREATE TRANSFORMATIONS\n",
    "'''\n",
    "\n",
    "transform = transforms.Compose([\n",
    "            transforms.RandomCrop(22),\n",
    "            transforms.ToTensor(),\n",
    "            ])\n",
    "\n",
    "\n",
    "'''\n",
    "STEP 1: LOADING DATASET\n",
    "'''\n",
    "\n",
    "train_dataset = dsets.MNIST(root='./data', \n",
    "                            train=True, \n",
    "                            #transform=transforms.ToTensor(),\n",
    "                            transform=transform,\n",
    "                            download=True)\n",
    "\n",
    "train_dataset_orig = dsets.MNIST(root='./data', \n",
    "                                 train=True, \n",
    "                                 transform=transforms.ToTensor(),\n",
    "                                 download=True)\n",
    "\n",
    "'''\n",
    "STEP 2: MAKING DATASET ITERABLE\n",
    "'''\n",
    "\n",
    "batch_size = 100\n",
    "n_iters = 3000\n",
    "num_epochs = n_iters / (len(train_dataset) / batch_size)\n",
    "num_epochs = int(num_epochs)\n",
    "\n",
    "train_loader = torch.utils.data.DataLoader(dataset=train_dataset, \n",
    "                                           batch_size=batch_size, \n",
    "                                           shuffle=True)\n",
    "\n",
    "\n",
    "train_loader_orig = torch.utils.data.DataLoader(dataset=train_dataset_orig, \n",
    "                                                    batch_size=batch_size, \n",
    "                                                    shuffle=True)"
   ]
  },
  {
   "cell_type": "code",
   "execution_count": 6,
   "metadata": {},
   "outputs": [
    {
     "data": {
      "image/png": "[encoded data removed]",
      "text/plain": [
       "<Figure size 432x288 with 1 Axes>"
      ]
     },
     "metadata": {
      "needs_background": "light"
     },
     "output_type": "display_data"
    },
    {
     "data": {
      "image/png": "[encoded data removed]",
      "text/plain": [
       "<Figure size 432x288 with 1 Axes>"
      ]
     },
     "metadata": {
      "needs_background": "light"
     },
     "output_type": "display_data"
    },
    {
     "data": {
      "image/png": "[encoded data removed]",
      "text/plain": [
       "<Figure size 432x288 with 1 Axes>"
      ]
     },
     "metadata": {
      "needs_background": "light"
     },
     "output_type": "display_data"
    },
    {
     "data": {
      "image/png": "[encoded data removed]",
      "text/plain": [
       "<Figure size 432x288 with 1 Axes>"
      ]
     },
     "metadata": {
      "needs_background": "light"
     },
     "output_type": "display_data"
    }
   ],
   "source": [
    "import matplotlib.pyplot as plt\n",
    "%matplotlib inline\n",
    "\n",
    "for i, (images, labels) in enumerate(train_loader):\n",
    "    torch.manual_seed(0)\n",
    "    # Transformed image\n",
    "    plt.imshow(images.numpy()[i][0], cmap='gray')\n",
    "    plt.title('Transformed image')\n",
    "    plt.show()\n",
    "    \n",
    "    if i == 1:\n",
    "        break\n",
    "        \n",
    "for i, (images, labels) in enumerate(train_loader_orig):\n",
    "    torch.manual_seed(0)\n",
    "    # Transformed image\n",
    "    plt.imshow(images.numpy()[i][0], cmap='gray')\n",
    "    plt.title('Original image')\n",
    "    plt.show()\n",
    "    \n",
    "    if i == 1:\n",
    "        break"
   ]
  },
  {
   "cell_type": "markdown",
   "metadata": {},
   "source": [
    "### Random Horizontal Flip: p=0.5"
   ]
  },
  {
   "cell_type": "code",
   "execution_count": 7,
   "metadata": {
    "collapsed": true
   },
   "outputs": [],
   "source": [
    "import torch\n",
    "import torch.nn as nn\n",
    "import torchvision.transforms as transforms\n",
    "import torchvision.datasets as dsets\n",
    "\n",
    "# Set seed\n",
    "torch.manual_seed(0)\n",
    "\n",
    "\n",
    "'''\n",
    "STEP 0: CREATE TRANSFORMATIONS\n",
    "'''\n",
    "\n",
    "transform = transforms.Compose([\n",
    "            transforms.RandomHorizontalFlip(),\n",
    "            transforms.ToTensor(),\n",
    "            ])\n",
    "\n",
    "\n",
    "'''\n",
    "STEP 1: LOADING DATASET\n",
    "'''\n",
    "\n",
    "train_dataset = dsets.MNIST(root='./data', \n",
    "                            train=True, \n",
    "                            #transform=transforms.ToTensor(),\n",
    "                            transform=transform,\n",
    "                            download=True)\n",
    "\n",
    "train_dataset_orig = dsets.MNIST(root='./data', \n",
    "                                 train=True, \n",
    "                                 transform=transforms.ToTensor(),\n",
    "                                 download=True)\n",
    "\n",
    "'''\n",
    "STEP 2: MAKING DATASET ITERABLE\n",
    "'''\n",
    "\n",
    "batch_size = 100\n",
    "n_iters = 3000\n",
    "num_epochs = n_iters / (len(train_dataset) / batch_size)\n",
    "num_epochs = int(num_epochs)\n",
    "\n",
    "train_loader = torch.utils.data.DataLoader(dataset=train_dataset, \n",
    "                                           batch_size=batch_size, \n",
    "                                           shuffle=True)\n",
    "\n",
    "\n",
    "train_loader_orig = torch.utils.data.DataLoader(dataset=train_dataset_orig, \n",
    "                                                    batch_size=batch_size, \n",
    "                                                    shuffle=True)"
   ]
  },
  {
   "cell_type": "code",
   "execution_count": 8,
   "metadata": {},
   "outputs": [
    {
     "data": {
      "image/png": "[encoded data removed]",
      "text/plain": [
       "<Figure size 432x288 with 1 Axes>"
      ]
     },
     "metadata": {
      "needs_background": "light"
     },
     "output_type": "display_data"
    },
    {
     "data": {
      "image/png": "[encoded data removed]",
      "text/plain": [
       "<Figure size 432x288 with 1 Axes>"
      ]
     },
     "metadata": {
      "needs_background": "light"
     },
     "output_type": "display_data"
    },
    {
     "data": {
      "image/png": "[encoded data removed]",
      "text/plain": [
       "<Figure size 432x288 with 1 Axes>"
      ]
     },
     "metadata": {
      "needs_background": "light"
     },
     "output_type": "display_data"
    },
    {
     "data": {
      "image/png": "[encoded data removed]",
      "text/plain": [
       "<Figure size 432x288 with 1 Axes>"
      ]
     },
     "metadata": {
      "needs_background": "light"
     },
     "output_type": "display_data"
    },
    {
     "data": {
      "image/png": "[encoded data removed]",
      "text/plain": [
       "<Figure size 432x288 with 1 Axes>"
      ]
     },
     "metadata": {
      "needs_background": "light"
     },
     "output_type": "display_data"
    },
    {
     "data": {
      "image/png": "[encoded data removed]",
      "text/plain": [
       "<Figure size 432x288 with 1 Axes>"
      ]
     },
     "metadata": {
      "needs_background": "light"
     },
     "output_type": "display_data"
    },
    {
     "data": {
      "image/png": "[encoded data removed]",
      "text/plain": [
       "<Figure size 432x288 with 1 Axes>"
      ]
     },
     "metadata": {
      "needs_background": "light"
     },
     "output_type": "display_data"
    },
    {
     "data": {
      "image/png": "[encoded data removed]",
      "text/plain": [
       "<Figure size 432x288 with 1 Axes>"
      ]
     },
     "metadata": {
      "needs_background": "light"
     },
     "output_type": "display_data"
    }
   ],
   "source": [
    "import matplotlib.pyplot as plt\n",
    "%matplotlib inline\n",
    "\n",
    "for i, (images, labels) in enumerate(train_loader):\n",
    "    torch.manual_seed(0)\n",
    "    # Transformed image\n",
    "    plt.imshow(images.numpy()[i][0], cmap='gray')\n",
    "    plt.title('Transformed image')\n",
    "    plt.show()\n",
    "    \n",
    "    if i == 3:\n",
    "        break\n",
    "        \n",
    "for i, (images, labels) in enumerate(train_loader_orig):\n",
    "    torch.manual_seed(0)\n",
    "    # Transformed image\n",
    "    plt.imshow(images.numpy()[i][0], cmap='gray')\n",
    "    plt.title('Original image')\n",
    "    plt.show()\n",
    "    \n",
    "    if i == 3:\n",
    "        break"
   ]
  },
  {
   "cell_type": "markdown",
   "metadata": {},
   "source": [
    "### Normalization\n",
    "- Not augmentation, but required for our initializations to have constant variance (Xavier/He)\n",
    "    - We assumed inputs/weights drawn i.i.d. with Gaussian distribution of mean=0\n",
    "- We can normalize by calculating the mean and standard deviation of each channel\n",
    "    - MNIST only 1 channel, black\n",
    "    - 1 mean, 1 standard deviation\n",
    "- Once we've the mean/std $\\rightarrow$ normalize our images to have zero mean\n",
    "    - $X = \\frac{X - mean}{std}$\n",
    "    - X: 28 by 28 pixels (1 channel, grayscale)"
   ]
  },
  {
   "cell_type": "code",
   "execution_count": 9,
   "metadata": {
    "collapsed": true
   },
   "outputs": [],
   "source": [
    "import torch\n",
    "import torch.nn as nn\n",
    "import torchvision.transforms as transforms\n",
    "import torchvision.datasets as dsets\n",
    "\n",
    "# Set seed\n",
    "torch.manual_seed(0)\n",
    "\n",
    "\n",
    "'''\n",
    "STEP 0: CREATE TRANSFORMATIONS\n",
    "'''\n",
    "\n",
    "transform = transforms.Compose([\n",
    "            transforms.ToTensor(),\n",
    "            # Normalization always after ToTensor and all transformations\n",
    "            transforms.Normalize((0.1307,), (0.3081,)),\n",
    "            ])\n",
    "\n",
    "\n",
    "'''\n",
    "STEP 1: LOADING DATASET\n",
    "'''\n",
    "\n",
    "train_dataset = dsets.MNIST(root='./data', \n",
    "                            train=True, \n",
    "                            #transform=transforms.ToTensor(),\n",
    "                            transform=transform,\n",
    "                            download=True)\n",
    "\n",
    "'''\n",
    "STEP 2: MAKING DATASET ITERABLE\n",
    "'''\n",
    "\n",
    "batch_size = 100\n",
    "n_iters = 3000\n",
    "num_epochs = n_iters / (len(train_dataset) / batch_size)\n",
    "num_epochs = int(num_epochs)\n",
    "\n",
    "train_loader = torch.utils.data.DataLoader(dataset=train_dataset, \n",
    "                                           batch_size=batch_size, \n",
    "                                           shuffle=True)\n"
   ]
  },
  {
   "cell_type": "markdown",
   "metadata": {},
   "source": [
    "#### How did we get the mean/std?\n",
    "- mean=0.1307\n",
    "- std=0.3081"
   ]
  },
  {
   "cell_type": "code",
   "execution_count": 10,
   "metadata": {},
   "outputs": [
    {
     "name": "stdout",
     "output_type": "stream",
     "text": [
      "[60000, 28, 28]\n"
     ]
    }
   ],
   "source": [
    "print(list(train_dataset.train_data.size()))"
   ]
  },
  {
   "cell_type": "code",
   "execution_count": 11,
   "metadata": {},
   "outputs": [
    {
     "name": "stdout",
     "output_type": "stream",
     "text": [
      "tensor(0.1307)\n"
     ]
    }
   ],
   "source": [
    "print(train_dataset.train_data.float().mean()/255)"
   ]
  },
  {
   "cell_type": "code",
   "execution_count": 12,
   "metadata": {},
   "outputs": [
    {
     "name": "stdout",
     "output_type": "stream",
     "text": [
      "tensor(0.3081)\n"
     ]
    }
   ],
   "source": [
    "print(train_dataset.train_data.float().std()/255)"
   ]
  },
  {
   "cell_type": "markdown",
   "metadata": {},
   "source": [
    "#### Why divide by 255?\n",
    "- 784 inputs: each pixel 28x28\n",
    "- Each pixel value: 0-255 (single grayscale)\n",
    "- Divide by 255 to have any single pixel value to be within [0,1] $\\rightarrow$simple rescaling"
   ]
  },
  {
   "cell_type": "markdown",
   "metadata": {},
   "source": [
    "### Putting everything together"
   ]
  },
  {
   "cell_type": "code",
   "execution_count": 15,
   "metadata": {},
   "outputs": [
    {
     "name": "stdout",
     "output_type": "stream",
     "text": [
      "Epoch: 0 LR: [0.1]\n",
      "Epoch: 1 LR: [0.096]\n",
      "Iteration: 500. Loss: 0.25855910778045654. Accuracy: 93.0\n",
      "Epoch: 2 LR: [0.09216]\n",
      "Iteration: 1000. Loss: 0.13369649648666382. Accuracy: 94.57\n",
      "Epoch: 3 LR: [0.08847359999999999]\n",
      "Iteration: 1500. Loss: 0.12088318914175034. Accuracy: 94.26\n",
      "Epoch: 4 LR: [0.084934656]\n",
      "Iteration: 2000. Loss: 0.27535250782966614. Accuracy: 95.21\n",
      "Epoch: 5 LR: [0.08153726975999999]\n",
      "Iteration: 2500. Loss: 0.12434098869562149. Accuracy: 95.38\n",
      "Epoch: 6 LR: [0.07827577896959999]\n",
      "Iteration: 3000. Loss: 0.13227976858615875. Accuracy: 95.68\n",
      "Epoch: 7 LR: [0.07514474781081598]\n",
      "Iteration: 3500. Loss: 0.03038594126701355. Accuracy: 95.71\n",
      "Epoch: 8 LR: [0.07213895789838334]\n",
      "Iteration: 4000. Loss: 0.10637575387954712. Accuracy: 95.58\n",
      "Epoch: 9 LR: [0.06925339958244801]\n",
      "Iteration: 4500. Loss: 0.07112938165664673. Accuracy: 95.43\n",
      "Epoch: 10 LR: [0.06648326359915008]\n",
      "Iteration: 5000. Loss: 0.0519864596426487. Accuracy: 95.67\n",
      "Epoch: 11 LR: [0.06382393305518408]\n",
      "Iteration: 5500. Loss: 0.0947360098361969. Accuracy: 95.8\n",
      "Epoch: 12 LR: [0.06127097573297671]\n",
      "Iteration: 6000. Loss: 0.05479373782873154. Accuracy: 95.78\n",
      "Epoch: 13 LR: [0.05882013670365765]\n",
      "Iteration: 6500. Loss: 0.14708858728408813. Accuracy: 96.07\n",
      "Epoch: 14 LR: [0.056467331235511335]\n",
      "Iteration: 7000. Loss: 0.0989505797624588. Accuracy: 95.98\n",
      "Epoch: 15 LR: [0.05420863798609088]\n",
      "Iteration: 7500. Loss: 0.02780088409781456. Accuracy: 95.85\n",
      "Epoch: 16 LR: [0.052040292466647244]\n",
      "Epoch: 17 LR: [0.04995868076798135]\n",
      "Iteration: 8000. Loss: 0.017397794872522354. Accuracy: 96.31\n",
      "Epoch: 18 LR: [0.04796033353726209]\n",
      "Iteration: 8500. Loss: 0.01682233437895775. Accuracy: 96.42\n",
      "Epoch: 19 LR: [0.04604192019577161]\n",
      "Iteration: 9000. Loss: 0.006680376827716827. Accuracy: 96.31\n",
      "Epoch: 20 LR: [0.04420024338794074]\n",
      "Iteration: 9500. Loss: 0.0933283120393753. Accuracy: 96.38\n"
     ]
    }
   ],
   "source": [
    "import torch\n",
    "import torch.nn as nn\n",
    "import torchvision.transforms as transforms\n",
    "import torchvision.datasets as dsets\n",
    "from torch.autograd import Variable\n",
    "\n",
    "# Set seed\n",
    "torch.manual_seed(0)\n",
    "\n",
    "# Scheduler import\n",
    "from torch.optim.lr_scheduler import StepLR\n",
    "\n",
    "'''\n",
    "STEP 0: CREATE TRANSFORMATIONS\n",
    "'''\n",
    "train_dataset = dsets.MNIST(root='./data', \n",
    "                            train=True, \n",
    "                            transform=transforms.ToTensor(),\n",
    "                            download=True)\n",
    "\n",
    "mean_mnist = train_dataset.train_data.float().mean()/255\n",
    "std_mnist = train_dataset.train_data.float().std()/255\n",
    "\n",
    "transform = transforms.Compose([\n",
    "            transforms.RandomHorizontalFlip(),\n",
    "            transforms.ToTensor(),\n",
    "            transforms.Normalize((mean_mnist,), (std_mnist,)),\n",
    "            ])\n",
    "\n",
    "\n",
    "'''\n",
    "STEP 1: LOADING DATASET\n",
    "'''\n",
    "\n",
    "train_dataset = dsets.MNIST(root='./data', \n",
    "                            train=True, \n",
    "                            #transform=transforms.ToTensor(),\n",
    "                            transform=transform,\n",
    "                            download=True)\n",
    "\n",
    "test_dataset = dsets.MNIST(root='./data', \n",
    "                           train=False, \n",
    "                           #transform=transforms.ToTensor(),\n",
    "                           transform=transform)\n",
    "\n",
    "'''\n",
    "STEP 2: MAKING DATASET ITERABLE\n",
    "'''\n",
    "\n",
    "batch_size = 128\n",
    "n_iters = 10000\n",
    "num_epochs = n_iters / (len(train_dataset) / batch_size)\n",
    "num_epochs = int(num_epochs)\n",
    "\n",
    "train_loader = torch.utils.data.DataLoader(dataset=train_dataset, \n",
    "                                           batch_size=batch_size, \n",
    "                                           shuffle=True)\n",
    "\n",
    "test_loader = torch.utils.data.DataLoader(dataset=test_dataset, \n",
    "                                          batch_size=batch_size, \n",
    "                                          shuffle=False)\n",
    "\n",
    "'''\n",
    "STEP 3: CREATE MODEL CLASS\n",
    "'''\n",
    "class FeedforwardNeuralNetModel(nn.Module):\n",
    "    def __init__(self, input_dim, hidden_dim, output_dim):\n",
    "        super(FeedforwardNeuralNetModel, self).__init__()\n",
    "        # Linear function\n",
    "        self.fc1 = nn.Linear(input_dim, hidden_dim) \n",
    "        # Linear weight, W,  Y = WX + B\n",
    "        nn.init.kaiming_normal_(self.fc1.weight)\n",
    "        # Non-linearity\n",
    "        self.relu = nn.ReLU()\n",
    "        # Linear function (readout)\n",
    "        self.fc2 = nn.Linear(hidden_dim, output_dim)  \n",
    "        nn.init.kaiming_normal_(self.fc2.weight)\n",
    "    \n",
    "    def forward(self, x):\n",
    "        # Linear function\n",
    "        out = self.fc1(x)\n",
    "        # Non-linearity\n",
    "        out = self.relu(out)\n",
    "        # Linear function (readout)\n",
    "        out = self.fc2(out)\n",
    "        return out\n",
    "    \n",
    "'''\n",
    "STEP 4: INSTANTIATE MODEL CLASS\n",
    "'''\n",
    "input_dim = 28*28\n",
    "hidden_dim = 100\n",
    "output_dim = 10\n",
    "\n",
    "model = FeedforwardNeuralNetModel(input_dim, hidden_dim, output_dim)\n",
    "\n",
    "#######################\n",
    "#  USE GPU FOR MODEL  #\n",
    "#######################\n",
    "\n",
    "device = torch.device(\"cuda:0\" if torch.cuda.is_available() else \"cpu\")\n",
    "model.to(device)\n",
    "\n",
    "'''\n",
    "STEP 5: INSTANTIATE LOSS CLASS\n",
    "'''\n",
    "criterion = nn.CrossEntropyLoss()\n",
    "\n",
    "\n",
    "'''\n",
    "STEP 6: INSTANTIATE OPTIMIZER CLASS\n",
    "'''\n",
    "learning_rate = 0.1\n",
    "\n",
    "optimizer = torch.optim.SGD(model.parameters(), lr=learning_rate, momentum=0.9, nesterov=True)\n",
    "\n",
    "'''\n",
    "STEP 7: INSTANTIATE STEP LEARNING SCHEDULER CLASS\n",
    "'''\n",
    "# step_size: at how many multiples of epoch you decay\n",
    "# step_size = 1, after every 2 epoch, new_lr = lr*gamma \n",
    "# step_size = 2, after every 2 epoch, new_lr = lr*gamma \n",
    "\n",
    "# gamma = decaying factor\n",
    "scheduler = StepLR(optimizer, step_size=1, gamma=0.96)\n",
    "\n",
    "'''\n",
    "STEP 8: TRAIN THE MODEL\n",
    "'''\n",
    "iter = 0\n",
    "for epoch in range(num_epochs):\n",
    "    # Decay Learning Rate\n",
    "    scheduler.step()\n",
    "    # Print Learning Rate\n",
    "    print('Epoch:', epoch,'LR:', scheduler.get_lr())\n",
    "    for i, (images, labels) in enumerate(train_loader):\n",
    "        # Load images as tensors with gradient accumulation abilities\n",
    "        images = images.view(-1, 28*28).requires_grad_().to(device)\n",
    "        labels = labels.to(device)\n",
    "        \n",
    "        # Clear gradients w.r.t. parameters\n",
    "        optimizer.zero_grad()\n",
    "        \n",
    "        # Forward pass to get output/logits\n",
    "        outputs = model(images)\n",
    "        \n",
    "        # Calculate Loss: softmax --> cross entropy loss\n",
    "        loss = criterion(outputs, labels)\n",
    "        \n",
    "        # Getting gradients w.r.t. parameters\n",
    "        loss.backward()\n",
    "        \n",
    "        # Updating parameters\n",
    "        optimizer.step()\n",
    "        \n",
    "        iter += 1\n",
    "        \n",
    "        if iter % 500 == 0:\n",
    "            # Calculate Accuracy         \n",
    "            correct = 0\n",
    "            total = 0\n",
    "            # Iterate through test dataset\n",
    "            for images, labels in test_loader:\n",
    "                # Load images and resize\n",
    "                images = images.view(-1, 28*28).to(device)\n",
    "                \n",
    "                # Forward pass only to get logits/output\n",
    "                outputs = model(images)\n",
    "                \n",
    "                # Get predictions from the maximum value\n",
    "                _, predicted = torch.max(outputs.data, 1)\n",
    "                \n",
    "                # Total number of labels\n",
    "                total += labels.size(0)\n",
    "                \n",
    "                # Total correct predictions            \n",
    "                correct += (predicted.type(torch.FloatTensor).cpu() == labels.type(torch.FloatTensor)).sum()\n",
    "\n",
    "            accuracy = 100. * correct.item() / total\n",
    "\n",
    "            # Print Loss\n",
    "            print('Iteration: {}. Loss: {}. Accuracy: {}'.format(iter, loss.item(), accuracy))"
   ]
  },
  {
   "cell_type": "markdown",
   "metadata": {},
   "source": [
    "## Overfitting Solution 2: Early Stopping\n",
    "![](./images/early_stopping.png)"
   ]
  },
  {
   "cell_type": "markdown",
   "metadata": {
    "collapsed": true
   },
   "source": [
    "### How do we do this via PyTorch? 3 Steps.\n",
    "1. Track validation accuracy\n",
    "2. Whenever validation accuracy is better, we save the model's parameters\n",
    "3. Load the model's best parameters to test"
   ]
  },
  {
   "cell_type": "code",
   "execution_count": 18,
   "metadata": {
    "scrolled": true
   },
   "outputs": [
    {
     "name": "stdout",
     "output_type": "stream",
     "text": [
      "Epoch: 0 LR: [0.1]\n",
      "Iteration: 469. Loss: 0.2285567671060562. Accuracy: 92.38. Best Accuracy: 92.38\n",
      "Epoch: 1 LR: [0.096]\n",
      "Iteration: 938. Loss: 0.3470817506313324. Accuracy: 93.65. Best Accuracy: 93.65\n",
      "Epoch: 2 LR: [0.09216]\n",
      "Iteration: 1407. Loss: 0.32325246930122375. Accuracy: 94.52. Best Accuracy: 94.52\n",
      "Epoch: 3 LR: [0.08847359999999999]\n",
      "Iteration: 1876. Loss: 0.1460786610841751. Accuracy: 94.62. Best Accuracy: 94.62\n",
      "Epoch: 4 LR: [0.084934656]\n",
      "Iteration: 2345. Loss: 0.102019764482975. Accuracy: 94.47. Best Accuracy: 94.62\n",
      "Epoch: 5 LR: [0.08153726975999999]\n",
      "Iteration: 2814. Loss: 0.06490271538496017. Accuracy: 95.53. Best Accuracy: 95.53\n",
      "Epoch: 6 LR: [0.07827577896959999]\n",
      "Iteration: 3283. Loss: 0.13248136639595032. Accuracy: 94.82. Best Accuracy: 95.53\n",
      "Epoch: 7 LR: [0.07514474781081598]\n",
      "Iteration: 3752. Loss: 0.09072074294090271. Accuracy: 95.4. Best Accuracy: 95.53\n",
      "Epoch: 8 LR: [0.07213895789838334]\n",
      "Iteration: 4221. Loss: 0.09402436017990112. Accuracy: 95.62. Best Accuracy: 95.62\n",
      "Epoch: 9 LR: [0.06925339958244801]\n",
      "Iteration: 4690. Loss: 0.1331033855676651. Accuracy: 95.83. Best Accuracy: 95.83\n",
      "Epoch: 10 LR: [0.06648326359915008]\n",
      "Iteration: 5159. Loss: 0.04624582454562187. Accuracy: 95.45. Best Accuracy: 95.83\n",
      "Epoch: 11 LR: [0.06382393305518408]\n",
      "Iteration: 5628. Loss: 0.03372932970523834. Accuracy: 95.94. Best Accuracy: 95.94\n",
      "Epoch: 12 LR: [0.06127097573297671]\n",
      "Iteration: 6097. Loss: 0.042957354336977005. Accuracy: 95.91. Best Accuracy: 95.94\n",
      "Epoch: 13 LR: [0.05882013670365765]\n",
      "Iteration: 6566. Loss: 0.10592807084321976. Accuracy: 96.1. Best Accuracy: 96.1\n",
      "Epoch: 14 LR: [0.056467331235511335]\n",
      "Iteration: 7035. Loss: 0.0715859904885292. Accuracy: 95.96. Best Accuracy: 96.1\n",
      "Epoch: 15 LR: [0.05420863798609088]\n",
      "Iteration: 7504. Loss: 0.08129043877124786. Accuracy: 96.29. Best Accuracy: 96.29\n",
      "Epoch: 16 LR: [0.052040292466647244]\n",
      "Iteration: 7973. Loss: 0.08950412273406982. Accuracy: 96.37. Best Accuracy: 96.37\n",
      "Epoch: 17 LR: [0.04995868076798135]\n",
      "Iteration: 8442. Loss: 0.1426319032907486. Accuracy: 96.05. Best Accuracy: 96.37\n",
      "Epoch: 18 LR: [0.04796033353726209]\n",
      "Iteration: 8911. Loss: 0.113959401845932. Accuracy: 96.25. Best Accuracy: 96.37\n",
      "Epoch: 19 LR: [0.04604192019577161]\n",
      "Iteration: 9380. Loss: 0.0410139262676239. Accuracy: 96.4. Best Accuracy: 96.4\n",
      "Epoch: 20 LR: [0.04420024338794074]\n",
      "Iteration: 9849. Loss: 0.05333830788731575. Accuracy: 96.48. Best Accuracy: 96.48\n"
     ]
    }
   ],
   "source": [
    "import torch\n",
    "import torch.nn as nn\n",
    "import torchvision.transforms as transforms\n",
    "import torchvision.datasets as dsets\n",
    "from torch.autograd import Variable\n",
    "# New import for creating directories in your folder\n",
    "import os\n",
    "\n",
    "# Set seed\n",
    "torch.manual_seed(0)\n",
    "\n",
    "# Scheduler import\n",
    "from torch.optim.lr_scheduler import StepLR\n",
    "\n",
    "'''\n",
    "CHECK LOG OR MAKE LOG DIRECTORY\n",
    "'''\n",
    "# This will create a directory if there isn't one to store models\n",
    "if not os.path.isdir('logs'):\n",
    "    os.mkdir('logs')\n",
    "    \n",
    "'''\n",
    "STEP 0: CREATE TRANSFORMATIONS\n",
    "'''\n",
    "train_dataset = dsets.MNIST(root='./data', \n",
    "                            train=True, \n",
    "                            transform=transforms.ToTensor(),\n",
    "                            download=True)\n",
    "\n",
    "mean_mnist = train_dataset.train_data.float().mean()/255\n",
    "std_mnist = train_dataset.train_data.float().std()/255\n",
    "\n",
    "transform = transforms.Compose([\n",
    "            transforms.RandomHorizontalFlip(),\n",
    "            transforms.ToTensor(),\n",
    "            transforms.Normalize((mean_mnist,), (std_mnist,)),\n",
    "            ])\n",
    "\n",
    "\n",
    "'''\n",
    "STEP 1: LOADING DATASET\n",
    "'''\n",
    "\n",
    "train_dataset = dsets.MNIST(root='./data', \n",
    "                            train=True, \n",
    "                            #transform=transforms.ToTensor(),\n",
    "                            transform=transform,\n",
    "                            download=True)\n",
    "\n",
    "test_dataset = dsets.MNIST(root='./data', \n",
    "                           train=False, \n",
    "                           #transform=transforms.ToTensor(),\n",
    "                           transform=transform)\n",
    "\n",
    "'''\n",
    "STEP 2: MAKING DATASET ITERABLE\n",
    "'''\n",
    "\n",
    "batch_size = 128\n",
    "n_iters = 10000\n",
    "num_epochs = n_iters / (len(train_dataset) / batch_size)\n",
    "num_epochs = int(num_epochs)\n",
    "\n",
    "train_loader = torch.utils.data.DataLoader(dataset=train_dataset, \n",
    "                                           batch_size=batch_size, \n",
    "                                           shuffle=True)\n",
    "\n",
    "test_loader = torch.utils.data.DataLoader(dataset=test_dataset, \n",
    "                                          batch_size=batch_size, \n",
    "                                          shuffle=False)\n",
    "\n",
    "'''\n",
    "STEP 3: CREATE MODEL CLASS\n",
    "'''\n",
    "class FeedforwardNeuralNetModel(nn.Module):\n",
    "    def __init__(self, input_dim, hidden_dim, output_dim):\n",
    "        super(FeedforwardNeuralNetModel, self).__init__()\n",
    "        # Linear function\n",
    "        self.fc1 = nn.Linear(input_dim, hidden_dim) \n",
    "        # Linear weight, W,  Y = WX + B\n",
    "        nn.init.kaiming_normal_(self.fc1.weight)\n",
    "        # Non-linearity\n",
    "        self.relu = nn.ReLU()\n",
    "        # Linear function (readout)\n",
    "        self.fc2 = nn.Linear(hidden_dim, output_dim)  \n",
    "        nn.init.kaiming_normal_(self.fc2.weight)\n",
    "    \n",
    "    def forward(self, x):\n",
    "        # Linear function\n",
    "        out = self.fc1(x)\n",
    "        # Non-linearity\n",
    "        out = self.relu(out)\n",
    "        # Linear function (readout)\n",
    "        out = self.fc2(out)\n",
    "        return out\n",
    "    \n",
    "'''\n",
    "STEP 4: INSTANTIATE MODEL CLASS\n",
    "'''\n",
    "input_dim = 28*28\n",
    "hidden_dim = 100\n",
    "output_dim = 10\n",
    "\n",
    "model = FeedforwardNeuralNetModel(input_dim, hidden_dim, output_dim)\n",
    "\n",
    "#######################\n",
    "#  USE GPU FOR MODEL  #\n",
    "#######################\n",
    "\n",
    "device = torch.device(\"cuda:0\" if torch.cuda.is_available() else \"cpu\")\n",
    "model.to(device)\n",
    "'''\n",
    "STEP 5: INSTANTIATE LOSS CLASS\n",
    "'''\n",
    "criterion = nn.CrossEntropyLoss()\n",
    "\n",
    "\n",
    "'''\n",
    "STEP 6: INSTANTIATE OPTIMIZER CLASS\n",
    "'''\n",
    "learning_rate = 0.1\n",
    "\n",
    "optimizer = torch.optim.SGD(model.parameters(), lr=learning_rate, momentum=0.9, nesterov=True)\n",
    "\n",
    "'''\n",
    "STEP 7: INSTANTIATE STEP LEARNING SCHEDULER CLASS\n",
    "'''\n",
    "# step_size: at how many multiples of epoch you decay\n",
    "# step_size = 1, after every 2 epoch, new_lr = lr*gamma \n",
    "# step_size = 2, after every 2 epoch, new_lr = lr*gamma \n",
    "\n",
    "# gamma = decaying factor\n",
    "scheduler = StepLR(optimizer, step_size=1, gamma=0.96)\n",
    "\n",
    "'''\n",
    "STEP 8: TRAIN THE MODEL\n",
    "'''\n",
    "iter = 0\n",
    "\n",
    "# Validation accuracy tracker\n",
    "val_acc = 0\n",
    "\n",
    "for epoch in range(num_epochs):\n",
    "    # Decay Learning Rate\n",
    "    scheduler.step()\n",
    "    # Print Learning Rate\n",
    "    print('Epoch:', epoch,'LR:', scheduler.get_lr())\n",
    "    for i, (images, labels) in enumerate(train_loader):\n",
    "        # Load images\n",
    "        images = images.view(-1, 28*28).requires_grad_().to(device)\n",
    "        labels = labels.to(device)\n",
    "        \n",
    "        # Clear gradients w.r.t. parameters\n",
    "        optimizer.zero_grad()\n",
    "        \n",
    "        # Forward pass to get output/logits\n",
    "        outputs = model(images)\n",
    "        \n",
    "        # Calculate Loss: softmax --> cross entropy loss\n",
    "        loss = criterion(outputs, labels)\n",
    "        \n",
    "        # Getting gradients w.r.t. parameters\n",
    "        loss.backward()\n",
    "        \n",
    "        # Updating parameters\n",
    "        optimizer.step()\n",
    "        \n",
    "        iter += 1\n",
    "        \n",
    "    # Calculate Accuracy at every epoch         \n",
    "    correct = 0\n",
    "    total = 0\n",
    "    # Iterate through test dataset\n",
    "    for images, labels in test_loader:\n",
    "        # Load images\n",
    "        images = images.view(-1, 28*28).to(device)\n",
    "\n",
    "        # Forward pass only to get logits/output\n",
    "        outputs = model(images)\n",
    "\n",
    "        # Get predictions from the maximum value\n",
    "        _, predicted = torch.max(outputs.data, 1)\n",
    "\n",
    "        # Total number of labels\n",
    "        total += labels.size(0)\n",
    "\n",
    "         # Total correct predictions            \n",
    "        correct += (predicted.type(torch.FloatTensor).cpu() == labels.type(torch.FloatTensor)).sum()\n",
    "\n",
    "    accuracy = 100. * correct.item() / total\n",
    "    \n",
    "    # if epoch 0, best accuracy is this\n",
    "\n",
    "    if epoch == 0:\n",
    "        val_acc = accuracy\n",
    "    elif accuracy > val_acc:\n",
    "        val_acc = accuracy\n",
    "        # Save your model\n",
    "        torch.save(model.state_dict(), './logs/best_model.pt')\n",
    "    # Print Loss\n",
    "    print('Iteration: {}. Loss: {}. Accuracy: {}. Best Accuracy: {}'.format(iter, loss.item(), accuracy, val_acc))"
   ]
  },
  {
   "cell_type": "code",
   "execution_count": 20,
   "metadata": {},
   "outputs": [
    {
     "name": "stdout",
     "output_type": "stream",
     "text": [
      "Iteration: 9849. Loss: 0.05333830788731575. Accuracy: 96.35\n"
     ]
    }
   ],
   "source": [
    "'''\n",
    "STEP 9: TEST THE MODEL\n",
    "This model should produce the exact same best test accuracy!\n",
    "96.48%\n",
    "'''\n",
    "\n",
    "# Load the model\n",
    "model.load_state_dict(torch.load('./logs/best_model.pt'))\n",
    "\n",
    "# Evaluate model\n",
    "model.eval()\n",
    "\n",
    "# Calculate Accuracy at every epoch         \n",
    "correct = 0\n",
    "total = 0\n",
    "\n",
    "# Iterate through test dataset\n",
    "for images, labels in test_loader:\n",
    "    # Load images\n",
    "    images = images.view(-1, 28*28).to(device)\n",
    "\n",
    "    # Forward pass only to get logits/output\n",
    "    outputs = model(images)\n",
    "\n",
    "    # Get predictions from the maximum value\n",
    "    _, predicted = torch.max(outputs.data, 1)\n",
    "\n",
    "    # Total number of labels\n",
    "    total += labels.size(0)\n",
    "\n",
    "    # Total correct predictions            \n",
    "    correct += (predicted.type(torch.FloatTensor).cpu() == labels.type(torch.FloatTensor)).sum()\n",
    "\n",
    "accuracy = 100. * correct.item() / total\n",
    "\n",
    "# Print Loss\n",
    "print('Iteration: {}. Loss: {}. Accuracy: {}'.format(iter, loss.item(), accuracy))"
   ]
  },
  {
   "cell_type": "markdown",
   "metadata": {},
   "source": [
    "## Overfitting Solution 3: Regularization"
   ]
  },
  {
   "cell_type": "markdown",
   "metadata": {},
   "source": [
    "## Overfitting Solution 3a: Weight Decay (L2 Regularization)"
   ]
  },
  {
   "cell_type": "markdown",
   "metadata": {
    "collapsed": true
   },
   "source": [
    "## Overfitting Solution 3b: Dropout"
   ]
  },
  {
   "cell_type": "markdown",
   "metadata": {},
   "source": [
    "## Overfitting Solution 4: Batch Normalization"
   ]
  }
 ],
 "metadata": {
  "kernelspec": {
   "display_name": "latest",
   "language": "python",
   "name": "latest"
  },
  "language_info": {
   "codemirror_mode": {
    "name": "ipython",
    "version": 3
   },
   "file_extension": ".py",
   "mimetype": "text/x-python",
   "name": "python",
   "nbconvert_exporter": "python",
   "pygments_lexer": "ipython3",
   "version": "3.7.3"
  }
 },
 "nbformat": 4,
 "nbformat_minor": 2
}
