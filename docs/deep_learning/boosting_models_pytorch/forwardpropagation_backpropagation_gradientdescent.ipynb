{
 "cells": [
  {
   "cell_type": "markdown",
   "metadata": {},
   "source": [
    "#### Transiting to Backpropagation\n",
    "- Let's go back to our simple FNN to put things in perspective\n",
    "    - Let us ignore non-linearities for now to keep it simpler, but it's just a tiny change subsequently\n",
    "    - Given a linear transformation on our input (for simplicity instead of an affine transformation that includes a bias): $\\hat y = \\theta x$\n",
    "        - $\\theta$ is our parameters\n",
    "        - $x$ is our input\n",
    "        - $\\hat y$ is our prediction\n",
    "    - Then we have our MSE loss function $L = \\frac{1}{2} (\\hat y - y)^2$\n",
    "- We need to calculate our partial derivatives of our loss w.r.t. our parameters to update our parameters: $\\nabla_{\\theta} = \\frac{\\delta L}{\\delta \\theta}$\n",
    "    - With chain rule we have $\\frac{\\delta L}{\\delta \\theta} = \\frac{\\delta L}{\\delta \\hat y} \\frac{\\delta \\hat y}{\\delta \\theta}$\n",
    "        - $\\frac{\\delta L}{\\delta \\hat y} = (\\hat y -  y)$\n",
    "        - $\\frac{\\delta \\hat y}{\\delta \\theta}$ is our partial derivatives of $y$ w.r.t. our parameters (our gradient) as we have covered previously\n",
    "        \n",
    "\n",
    "#### Forward Propagation, Backward Propagation and Gradient Descent\n",
    "- All right, now let's put together what we have learnt on backpropagation and apply it on a simple feedforward neural network (FNN)\n",
    "- Let us assume the following simple FNN architecture and take note that we do not have bias here to keep things simple\n",
    "    - FNN architecture\n",
    "        1. Linear function: hidden size = 32\n",
    "        2. Non-linear function: sigmoid\n",
    "        3. Linear function: output size = 1\n",
    "        4. Non-linear function: sigmoid\n",
    "    - We will be going through a binary classification problem classifying 2 types of flowers\n",
    "        - Output size: 1 (represented by 0 or 1 depending on the flower)\n",
    "        - Input size: 2 (features of the flower)\n",
    "\n",
    "![](./images/manual_bp.png) "
   ]
  },
  {
   "cell_type": "code",
   "execution_count": 1,
   "metadata": {
    "collapsed": true
   },
   "outputs": [],
   "source": [
    "import torch\n",
    "import torch.nn as nn"
   ]
  },
  {
   "cell_type": "code",
   "execution_count": 2,
   "metadata": {
    "collapsed": true
   },
   "outputs": [],
   "source": [
    "from sklearn import datasets\n",
    "from sklearn import preprocessing\n",
    "iris = datasets.load_iris()\n",
    "X = torch.tensor(preprocessing.normalize(iris.data[:, :2]), dtype=torch.float)\n",
    "y = torch.tensor(iris.target.reshape(-1, 1), dtype=torch.float)"
   ]
  },
  {
   "cell_type": "code",
   "execution_count": 3,
   "metadata": {},
   "outputs": [
    {
     "data": {
      "text/plain": [
       "<torch._C.Generator at 0x7f7004035cb0>"
      ]
     },
     "execution_count": 3,
     "metadata": {},
     "output_type": "execute_result"
    }
   ],
   "source": [
    "# Set manual seed\n",
    "torch.manual_seed(2)"
   ]
  },
  {
   "cell_type": "code",
   "execution_count": 4,
   "metadata": {},
   "outputs": [
    {
     "name": "stdout",
     "output_type": "stream",
     "text": [
      "torch.Size([150, 2])\n",
      "torch.Size([150, 1])\n"
     ]
    }
   ],
   "source": [
    "print(X.size())\n",
    "print(y.size())"
   ]
  },
  {
   "cell_type": "code",
   "execution_count": 5,
   "metadata": {
    "collapsed": true
   },
   "outputs": [],
   "source": [
    "# We only take 2 classes to make a binary classification problem\n",
    "X = X[:y[y < 2].size()[0]]\n",
    "y = y[:y[y < 2].size()[0]]"
   ]
  },
  {
   "cell_type": "code",
   "execution_count": 6,
   "metadata": {},
   "outputs": [
    {
     "name": "stdout",
     "output_type": "stream",
     "text": [
      "torch.Size([100, 2])\n",
      "torch.Size([100, 1])\n"
     ]
    }
   ],
   "source": [
    "print(X.size())\n",
    "print(y.size())"
   ]
  },
  {
   "cell_type": "code",
   "execution_count": 7,
   "metadata": {},
   "outputs": [
    {
     "name": "stdout",
     "output_type": "stream",
     "text": [
      "torch.Size([2, 32])\n"
     ]
    }
   ],
   "source": [
    "print(torch.randn(2, 32).size())"
   ]
  },
  {
   "cell_type": "code",
   "execution_count": 8,
   "metadata": {
    "collapsed": true
   },
   "outputs": [],
   "source": [
    "class FNN(nn.Module):\n",
    "    def __init__(self, ):\n",
    "        super().__init__()\n",
    "        \n",
    "        # Dimensions for input, hidden and output\n",
    "        self.input_dim = 2\n",
    "        self.hidden_dim = 32\n",
    "        self.output_dim = 1\n",
    "        \n",
    "        # Learning rate definition\n",
    "        self.learning_rate = 0.001\n",
    "        \n",
    "        # Our parameters (weights)\n",
    "        # w1: 2 x 32\n",
    "        self.w1 = torch.randn(self.input_dim, self.hidden_dim)\n",
    "        \n",
    "        # w2: 32 x 1\n",
    "        self.w2 = torch.randn(self.hidden_dim, self.output_dim)\n",
    "    \n",
    "    def sigmoid(self, s):\n",
    "        return 1 / (1 + torch.exp(-s))\n",
    "    \n",
    "    def sigmoid_first_order_derivative(self, s):\n",
    "        return s * (1 - s)\n",
    "    \n",
    "    # Forward propagation\n",
    "    def forward(self, X):\n",
    "        # First linear layer\n",
    "        self.y1 = torch.matmul(X, self.w1) # 3 X 3 \".dot\" does not broadcast in PyTorch\n",
    "        \n",
    "        # First non-linearity\n",
    "        self.y2 = self.sigmoid(self.y1)\n",
    "        \n",
    "        # Second linear layer\n",
    "        self.y3 = torch.matmul(self.y2, self.w2)\n",
    "        \n",
    "        # Second non-linearity\n",
    "        y4 = self.sigmoid(self.y3)\n",
    "        return y4\n",
    "        \n",
    "    # Backward propagation\n",
    "    def backward(self, X, l, y4):\n",
    "        # Derivative of binary cross entropy cost w.r.t. final output y4\n",
    "        self.dC_dy4 = y4 - l\n",
    "        \n",
    "        '''\n",
    "        Gradients for w2: partial derivative of cost w.r.t. w2\n",
    "        dC/dw2\n",
    "        '''\n",
    "        self.dy4_dy3 = self.sigmoid_first_order_derivative(y4)\n",
    "        self.dy3_dw2 = self.y2\n",
    "        \n",
    "        # Y4 delta: dC_dy4 dy4_dy3\n",
    "        self.y4_delta = self.dC_dy4 * self.dy4_dy3\n",
    "        \n",
    "        # This is our gradients for w1: dC_dy4 dy4_dy3 dy3_dw2\n",
    "        self.dC_dw2 = torch.matmul(torch.t(self.dy3_dw2), self.y4_delta)\n",
    "        \n",
    "        '''\n",
    "        Gradients for w1: partial derivative of cost w.r.t w1\n",
    "        dC/dw1\n",
    "        '''\n",
    "        self.dy3_dy2 = self.w2\n",
    "        self.dy2_dy1 = self.sigmoid_first_order_derivative(self.y2)\n",
    "        \n",
    "        # Y2 delta: (dC_dy4 dy4_dy3) dy3_dy2 dy2_dy1\n",
    "        self.y2_delta = torch.matmul(self.y4_delta, torch.t(self.dy3_dy2)) * self.dy2_dy1\n",
    "        \n",
    "        # Gradients for w1: (dC_dy4 dy4_dy3) dy3_dy2 dy2_dy1 dy1_dw1\n",
    "        self.dC_dw1 = torch.matmul(torch.t(X), self.y2_delta)\n",
    "        \n",
    "        # Gradient descent on the weights from our 2 linear layers\n",
    "        self.w1 -= self.learning_rate * self.dC_dw1\n",
    "        self.w2 -= self.learning_rate * self.dC_dw2\n",
    "\n",
    "    def train(self, X, l):\n",
    "        # Forward propagation\n",
    "        y4 = self.forward(X)\n",
    "        \n",
    "        # Backward propagation and gradient descent\n",
    "        self.backward(X, l, y4)"
   ]
  },
  {
   "cell_type": "code",
   "execution_count": 9,
   "metadata": {
    "scrolled": true
   },
   "outputs": [
    {
     "name": "stdout",
     "output_type": "stream",
     "text": [
      "Epoch 0 | Loss: 0.9228229522705078\n",
      "Epoch 20 | Loss: 0.6966760754585266\n",
      "Epoch 40 | Loss: 0.6714916229248047\n",
      "Epoch 60 | Loss: 0.6686137914657593\n",
      "Epoch 80 | Loss: 0.666690468788147\n",
      "Epoch 100 | Loss: 0.6648102402687073\n"
     ]
    }
   ],
   "source": [
    "# Instantiate our model class and assign it to our model object\n",
    "model = FNN()\n",
    "\n",
    "# Loss list for plotting of loss behaviour\n",
    "loss_lst = []\n",
    "\n",
    "# Number of times we want our FNN to look at all 100 samples we have, 100 implies looking through 100x\n",
    "num_epochs = 101\n",
    "\n",
    "# Let's train our model with 100 epochs\n",
    "for epoch in range(num_epochs):\n",
    "    # Get our predictions\n",
    "    y_hat = model(X)\n",
    "    \n",
    "    # Cross entropy loss, remember this can never be negative by nature of the equation\n",
    "    # But it does not mean the loss can't be negative for other loss functions\n",
    "    cross_entropy_loss = -(y * torch.log(y_hat) + (1 - y) * torch.log(1 - y_hat))\n",
    "    \n",
    "    # We have to take cross entropy loss over all our samples, 100 in this 2-class iris dataset\n",
    "    mean_cross_entropy_loss = torch.mean(cross_entropy_loss).detach().item()\n",
    "    \n",
    "    # Print our mean cross entropy loss\n",
    "    if epoch % 20 == 0:\n",
    "        print('Epoch {} | Loss: {}'.format(epoch, mean_cross_entropy_loss))\n",
    "    loss_lst.append(mean_cross_entropy_loss)\n",
    "    \n",
    "    # (1) Forward propagation: to get our predictions to pass to our cross entropy loss function\n",
    "    # (2) Back propagation: get our partial derivatives w.r.t. parameters (gradients)\n",
    "    # (3) Gradient Descent: update our weights with our gradients\n",
    "    model.train(X, y)"
   ]
  },
  {
   "cell_type": "code",
   "execution_count": 10,
   "metadata": {
    "scrolled": true
   },
   "outputs": [
    {
     "data": {
      "text/plain": [
       "<matplotlib.axes._subplots.AxesSubplot at 0x7f6f8e6cacf8>"
      ]
     },
     "execution_count": 10,
     "metadata": {},
     "output_type": "execute_result"
    },
    {
     "data": {
      "image/png": "[encoded data removed]",
      "text/plain": [
       "<Figure size 432x288 with 1 Axes>"
      ]
     },
     "metadata": {
      "needs_background": "light"
     },
     "output_type": "display_data"
    }
   ],
   "source": [
    "import pandas as pd\n",
    "%matplotlib inline\n",
    "pd.Series(loss_lst).plot()"
   ]
  }
 ],
 "metadata": {
  "kernelspec": {
   "display_name": "latest",
   "language": "python",
   "name": "latest"
  },
  "language_info": {
   "codemirror_mode": {
    "name": "ipython",
    "version": 3
   },
   "file_extension": ".py",
   "mimetype": "text/x-python",
   "name": "python",
   "nbconvert_exporter": "python",
   "pygments_lexer": "ipython3",
   "version": "3.7.0"
  }
 },
 "nbformat": 4,
 "nbformat_minor": 2
}
