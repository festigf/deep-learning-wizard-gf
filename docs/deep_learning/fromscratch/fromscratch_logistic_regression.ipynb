{
 "cells": [
  {
   "cell_type": "markdown",
   "metadata": {
    "colab_type": "text",
    "id": "GLwn6hj_rs1N"
   },
   "source": [
    "# Logistic Regression from Scratch\n",
    "[![Open In Colab](https://colab.research.google.com/assets/colab-badge.svg)](https://colab.research.google.com/github/ritchieng/deep-learning-wizard/blob/master/docs/deep_learning/fromscratch/fromscratch_logistic_regression.ipynb)"
   ]
  },
  {
   "cell_type": "markdown",
   "metadata": {
    "colab_type": "text",
    "id": "pz9XuZE7rs1O"
   },
   "source": [
    "This is an implementation of a simple logistic regression for binary class labels. We will be attempting to classify 2 flowers based on their petal width and height: setosa and versicolor."
   ]
  },
  {
   "cell_type": "markdown",
   "metadata": {
    "colab_type": "text",
    "id": "n4xixYsWrs1P"
   },
   "source": [
    "## Imports"
   ]
  },
  {
   "cell_type": "code",
   "execution_count": 0,
   "metadata": {
    "colab": {},
    "colab_type": "code",
    "id": "R-5K_PY6rs1Q"
   },
   "outputs": [],
   "source": [
    "%matplotlib inline\n",
    "import matplotlib.pyplot as plt\n",
    "import numpy as np\n",
    "\n",
    "import torch\n",
    "import torch.nn.functional as F\n",
    "\n",
    "from sklearn import datasets\n",
    "from sklearn import preprocessing\n",
    "from sklearn.model_selection import train_test_split\n",
    "from collections import Counter"
   ]
  },
  {
   "cell_type": "markdown",
   "metadata": {
    "colab_type": "text",
    "id": "djQAjkHXrs1T"
   },
   "source": [
    "## Preparing a custom 2-class IRIS dataset"
   ]
  },
  {
   "cell_type": "markdown",
   "metadata": {
    "colab_type": "text",
    "id": "KYTwQQHpw1fy"
   },
   "source": [
    "### Load Data"
   ]
  },
  {
   "cell_type": "code",
   "execution_count": 0,
   "metadata": {
    "colab": {},
    "colab_type": "code",
    "id": "Qpmpr2OftrMh"
   },
   "outputs": [],
   "source": [
    "# Instantiate dataset class and assign to object\n",
    "iris = datasets.load_iris()\n",
    "\n",
    "# Load features and target\n",
    "# Take only 2 classes, and 2 features (sepal length/width)\n",
    "X = iris.data[:-50, :2]\n",
    "# For teaching the math rather than preprocessing techniques,\n",
    "# we'll be using this simple scaling method. However, you must\n",
    "# be cautious to scale your training/testing sets subsequently.\n",
    "X = preprocessing.scale(X)\n",
    "y = iris.target[:-50] "
   ]
  },
  {
   "cell_type": "markdown",
   "metadata": {
    "colab_type": "text",
    "id": "Cnlv9kIaw4aL"
   },
   "source": [
    "### Print Data Details"
   ]
  },
  {
   "cell_type": "code",
   "execution_count": 0,
   "metadata": {
    "colab": {
     "base_uri": "https://localhost:8080/",
     "height": 71
    },
    "colab_type": "code",
    "id": "BcnyT2d0t2ou",
    "outputId": "131865ae-0026-4801-aebe-fd6660674455"
   },
   "outputs": [
    {
     "name": "stdout",
     "output_type": "stream",
     "text": [
      "Counter({0: 50, 1: 50})\n",
      "['setosa', 'versicolor']\n",
      "(100, 2)\n"
     ]
    }
   ],
   "source": [
    "# 50 of each iris flower\n",
    "print(Counter(y))\n",
    "\n",
    "# Type of flower\n",
    "print(list(iris.target_names[:-1]))\n",
    "\n",
    "# Shape of features\n",
    "print(X.shape)"
   ]
  },
  {
   "cell_type": "markdown",
   "metadata": {
    "colab_type": "text",
    "id": "3T9Czza-w9LN"
   },
   "source": [
    "### Scatterplot 2 Classes"
   ]
  },
  {
   "cell_type": "code",
   "execution_count": 0,
   "metadata": {
    "colab": {
     "base_uri": "https://localhost:8080/",
     "height": 265
    },
    "colab_type": "code",
    "id": "WHdvR6_4v8Hn",
    "outputId": "9a1f24f0-ee86-475e-861c-cc556a401ac6"
   },
   "outputs": [
    {
     "data": {
      "image/png": "[encoded data removed]",
      "text/plain": [
       "<Figure size 432x288 with 1 Axes>"
      ]
     },
     "metadata": {
      "tags": []
     },
     "output_type": "display_data"
    }
   ],
   "source": [
    "plt.scatter(X[:, 0], X[:, 1], c=y);"
   ]
  },
  {
   "cell_type": "markdown",
   "metadata": {
    "colab_type": "text",
    "id": "nDsdpXUfx3i_"
   },
   "source": [
    "### Train/Test Split"
   ]
  },
  {
   "cell_type": "code",
   "execution_count": 0,
   "metadata": {
    "colab": {
     "base_uri": "https://localhost:8080/",
     "height": 107
    },
    "colab_type": "code",
    "id": "j3UJqbUsx6qb",
    "outputId": "178cdb2a-60c2-4b7a-b038-5425270d8059"
   },
   "outputs": [
    {
     "name": "stdout",
     "output_type": "stream",
     "text": [
      "X train size: (80, 2)\n",
      "X test size: (20, 2)\n",
      "y train size: (80,)\n",
      "y test size: (20,)\n",
      "Counter({0: 41, 1: 39})\n"
     ]
    }
   ],
   "source": [
    "X_train, X_test, y_train, y_test = train_test_split(X, y, test_size=0.2)\n",
    "print(f'X train size: {X_train.shape}')\n",
    "print(f'X test size: {X_test.shape}')\n",
    "print(f'y train size: {y_train.shape}')\n",
    "print(f'y test size: {y_test.shape}')\n",
    "\n",
    "# Distribution of both classes are roughly equal using train_test_split function\n",
    "print(Counter(y_train))"
   ]
  },
  {
   "cell_type": "markdown",
   "metadata": {
    "colab_type": "text",
    "id": "NXN0nphArs1X"
   },
   "source": [
    "## Math\n",
    "\n",
    "### 1. Forwardpropagation\n",
    "- **Get our logits and probabilities**\n",
    "- Affine function/transformation: $z = \\theta x + b$\n",
    "- Sigmoid/logistic function: $\\hat y = \\frac{1}{1 + e^{-z}}$\n",
    "\n",
    "### 2. Backwardpropagation\n",
    "- **Calculate gradients / partial derivatives w.r.t. weights and bias**\n",
    "- Loss: $L = ylog(\\hat y) + (1-y) log (1 - \\hat y)$\n",
    "- Partial derivative of loss w.r.t weights: $\\frac{\\delta L}{\\delta w} =\\frac{\\delta L}{\\delta z} \\frac{\\delta z}{\\delta w} = (\\hat y - y)(x^T)$\n",
    "- Partial derivative of loss w.r.t. bias: $\\frac{\\delta L}{\\delta b} = \\frac{\\delta L}{\\delta z} \\frac{\\delta z}{\\delta b} = (\\hat y - y)(1)$\n",
    "    - $\\frac{\\delta L}{\\delta z} = \\hat y - y$\n",
    "    - $\\frac{\\delta z}{\\delta w} = x$\n",
    "    - $\\frac{\\delta z}{\\delta b} = 1$\n",
    "\n",
    "#### 2a. Loss function clarification\n",
    "- Actually, why is our loss equation $L = ylog(\\hat y) + (1-y) log (1 - \\hat y)$?\n",
    "    - We have given the intuition in the [Logistic Regression tutorial](https://www.deeplearningwizard.com/deep_learning/practical_pytorch/pytorch_logistic_regression/#cross-entropy-function-d-for-2-class) on why it works.\n",
    "    - Here we will cover the derivation which essentially is merely maximizing the log likelihood of the parameters (maximizing the probability of our predicted output given our input and parameters\n",
    "    - Given:\n",
    "        - $\\hat y = \\frac{1}{1 + e^{-z}}$.\n",
    "    - Then:\n",
    "        - $P(y=1 \\mid x;\\theta) = \\hat y$\n",
    "        - $P(y=0 \\mid x;\\theta) = 1 - \\hat y$\n",
    "    - Simplified further:\n",
    "        - $p(y \\mid x; \\theta) = (\\hat y)^y(1 - \\hat y)^{1-y}$\n",
    "    - Given m training samples, the likelihood of the parameters is simply the product of probabilities:\n",
    "        - $L(\\theta) = \\displaystyle \\prod_{i=1}^{m} p(y^i \\mid x^i; \\theta)$\n",
    "        - $L(\\theta) = \\displaystyle \\prod_{i=1}^{m} (\\hat y^{i})^{y^i}(1 - \\hat y^{i})^{1-y^{i}}$\n",
    "        - Essentially, we want to maximize the probability of our ouput given our input and parameters\n",
    "    - But it's easier to maximize the log likelihood, so we take the natural logarithm. \n",
    "        - $L(\\theta) = \\displaystyle \\sum_{i=1}^{m} y^{i}log (\\hat y^{i}) + (1 - y^{i})log(1 - \\hat y^{i})$\n",
    "    - Why is is easier to maximize the log likelihood?\n",
    "        - The natural logarithm is a function that monotonically increases.\n",
    "        - This allows us to find the \"max\" of the log likelihood easier compared to a non-monotonically increasing function (like a wave up and down).\n",
    "\n",
    "### 3. Gradient descent: updating weights\n",
    "- $w = w - \\alpha (\\hat y - y)(x^T)$\n",
    "- $b = b - \\alpha (\\hat y - y).1$\n"
   ]
  },
  {
   "cell_type": "markdown",
   "metadata": {
    "colab_type": "text",
    "id": "XE760CR5NA0M"
   },
   "source": [
    "## Training from Scratch"
   ]
  },
  {
   "cell_type": "code",
   "execution_count": 0,
   "metadata": {
    "colab": {
     "base_uri": "https://localhost:8080/",
     "height": 557
    },
    "colab_type": "code",
    "id": "DtBcDgbvz-A2",
    "outputId": "f36386b5-04a3-406e-e9bf-09b48f3bac03"
   },
   "outputs": [
    {
     "name": "stdout",
     "output_type": "stream",
     "text": [
      "X train size: (80, 2)\n",
      "X test size: (20, 2)\n",
      "y train size: (80,)\n",
      "y test size: (20,)\n",
      "Counter({1: 41, 0: 39})\n",
      "Epoch: 0 | Accuracy: 48.0000 | Cost: 55.4518\n",
      "Epoch: 1 | Accuracy: 100.0000 | Cost: 5.6060\n",
      "Epoch: 2 | Accuracy: 100.0000 | Cost: 5.0319\n",
      "Epoch: 3 | Accuracy: 100.0000 | Cost: 4.6001\n",
      "Epoch: 4 | Accuracy: 100.0000 | Cost: 4.2595\n",
      "Epoch: 5 | Accuracy: 100.0000 | Cost: 3.9819\n",
      "Epoch: 6 | Accuracy: 100.0000 | Cost: 3.7498\n",
      "Epoch: 7 | Accuracy: 100.0000 | Cost: 3.5521\n",
      "Epoch: 8 | Accuracy: 100.0000 | Cost: 3.3810\n",
      "Epoch: 9 | Accuracy: 100.0000 | Cost: 3.2310\n",
      "Epoch: 10 | Accuracy: 100.0000 | Cost: 3.0981\n",
      "Epoch: 11 | Accuracy: 100.0000 | Cost: 2.9794\n",
      "Epoch: 12 | Accuracy: 100.0000 | Cost: 2.8724\n",
      "Epoch: 13 | Accuracy: 100.0000 | Cost: 2.7754\n",
      "Epoch: 14 | Accuracy: 100.0000 | Cost: 2.6869\n",
      "Epoch: 15 | Accuracy: 100.0000 | Cost: 2.6057\n",
      "Epoch: 16 | Accuracy: 100.0000 | Cost: 2.5308\n",
      "Epoch: 17 | Accuracy: 100.0000 | Cost: 2.4616\n",
      "Epoch: 18 | Accuracy: 100.0000 | Cost: 2.3973\n",
      "Epoch: 19 | Accuracy: 100.0000 | Cost: 2.3374\n",
      "Weights \n",
      " tensor([[ 4.9453],\n",
      "        [-3.6849]])\n",
      "Bias \n",
      " tensor([0.5570])\n"
     ]
    }
   ],
   "source": [
    "learning_rate = 0.1\n",
    "num_features = X.shape[1]\n",
    "weights = torch.zeros(num_features, 1, dtype=torch.float32)\n",
    "bias = torch.zeros(1, dtype=torch.float32)\n",
    "\n",
    "X_train = torch.from_numpy(X_train).type(torch.float32)\n",
    "y_train = torch.from_numpy(y_train).type(torch.float32)\n",
    "\n",
    "for epoch in range(num_epochs):        \n",
    "    # 1. Forwardpropagation:\n",
    "    # 1a. Affine Transformation: z = \\theta x + b\n",
    "    z = torch.add(torch.mm(X_train, weights), bias)\n",
    "    # 2a. Sigmoid/Logistic Function: y_hat = 1 / (1 + e^{-z})\n",
    "    y_hat = 1. / (1. + torch.exp(-z))\n",
    "    \n",
    "    # Backpropagation:\n",
    "    # 1. Calculate binary cross entropy \n",
    "    l = torch.mm(-y_train.view(1, -1), torch.log(y_hat)) - torch.mm((1 - y_train).view(1, -1), torch.log(1 - y_hat))\n",
    "    \n",
    "    # 2. Calculate dl/dz\n",
    "    dl_dz = y_train - y_hat.view(-1)\n",
    "    \n",
    "    # 2. Calculate partial derivative of cost w.r.t weights (gradients)\n",
    "    # dl_dw = dl_dz dz_dw = (y_hat - y)(x^T)\n",
    "    grad = torch.mm(X_train.transpose(0, 1), dl_dz.view(-1, 1))\n",
    "    \n",
    "    # Gradient descent:\n",
    "    # update our weights and bias with our gradients\n",
    "    weights += learning_rate * grad\n",
    "    bias += learning_rate * torch.sum(dl_dz)\n",
    "\n",
    "    # Accuracy\n",
    "    total = y_hat.shape[0]\n",
    "    predicted = (y_hat > 0.5).float().squeeze()\n",
    "    correct = (predicted == y_train).sum()\n",
    "    acc = 100 * correct / total \n",
    "    \n",
    "    # Print accuracy and cost\n",
    "    print(f'Epoch: {epoch} | Accuracy: {acc.item() :.4f} | Cost: {l.item() :.4f}')\n",
    "\n",
    "print(f'Weights \\n {weights.data}')\n",
    "print(f'Bias \\n {bias.data}')"
   ]
  },
  {
   "cell_type": "markdown",
   "metadata": {
    "colab_type": "text",
    "id": "ma10Dm8Crs1d"
   },
   "source": [
    "## Inference"
   ]
  },
  {
   "cell_type": "code",
   "execution_count": 0,
   "metadata": {
    "colab": {
     "base_uri": "https://localhost:8080/",
     "height": 35
    },
    "colab_type": "code",
    "id": "vCZ6JJY0rs1e",
    "outputId": "795121e5-45c1-4688-c11a-0388de96a1bb"
   },
   "outputs": [
    {
     "name": "stdout",
     "output_type": "stream",
     "text": [
      "Validation Accuracy: 100.0000\n"
     ]
    }
   ],
   "source": [
    "# Port to tensors\n",
    "X_test = torch.from_numpy(X_test).type(torch.float32)\n",
    "y_test = torch.from_numpy(y_test).type(torch.float32)\n",
    "\n",
    "# 1. Forwardpropagation:\n",
    "# 1a. Affine Transformation: z = ax + b\n",
    "z = torch.add(torch.mm(X_test, weights), bias)\n",
    "# 2a. Sigmoid/Logistic Function: y_hat = 1 / (1 + e^{-z})\n",
    "y_hat = 1. / (1. + torch.exp(-z))\n",
    "    \n",
    "total = y_test.shape[0]\n",
    "predicted = (y_hat > 0.5).float().squeeze()\n",
    "correct = (predicted == y_test).sum()\n",
    "acc = 100 * correct / total \n",
    "\n",
    "# Print accuracy\n",
    "print(f'Validation Accuracy: {acc.item() :.4f}')"
   ]
  }
 ],
 "metadata": {
  "colab": {
   "collapsed_sections": [],
   "name": "Copy of indepth-logistic-regression.ipynb",
   "provenance": []
  },
  "kernelspec": {
   "display_name": "Python 3",
   "language": "python",
   "name": "python3"
  },
  "language_info": {
   "codemirror_mode": {
    "name": "ipython",
    "version": 3
   },
   "file_extension": ".py",
   "mimetype": "text/x-python",
   "name": "python",
   "nbconvert_exporter": "python",
   "pygments_lexer": "ipython3",
   "version": "3.7.5"
  },
  "toc": {
   "nav_menu": {},
   "number_sections": true,
   "sideBar": true,
   "skip_h1_title": false,
   "title_cell": "Table of Contents",
   "title_sidebar": "Contents",
   "toc_cell": false,
   "toc_position": {},
   "toc_section_display": true,
   "toc_window_display": false
  }
 },
 "nbformat": 4,
 "nbformat_minor": 1
}
