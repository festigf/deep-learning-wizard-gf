{
 "cells": [
  {
   "cell_type": "code",
   "execution_count": null,
   "id": "870e2d86-c0a2-4ef2-84ee-b3795630781a",
   "metadata": {},
   "outputs": [],
   "source": []
  },
  {
   "cell_type": "markdown",
   "id": "8ffc2ed2-32b6-4790-af19-0e3918394905",
   "metadata": {},
   "source": [
    "## Embedding Example"
   ]
  },
  {
   "cell_type": "code",
   "execution_count": 1,
   "id": "2d84feec-b60e-4be8-824d-4764fa79c8e3",
   "metadata": {},
   "outputs": [],
   "source": [
    "# Import the Ollama module\n",
    "import ollama"
   ]
  },
  {
   "cell_type": "code",
   "execution_count": 3,
   "id": "28d505ae-e7e4-41c1-94f9-9350c1a0c118",
   "metadata": {},
   "outputs": [],
   "source": [
    "context = 'Represent this sentence for searching relevant passages:'\n",
    "text = 'The sky is blue because of Rayleigh scattering'\n",
    "\n",
    "embeds = ollama.embeddings(model='mxbai-embed-large', \n",
    "                           prompt=f'{context} {text}')"
   ]
  },
  {
   "cell_type": "code",
   "execution_count": 9,
   "id": "aa35843b-4836-49ac-a29f-ab83505a6648",
   "metadata": {},
   "outputs": [
    {
     "data": {
      "text/plain": [
       "dict"
      ]
     },
     "execution_count": 9,
     "metadata": {},
     "output_type": "execute_result"
    }
   ],
   "source": [
    "type(embeds)"
   ]
  },
  {
   "cell_type": "code",
   "execution_count": 10,
   "id": "c6e44169-185c-41f5-8fa8-85089600d9a3",
   "metadata": {},
   "outputs": [
    {
     "data": {
      "text/plain": [
       "dict_keys(['embedding'])"
      ]
     },
     "execution_count": 10,
     "metadata": {},
     "output_type": "execute_result"
    }
   ],
   "source": [
    "embeds.keys()"
   ]
  },
  {
   "cell_type": "code",
   "execution_count": 13,
   "id": "83a353cc-d847-4a77-a8fd-9e52ec1374fd",
   "metadata": {},
   "outputs": [
    {
     "data": {
      "text/plain": [
       "list"
      ]
     },
     "execution_count": 13,
     "metadata": {},
     "output_type": "execute_result"
    }
   ],
   "source": [
    "# Access item via key\n",
    "type(embeds['embedding'])"
   ]
  },
  {
   "cell_type": "code",
   "execution_count": 14,
   "id": "2303b361-6cd1-462a-b060-b5eb20662ebc",
   "metadata": {},
   "outputs": [
    {
     "data": {
      "text/plain": [
       "1024"
      ]
     },
     "execution_count": 14,
     "metadata": {},
     "output_type": "execute_result"
    }
   ],
   "source": [
    "# Check length of list\n",
    "len(embeds['embedding'])"
   ]
  },
  {
   "cell_type": "code",
   "execution_count": 15,
   "id": "d936d169-3d52-4057-905d-2491b20f617a",
   "metadata": {},
   "outputs": [
    {
     "data": {
      "text/plain": [
       "[-0.5315825343132019,\n",
       " 0.08747989684343338,\n",
       " 0.46782198548316956,\n",
       " -0.6539711952209473,\n",
       " -0.5936126112937927,\n",
       " 0.07853017747402191,\n",
       " -0.09366538375616074,\n",
       " 0.33488044142723083,\n",
       " 0.5769988894462585,\n",
       " 1.097411870956421]"
      ]
     },
     "execution_count": 15,
     "metadata": {},
     "output_type": "execute_result"
    }
   ],
   "source": [
    "# Sample 10 elements in the list\n",
    "embeds['embedding'][:10]"
   ]
  },
  {
   "cell_type": "code",
   "execution_count": null,
   "id": "2baa5947-ee61-4683-8937-47a17924c191",
   "metadata": {},
   "outputs": [],
   "source": []
  },
  {
   "cell_type": "markdown",
   "id": "a01cb0a0-0121-43dd-8040-1b7f9126e928",
   "metadata": {},
   "source": [
    "## Embedding Comparisons"
   ]
  },
  {
   "cell_type": "markdown",
   "id": "7c726fd3-2edd-48fe-a17e-bab0b8384212",
   "metadata": {},
   "source": [
    "### Cosine Similarity"
   ]
  },
  {
   "cell_type": "code",
   "execution_count": 25,
   "id": "55582009-8c4c-43e2-90b7-e2919a2c10d4",
   "metadata": {},
   "outputs": [],
   "source": [
    "context = 'Represent this sentence for searching relevant passages:'\n",
    "\n",
    "# Text & Embeddings 1\n",
    "text = 'Apple, oranges, and grapes are good fruits.'\n",
    "embeds_1 = ollama.embeddings(model='mxbai-embed-large', \n",
    "                             prompt=f'{context} {text}')\n",
    "\n",
    "# Text & Embeddings 2\n",
    "text = 'Eating a good balance of meat, vegetables, and fruits everyday is good for you.'\n",
    "embeds_2 = ollama.embeddings(model='mxbai-embed-large', \n",
    "                             prompt=f'{context} {text}')\n",
    "\n",
    "\n",
    "# Text & Embeddings 3\n",
    "text = 'How to be a good data engineer?'\n",
    "embeds_3 = ollama.embeddings(model='mxbai-embed-large', \n",
    "                             prompt=f'{context} {text}')"
   ]
  },
  {
   "cell_type": "markdown",
   "id": "21f86bf7-6784-4959-a97b-d6383f6519c9",
   "metadata": {},
   "source": [
    "The cosine similarity between two vectors $ \\mathbf{A} $ and $ \\mathbf{B} $ is calculated using the following formula:\n",
    "\n",
    "$$\n",
    "\\text{cosine\\_similarity}(\\mathbf{A}, \\mathbf{B}) = \\frac{\\mathbf{A} \\cdot \\mathbf{B}}{\\|\\mathbf{A}\\| \\cdot \\|\\mathbf{B}\\|}\n",
    "$$\n",
    "\n",
    "Where:\n",
    "- $ \\mathbf{A} \\cdot \\mathbf{B} $ denotes the dot product of vectors $ \\mathbf{A} $ and $ \\mathbf{B} $.\n",
    "- $ \\|\\mathbf{A}\\| $ denotes the Euclidean norm (magnitude) of vector $ \\mathbf{A} $.\n",
    "- $ \\|\\mathbf{B}\\| $ denotes the Euclidean norm (magnitude) of vector $ \\mathbf{B} $.\n",
    "\n",
    "The dot product of two vectors is the sum of the products of their corresponding components. Mathematically, if $ \\mathbf{A} = [a_1, a_2, ..., a_n] $ and $ \\mathbf{B} = [b_1, b_2, ..., b_n] $, then the dot product $ \\mathbf{A} \\cdot \\mathbf{B} $ is:\n",
    "\n",
    "$$\n",
    "\\mathbf{A} \\cdot \\mathbf{B} = a_1 \\times b_1 + a_2 \\times b_2 + \\cdots + a_n \\times b_n\n",
    "$$\n",
    "\n",
    "The Euclidean norm of a vector is the square root of the sum of the squares of its components. For a vector $ \\mathbf{V} = [v_1, v_2, ..., v_n] $, the Euclidean norm $ \\|\\mathbf{V}\\| $ is:\n",
    "\n",
    "$$\n",
    "\\|\\mathbf{V}\\| = \\sqrt{v_1^2 + v_2^2 + \\cdots + v_n^2}\n",
    "$$\n",
    "\n",
    "So, to calculate the cosine similarity between two vectors, we take their dot product and divide it by the product of their magnitudes.\n",
    "\n",
    "This formula computes the cosine of the angle between the two vectors. If the angle is small (cosine close to 1), the vectors are similar; if it's large (cosine close to -1), they are dissimilar. If the angle is 90 degrees (cosine 0), the vectors are orthogonal and have no similarity.\n"
   ]
  },
  {
   "cell_type": "code",
   "execution_count": 18,
   "id": "ec024a73-3b37-43cd-b1be-08a1281e3a12",
   "metadata": {},
   "outputs": [
    {
     "name": "stderr",
     "output_type": "stream",
     "text": [
      "OpenBLAS WARNING - could not determine the L2 cache size on this system, assuming 256k\n"
     ]
    }
   ],
   "source": [
    "import numpy as np\n",
    "\n",
    "def cosine_similarity(vector1, vector2):\n",
    "    dot_product = np.dot(vector1, vector2)\n",
    "    norm_vector1 = np.linalg.norm(vector1)\n",
    "    norm_vector2 = np.linalg.norm(vector2)\n",
    "    similarity = dot_product / (norm_vector1 * norm_vector2)\n",
    "    return similarity"
   ]
  },
  {
   "cell_type": "code",
   "execution_count": 28,
   "id": "3a29d0e3-58f6-4c1a-8881-c6b6698463cf",
   "metadata": {},
   "outputs": [
    {
     "data": {
      "text/plain": [
       "0.7484848742146336"
      ]
     },
     "execution_count": 28,
     "metadata": {},
     "output_type": "execute_result"
    }
   ],
   "source": [
    "# Comparison 1/2\n",
    "cosine_similarity(np.array(embeds_1['embedding']), np.array(embeds_2['embedding']))"
   ]
  },
  {
   "cell_type": "code",
   "execution_count": 29,
   "id": "14087f48-83be-4050-91a3-d591d66bc30a",
   "metadata": {},
   "outputs": [
    {
     "data": {
      "text/plain": [
       "0.3626350686270389"
      ]
     },
     "execution_count": 29,
     "metadata": {},
     "output_type": "execute_result"
    }
   ],
   "source": [
    "# Comparison 1/3\n",
    "cosine_similarity(np.array(embeds_1['embedding']), np.array(embeds_3['embedding']))"
   ]
  },
  {
   "cell_type": "code",
   "execution_count": null,
   "id": "b9ca194c-a934-46bd-8018-40b7f67e2ccb",
   "metadata": {},
   "outputs": [],
   "source": []
  },
  {
   "cell_type": "code",
   "execution_count": null,
   "id": "ca041f45-3466-4bf3-883d-e3c007b00619",
   "metadata": {},
   "outputs": [],
   "source": []
  },
  {
   "cell_type": "code",
   "execution_count": null,
   "id": "00357381-63c3-4e66-95b7-47db4b849387",
   "metadata": {},
   "outputs": [],
   "source": []
  },
  {
   "cell_type": "code",
   "execution_count": null,
   "id": "7be08775-e73f-49b7-9521-2c6e89af9bf7",
   "metadata": {},
   "outputs": [],
   "source": []
  },
  {
   "cell_type": "code",
   "execution_count": null,
   "id": "d98cb93e-c45e-4ba8-9384-46ecd1777acd",
   "metadata": {},
   "outputs": [],
   "source": []
  }
 ],
 "metadata": {
  "kernelspec": {
   "display_name": "Python 3 (ipykernel)",
   "language": "python",
   "name": "python3"
  },
  "language_info": {
   "codemirror_mode": {
    "name": "ipython",
    "version": 3
   },
   "file_extension": ".py",
   "mimetype": "text/x-python",
   "name": "python",
   "nbconvert_exporter": "python",
   "pygments_lexer": "ipython3",
   "version": "3.12.2"
  }
 },
 "nbformat": 4,
 "nbformat_minor": 5
}
