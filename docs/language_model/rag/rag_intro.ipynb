{
 "cells": [
  {
   "cell_type": "markdown",
   "id": "711dca43-1c6d-4c0c-8888-b7cdcbcbdf3f",
   "metadata": {},
   "source": [
    "# RAG Introduction (PROTOTYPE)"
   ]
  },
  {
   "cell_type": "markdown",
   "id": "9165b3c9-3dc4-49c2-aad5-a68b91a99b25",
   "metadata": {},
   "source": [
    "In this tutorial, we will cover the basics of RAG."
   ]
  },
  {
   "cell_type": "markdown",
   "id": "4284856a-5225-4ac3-a86a-a98066bab7c9",
   "metadata": {},
   "source": [
    "## Environment Setup"
   ]
  },
  {
   "cell_type": "markdown",
   "id": "6906cb0d-e59f-4594-b1d7-cbd4cb8e301f",
   "metadata": {},
   "source": [
    "Follow our [tutorial on Apptainer](https://www.deeplearningwizard.com/language_model/containers/hpc_containers_apptainer/) to get started. Once you have followed the tutorial till the [Ollama section](https://www.deeplearningwizard.com/language_model/containers/hpc_containers_apptainer/#ollama-gemma-workloads) where you successfully ran `ollama serve` and `ollama run gemma:7b`, you can run the `apptainer shell --nv --nvccli apptainer_container_0.1.sif` command followed by `jupyter lab` to access and run this notebook.\n",
    "\n",
    "!!! info  \"Directory Guide\"\n",
    "\n",
    "    When you shell into the Apptainer `.sif` container, you will need to navigate the directory as you normally would into the Deep Learning Wizard repository that you cloned, requiring you to `cd ..` to go back a few directories and finally reaching the right folder. "
   ]
  },
  {
   "cell_type": "markdown",
   "id": "52c66161-2a05-436d-958d-bd0471fb2d24",
   "metadata": {},
   "source": [
    "## Import and Test LLM"
   ]
  },
  {
   "cell_type": "code",
   "execution_count": 10,
   "id": "76f88dc5-ed8b-46f0-a200-19095ba0a80b",
   "metadata": {},
   "outputs": [],
   "source": [
    "# Import the Ollama class from the llama_index.llms module.\n",
    "from llama_index.llms.ollama import Ollama\n",
    "\n",
    "# Create an instance of the Ollama class. The \"gemma:7b\" argument specifies the model to be used.\n",
    "llm = Ollama(model=\"gemma:7b\")"
   ]
  },
  {
   "cell_type": "code",
   "execution_count": 11,
   "id": "aa83db10-2736-48df-b3b7-ca63b0511c14",
   "metadata": {},
   "outputs": [
    {
     "name": "stdout",
     "output_type": "stream",
     "text": [
      "Retrieval Augmented Generation (RAG) is a language modeling technique that uses the technique of retrieval to improve the performance of generative models. Instead of learning from scratch, RAG models leverage existing text data and information sources to generate new text content.\n",
      "\n",
      "Here's a breakdown of the key concepts:\n",
      "\n",
      "**Retrieval:**\n",
      "- The model extracts relevant information from existing text sources like documents, articles, or code.\n",
      "- This information is retrieved based on the specific task and query.\n",
      "\n",
      "**Augmented Generation:**\n",
      "- The retrieved information is used to augment the model's training data.\n",
      "- This can involve adding new text examples or fine-tuning existing ones.\n",
      "\n",
      "**Benefits:**\n",
      "\n",
      "- **Transfer learning:** RAG models can benefit from knowledge transfer by leveraging existing text data.\n",
      "- **Task-specificity:** They can be fine-tuned for specific tasks, improving performance compared to general-purpose language models.\n",
      "- **Data efficiency:** They require less training data compared to traditional language models.\n",
      "\n",
      "**Examples:**\n",
      "\n",
      "- **Text summarization:** RAG models can generate summaries of documents by retrieving key information from the source text.\n",
      "- **Code generation:** They can generate code snippets based on existing code examples and context.\n",
      "- **Question answering:** They can answer questions based on text documents by retrieving relevant information from the text.\n",
      "\n",
      "**Challenges:**\n",
      "\n",
      "- **Data bias:** The quality and bias of the retrieved text data can influence the generated text.\n",
      "- **Computational cost:** Depending on the size and complexity of the retrieved data, RAG models can be computationally expensive.\n",
      "\n",
      "Overall, Retrieval Augmented Generation is a powerful technique for improving the performance of language models by leveraging existing text data. It has the potential to achieve impressive results across various tasks while requiring less training data.\n"
     ]
    }
   ],
   "source": [
    "# Set the prompt\n",
    "prompt = \"What is Retrieval Augmented Generation (RAG)?\"\n",
    "\n",
    "# Set the temperature\n",
    "# Higher values (e.g., 1.0) make the output more random, while lower values (e.g., 0.2) make it more deterministic\n",
    "temperature = 0.8\n",
    "\n",
    "# Set the top_k\n",
    "# This parameter controls the number of tokens considered for each step of the generation process\n",
    "top_k = 100\n",
    "\n",
    "# Generate the response\n",
    "response = llm.complete(prompt, temperature=temperature, top_k=top_k)\n",
    "\n",
    "print(response)"
   ]
  },
  {
   "cell_type": "markdown",
   "id": "f978524e-4bdd-456c-a8ff-362d9c40191f",
   "metadata": {},
   "source": [
    "## Basic LLM"
   ]
  },
  {
   "cell_type": "code",
   "execution_count": 4,
   "id": "5c9d24e7-70e3-41c8-b79f-1aa55d99efe3",
   "metadata": {},
   "outputs": [
    {
     "ename": "ImportError",
     "evalue": "cannot import name 'VectorStoreIndex' from 'llama_index.core' (/opt/conda/lib/python3.11/site-packages/llama_index/core/__init__.py)",
     "output_type": "error",
     "traceback": [
      "\u001b[0;31m---------------------------------------------------------------------------\u001b[0m",
      "\u001b[0;31mImportError\u001b[0m                               Traceback (most recent call last)",
      "Cell \u001b[0;32mIn[4], line 1\u001b[0m\n\u001b[0;32m----> 1\u001b[0m \u001b[38;5;28;01mfrom\u001b[39;00m \u001b[38;5;21;01mllama_index\u001b[39;00m\u001b[38;5;21;01m.\u001b[39;00m\u001b[38;5;21;01mcore\u001b[39;00m \u001b[38;5;28;01mimport\u001b[39;00m VectorStoreIndex, SimpleDirectoryReader\n",
      "\u001b[0;31mImportError\u001b[0m: cannot import name 'VectorStoreIndex' from 'llama_index.core' (/opt/conda/lib/python3.11/site-packages/llama_index/core/__init__.py)"
     ]
    }
   ],
   "source": [
    "from llama_index.core import VectorStoreIndex, SimpleDirectoryReader"
   ]
  },
  {
   "cell_type": "code",
   "execution_count": 5,
   "id": "7af0a79e-8441-493b-9995-edba87d107cd",
   "metadata": {},
   "outputs": [],
   "source": [
    "from llama_index import ServiceContext\n"
   ]
  },
  {
   "cell_type": "code",
   "execution_count": 6,
   "id": "88b0eb00-df4a-4e91-bf5f-bc106f6eb836",
   "metadata": {},
   "outputs": [],
   "source": [
    "from llama_index.chat_engine import SimpleChatEngine\n"
   ]
  },
  {
   "cell_type": "code",
   "execution_count": 7,
   "id": "08282142-d866-4f87-9240-88790968972a",
   "metadata": {},
   "outputs": [
    {
     "ename": "ImportError",
     "evalue": "cannot import name 'SimpleDirectoryReader' from 'llama_index.core' (/opt/conda/lib/python3.11/site-packages/llama_index/core/__init__.py)",
     "output_type": "error",
     "traceback": [
      "\u001b[0;31m---------------------------------------------------------------------------\u001b[0m",
      "\u001b[0;31mImportError\u001b[0m                               Traceback (most recent call last)",
      "Cell \u001b[0;32mIn[7], line 1\u001b[0m\n\u001b[0;32m----> 1\u001b[0m \u001b[38;5;28;01mfrom\u001b[39;00m \u001b[38;5;21;01mllama_index\u001b[39;00m\u001b[38;5;21;01m.\u001b[39;00m\u001b[38;5;21;01mcore\u001b[39;00m \u001b[38;5;28;01mimport\u001b[39;00m SimpleDirectoryReader\n",
      "\u001b[0;31mImportError\u001b[0m: cannot import name 'SimpleDirectoryReader' from 'llama_index.core' (/opt/conda/lib/python3.11/site-packages/llama_index/core/__init__.py)"
     ]
    }
   ],
   "source": [
    "from llama_index.core import SimpleDirectoryReader"
   ]
  },
  {
   "cell_type": "code",
   "execution_count": 13,
   "id": "cf96e2f3-4e91-4315-bf2f-a08da95f6085",
   "metadata": {},
   "outputs": [
    {
     "ename": "ImportError",
     "evalue": "cannot import name 'VectorStoreIndex' from 'llama_index.core' (/opt/conda/lib/python3.11/site-packages/llama_index/core/__init__.py)",
     "output_type": "error",
     "traceback": [
      "\u001b[0;31m---------------------------------------------------------------------------\u001b[0m",
      "\u001b[0;31mImportError\u001b[0m                               Traceback (most recent call last)",
      "Cell \u001b[0;32mIn[13], line 1\u001b[0m\n\u001b[0;32m----> 1\u001b[0m \u001b[38;5;28;01mfrom\u001b[39;00m \u001b[38;5;21;01mllama_index\u001b[39;00m\u001b[38;5;21;01m.\u001b[39;00m\u001b[38;5;21;01mcore\u001b[39;00m \u001b[38;5;28;01mimport\u001b[39;00m VectorStoreIndex, SimpleDirectoryReader, Settings\n\u001b[1;32m      2\u001b[0m \u001b[38;5;28;01mfrom\u001b[39;00m \u001b[38;5;21;01mllama_index\u001b[39;00m\u001b[38;5;21;01m.\u001b[39;00m\u001b[38;5;21;01mcore\u001b[39;00m\u001b[38;5;21;01m.\u001b[39;00m\u001b[38;5;21;01membeddings\u001b[39;00m \u001b[38;5;28;01mimport\u001b[39;00m resolve_embed_model\n\u001b[1;32m      3\u001b[0m \u001b[38;5;28;01mfrom\u001b[39;00m \u001b[38;5;21;01mllama_index\u001b[39;00m\u001b[38;5;21;01m.\u001b[39;00m\u001b[38;5;21;01mllms\u001b[39;00m\u001b[38;5;21;01m.\u001b[39;00m\u001b[38;5;21;01mollama\u001b[39;00m \u001b[38;5;28;01mimport\u001b[39;00m Ollama\n",
      "\u001b[0;31mImportError\u001b[0m: cannot import name 'VectorStoreIndex' from 'llama_index.core' (/opt/conda/lib/python3.11/site-packages/llama_index/core/__init__.py)"
     ]
    }
   ],
   "source": [
    "from llama_index.core import VectorStoreIndex, SimpleDirectoryReader, Settings\n",
    "from llama_index.core.embeddings import resolve_embed_model\n",
    "from llama_index.llms.ollama import Ollama\n",
    "\n",
    "documents = SimpleDirectoryReader(\"data\").load_data()\n",
    "\n",
    "# bge-m3 embedding model\n",
    "Settings.embed_model = resolve_embed_model(\"local:BAAI/bge-small-en-v1.5\")\n",
    "\n",
    "# ollama\n",
    "Settings.llm = Ollama(model=\"mistral\", request_timeout=30.0)\n",
    "\n",
    "index = VectorStoreIndex.from_documents(\n",
    "    documents,\n",
    ")"
   ]
  },
  {
   "cell_type": "code",
   "execution_count": 10,
   "id": "140cf6cd-ff57-43f0-b249-9c51802d3069",
   "metadata": {},
   "outputs": [
    {
     "name": "stdout",
     "output_type": "stream",
     "text": [
      "The Emperor's New Clothes .bg-amlit-test{color:#333;background-color:#fdfcdc} Home Short Stories Short Story of the Day 100 Great Short Stories 20 Great American Short Stories Children's Stories Favorite Fairy Tales Short Stories for Middle School Short Stories for High School Teachers' Resources Useful Idioms Study Guides Mystery Stories Science Fiction Dystopian Stories Winter Sports Stories Russian Stories Morality Tales 75  Short  Short Stories 50 Great Feel-Good Stories Civil War Stories World War I Stories Dog Stories Foodie Stories Favorite Short Story Collections Gothic, Ghost, Horror & Weird Library Halloween Stories Christmas Stories Complete Short Story Library Children Short Stories for Children Fairy Tales by Age Mother Goose Just So Stories Feel-Good Children's Stories Children's Christmas Stories The Children's Library Halloween Stories for Children Grimm's Fairy Tales Children's Poems Lullabies Books for Young Readers Pre-K Wordplay! Winnie The Pooh Classroom Reading Short Stories for High School Short Stories for High School II Short Stories for Middle School Short Stories for Middle School II Pre-K Wordplay! Short Stories for Students Teachers' Resources Authors All Authors Find An Author Female Authors African American Library Russian Writers Mystery Writers Features Login Login Create Account The Emperor's New Clothes by  Hans Christian Andersen Hans Christian Anderson published this cautionary tale in 1837, though its message resounds clearly today.  The Emperor's New Clothes  is about two poor and opportunistic weavers out to make a fool of a king and his entourage. Thankfully, not everyone buys-in. Many years ago, there was an Emperor, who was so excessively fond of new clothes, that he spent all his money in dress. He did not trouble himself in the least about his soldiers; nor did he care to go either to the theatre or the chase, except for the opportunities then afforded him for displaying his new clothes. He had a different suit for each hour of the day; and as of any other king or emperor, one is accustomed to say, \"he is sitting in council,\" it was always said of him, \"The Emperor is sitting in his wardrobe.\" Time passed merrily in the large town which was his capital; strangers arrived every day at the court. One day, two rogues, calling themselves weavers, made their appearance. They gave out that they knew how to weave stuffs of the most beautiful colors and elaborate patterns, the clothes manufactured from which should have the wonderful property of remaining invisible to everyone who was unfit for the office he held, or who was extraordinarily simple in character. \"These must, indeed, be splendid clothes!\" thought the Emperor. \"Had I such a suit, I might at once find out what men in my realms are unfit for their office, and also be able to distinguish the wise from the foolish! This stuff must be woven for me immediately.\" And he caused large sums of money to be given to both the weavers in order that they might begin their work directly. So the two pretended weavers set up two looms, and affected to work very busily, though in reality they did nothing at all. They asked for the most delicate silk and the purest gold thread; put both into their own knapsacks; and then continued their pretended work at the empty looms until late at night. \"I should like to know how the weavers are getting on with my cloth,\" said the Emperor to himself, after some little time had elapsed; he was, however, rather embarrassed, when he remembered that a simpleton, or one unfit for his office, would be unable to see the manufacture. To be sure, he thought he had nothing to risk in his own person; but yet, he would prefer sending somebody else, to bring him intelligence about the weavers, and their work, before he troubled himself in the affair. All the people throughout the city had heard of the wonderful property the cloth was to possess; and all were anxious to learn how wise, or how ignorant, their neighbors might prove to be. \"I will send my faithful old minister to the weavers,\" said the Emperor at last, after some deliberation, \"he will be best able to see how the cloth looks; for he is a man of sense, and no one can be more suitable for his office than he is.\" So the faithful old minister went into the hall, where the knaves were working with all their might, at their empty looms. \"What can be the meaning of this?\" thought the old man, opening his eyes very wide. \"I cannot discover the least bit of thread on the looms.\" However, he did not express his thoughts aloud. The impostors requested him very courteously to be so good as to come nearer their looms; and then asked him whether the design pleased him, and whether the colors were not very beautiful; at the same time pointing to the empty frames. The poor old minister looked and looked, he could not discover anything on the looms, for a very good reason, viz: there was nothing there. \"What!\" thought he again. \"Is it possible that I am a simpleton? I have never thought so myself; and no one must know it now if I am so. Can it be, that I am unfit for my office? No, that must not be said either. I will never confess that I could not see the stuff.\" \"Well, Sir Minister!\" said one of the knaves, still pretending to work. \"You do not say whether the stuff pleases you.\" \"Oh, it is excellent!\" replied the old minister, looking at the loom through his spectacles. \"This pattern, and the colors, yes, I will tell the Emperor without delay, how very beautiful I think them.\" \"We shall be much obliged to you,\" said the impostors, and then they named the different colors and described the pattern of the pretended stuff. The old minister listened attentively to their words, in order that he might repeat them to the Emperor; and then the knaves asked for more silk and gold, saying that it was necessary to complete what they had begun. However, they put all that was given them into their knapsacks; and continued to work with as much apparent diligence as before at their empty looms. The Emperor now sent another officer of his court to see how the men were getting on, and to ascertain whether the cloth would soon be ready. It was just the same with this gentleman as with the minister; he surveyed the looms on all sides, but could see nothing at all but the empty frames. \"Does not the stuff appear as beautiful to you, as it did to my lord the minister?\" asked the impostors of the Emperor's second ambassador; at the same time making the same gestures as before, and talking of the design and colors which were not there. \"I certainly am not stupid!\" thought the messenger. \"It must be, that I am not fit for my good, profitable office! That is very odd; however, no one shall know anything about it.\" And accordingly he praised the stuff he could not see, and declared that he was delighted with both colors and patterns. \"Indeed, please your Imperial Majesty,\" said he to his sovereign when he returned, \"the cloth which the weavers are preparing is extraordinarily magnificent.\" The whole city was talking of the splendid cloth which the Emperor had ordered to be woven at his own expense. And now the Emperor himself wished to see the costly manufacture, while it was still in the loom. Accompanied by a select number of officers of the court, among whom were the two honest men who had already admired the cloth, he went to the crafty impostors, who, as soon as they were aware of the Emperor's approach, went on working more diligently than ever; although they still did not pass a single thread through the looms. \"Is not the work absolutely magnificent?\" said the two officers of the crown, already mentioned. \"If your Majesty will only be pleased to look at it! What a splendid design! What glorious colors!\" and at the same time they pointed to the empty frames; for they imagined that everyone else could see this exquisite piece of workmanship. \"How is this?\" said the Emperor to himself. \"I can see nothing! This is indeed a terrible affair! Am I a simpleton, or am I unfit to be an Emperor? That would be the worst thing that could happen--Oh! the cloth is charming,\" said he, aloud. \"It has my complete approbation.\" And he smiled most graciously, and looked closely at the empty looms; for on no account would he say that he could not see what two of the officers of his court had praised so much. All his retinue now strained their eyes, hoping to discover something on the looms, but they could see no more than the others; nevertheless, they all exclaimed, \"Oh, how beautiful!\" and advised his majesty to have some new clothes made from this splendid material, for the approaching procession. \"Magnificent! Charming! Excellent!\" resounded on all sides; and everyone was uncommonly gay. The Emperor shared in the general satisfaction; and presented the impostors with the riband of an order of knighthood, to be worn in their button-holes, and the title of \"Gentlemen Weavers.\" The rogues sat up the whole of the night before the day on which the procession was to take place, and had sixteen lights burning, so that everyone might see how anxious they were to finish the Emperor's new suit. They pretended to roll the cloth off the looms; cut the air with their scissors; and sewed with needles without any thread in them. \"See!\" cried they, at last. \"The Emperor's new clothes are ready!\" And now the Emperor, with all the grandees of his court, came to the weavers; and the rogues raised their arms, as if in the act of holding something up, saying, \"Here are your Majesty's trousers! Here is the scarf! Here is the mantle! The whole suit is as light as a cobweb; one might fancy one has nothing at all on, when dressed in it; that, however, is the great virtue of this delicate cloth.\" \"Yes indeed!\" said all the courtiers, although not one of them could see anything of this exquisite manufacture. \"If your Imperial Majesty will be graciously pleased to take off your clothes, we will fit on the new suit, in front of the looking glass.\" The Emperor was accordingly undressed, and the rogues pretended to array him in his new suit; the Emperor turning round, from side to side, before the looking glass. \"How splendid his Majesty looks in his new clothes, and how well they fit!\" everyone cried out. \"What a design! What colors! These are indeed royal robes!\" \"The canopy which is to be borne over your Majesty, in the procession, is waiting,\" announced the chief master of the ceremonies. \"I am quite ready,\" answered the Emperor. \"Do my new clothes fit well?\" asked he, turning himself round again before the looking glass, in order that he might appear to be examining his handsome suit. The lords of the bedchamber, who were to carry his Majesty's train felt about on the ground, as if they were lifting up the ends of the mantle; and pretended to be carrying something; for they would by no means betray anything like simplicity, or unfitness for their office. So now the Emperor walked under his high canopy in the midst of the procession, through the streets of his capital; and all the people standing by, and those at the windows, cried out, \"Oh! How beautiful are our Emperor's new clothes! What a magnificent train there is to the mantle; and how gracefully the scarf hangs!\" in short, no one would allow that he could not see these much-admired clothes; because, in doing so, he would have declared himself either a simpleton or unfit for his office. Certainly, none of the Emperor's various suits, had ever made so great an impression, as these invisible ones. \"But the Emperor has nothing at all on!\" said a little child. \"Listen to the voice of innocence!\" exclaimed his father; and what the child had said was whispered from one to another. \"But he has nothing at all on!\" at last cried out all the people. The Emperor was vexed, for he knew that the people were right; but he thought the procession must go on now! And the lords of the bedchamber took greater pains than ever, to appear holding up a train, although, in reality, there was no train to hold. 8.0        Add   The Emperor's New Clothes  to your library. Return to the  Hans Christian Andersen  library , or . . . Read the next short story;  The False Collar Or read more short stories for kids in our  Children's Library © 2022 AmericanLiterature.com \n"
     ]
    },
    {
     "name": "stderr",
     "output_type": "stream",
     "text": [
      "/tmp/ipykernel_24629/284111219.py:13: DeprecationWarning: The 'text' argument to find()-type methods is deprecated. Use 'string' instead.\n",
      "  text = soup.find_all(text=True)\n"
     ]
    }
   ],
   "source": [
    "import requests\n",
    "from bs4 import BeautifulSoup\n",
    "\n",
    "# Make a request to the website\n",
    "url = \n",
    "res = requests.get(url)\n",
    "html_page = res.content\n",
    "\n",
    "# Use BeautifulSoup to parse the HTML content\n",
    "soup = BeautifulSoup(html_page, 'html.parser')\n",
    "\n",
    "# Find all text within the HTML, but exclude certain elements\n",
    "text = soup.find_all(text=True)\n",
    "output = ''\n",
    "blacklist = ['[document]', 'noscript', 'header', 'html', 'meta', 'head', 'input', 'script']\n",
    "\n",
    "for t in text:\n",
    "    if t.parent.name not in blacklist:\n",
    "        output += '{} '.format(t)\n",
    "\n",
    "print(output)\n"
   ]
  },
  {
   "cell_type": "code",
   "execution_count": null,
   "id": "ae58f68b-194f-4fa9-b851-73429593ab48",
   "metadata": {},
   "outputs": [],
   "source": []
  },
  {
   "cell_type": "code",
   "execution_count": null,
   "id": "551323fe-770f-4c15-a6ea-033eac3eb916",
   "metadata": {},
   "outputs": [],
   "source": []
  }
 ],
 "metadata": {
  "kernelspec": {
   "display_name": "Python 3 (ipykernel)",
   "language": "python",
   "name": "python3"
  },
  "language_info": {
   "codemirror_mode": {
    "name": "ipython",
    "version": 3
   },
   "file_extension": ".py",
   "mimetype": "text/x-python",
   "name": "python",
   "nbconvert_exporter": "python",
   "pygments_lexer": "ipython3",
   "version": "3.12.2"
  }
 },
 "nbformat": 4,
 "nbformat_minor": 5
}
