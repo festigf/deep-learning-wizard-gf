{
 "cells": [
  {
   "cell_type": "markdown",
   "metadata": {},
   "source": [
    "# C++\n",
    "\n",
    "!!! tip \"Run Jupyter Notebook\"\n",
    "    You can run the code for this section in this [jupyter notebook link](https://github.com/ritchieng/deep-learning-wizard/blob/master/docs/programming/cpp/cpp.ipynb)."
   ]
  },
  {
   "cell_type": "markdown",
   "metadata": {},
   "source": [
    "## Installation of Interactive C++17\n",
    "\n",
    "Xeus-Cling is a game-changer where similar to Python Jupyter Notebooks, we can run C++ Jupyter Notebooks now. Run the following bash commands in sequence to create a C++ kernel for Jupyter Notebook.\n",
    "\n",
    "```bash\n",
    "conda create -n cpp\n",
    "source activate cpp\n",
    "conda install -c conda-forge xeus-cling\n",
    "jupyter kernelspec install --user /home/ritchie/miniconda3/envs/cpp/share/jupyter/kernels/xcpp17\n",
    "jupyter notebook\n",
    "```"
   ]
  },
  {
   "cell_type": "markdown",
   "metadata": {},
   "source": [
    "## Printing"
   ]
  },
  {
   "cell_type": "markdown",
   "metadata": {},
   "source": [
    "### Printing Single Line"
   ]
  },
  {
   "cell_type": "code",
   "execution_count": 1,
   "metadata": {
    "collapsed": true
   },
   "outputs": [],
   "source": [
    "// When you compile, the preprocessor runs and acts on all line with the pound key first\n",
    "\n",
    "// This is a preprocessor instruction that\n",
    "// essentially places the file with the name iostream into this spot\n",
    "#include <iostream>"
   ]
  },
  {
   "cell_type": "code",
   "execution_count": 2,
   "metadata": {},
   "outputs": [
    {
     "name": "stdout",
     "output_type": "stream",
     "text": [
      "Using Xeus Cling\n"
     ]
    }
   ],
   "source": [
    "// Print one line\n",
    "std::cout << \"Using Xeus Cling\" << std::endl;"
   ]
  },
  {
   "cell_type": "markdown",
   "metadata": {},
   "source": [
    "### Printing 2 Lines"
   ]
  },
  {
   "cell_type": "code",
   "execution_count": 3,
   "metadata": {},
   "outputs": [
    {
     "name": "stdout",
     "output_type": "stream",
     "text": [
      "First Line \n",
      "Second Line\n"
     ]
    }
   ],
   "source": [
    "// Print two lines\n",
    "std::cout << \"First Line \\nSecond Line\" << std::endl;"
   ]
  },
  {
   "cell_type": "markdown",
   "metadata": {},
   "source": [
    "### Printing with Tabs"
   ]
  },
  {
   "cell_type": "code",
   "execution_count": 4,
   "metadata": {},
   "outputs": [
    {
     "name": "stdout",
     "output_type": "stream",
     "text": [
      "One hundred:\t100\n",
      "Two hundred:\t200\n",
      "Three hundred:\t300\n"
     ]
    }
   ],
   "source": [
    "// Print numbers with nicely formatted tabs\n",
    "std::cout << \"One hundred:\\t\";\n",
    "std::cout << (float) 1000/10 << std::endl;\n",
    "\n",
    "std::cout << \"Two hundred:\\t\";\n",
    "std::cout << (double) 2000/10 << std::endl;\n",
    "\n",
    "std::cout << \"Three hundred:\\t\";\n",
    "std::cout << (double) 3000/10 << std::endl;"
   ]
  },
  {
   "cell_type": "markdown",
   "metadata": {},
   "source": [
    "### Easier Printing (subjective) with Namespaces\n",
    "- Gets irritating to use `std` in front of `cout` and `endl` to keep printing so we can use namespaces"
   ]
  },
  {
   "cell_type": "code",
   "execution_count": 5,
   "metadata": {},
   "outputs": [
    {
     "name": "stdout",
     "output_type": "stream",
     "text": [
      "No need for messy std::\n"
     ]
    }
   ],
   "source": [
    "using namespace std;\n",
    "cout << \"No need for messy std::\" << endl;"
   ]
  },
  {
   "cell_type": "markdown",
   "metadata": {},
   "source": [
    "## Variables"
   ]
  },
  {
   "cell_type": "markdown",
   "metadata": {},
   "source": [
    "### General memory management\n",
    "In C++, you always need to determine each variable's type so the compiler will know how much memory (RAM) to allocate to the variable"
   ]
  },
  {
   "cell_type": "markdown",
   "metadata": {},
   "source": [
    "### Types of Variables\n",
    "| Type  |  Bytes (Size) | Range of Values|\n",
    "|-------|--------------|----------------|\n",
    "| char | 1 | 0 to 255 or -127 to 127|\n",
    "| unsigned char | 1 | -127 to 127 |\n",
    "| signed char | 1 | 0 to 255 |\n",
    "| bool | 1 | True or False |\n",
    "| int | 4 | -2,147,483,648 to 2,147,483,647 |\n",
    "| unsigned int | 4 | 0 to 4,294,967,295 |\n",
    "| signed int | 4 | -2,147,483,648 to 2,147,483,647 |\n",
    "| short int | 2 | -32,768 to 32,767 |\n",
    "| long int | 4 | -2,147,483,648 to 2,147,483,647 |\n",
    "| float | 4 | 3.4e-38 to 3.4e38 |\n",
    "| double | 8 | 1.7e-308 to 1.7e-08|\n",
    "| long double | 8 | 1.7e-308 to 1.7e-08|"
   ]
  },
  {
   "cell_type": "markdown",
   "metadata": {},
   "source": [
    "### Integer sizes\n",
    "- Typical sizes\n",
    "    - Short integer: 2 bytes (will be smaller than long)\n",
    "        - Limitation is that the value of this short integer has a max value, you should be cautious of using short integers\n",
    "    - Long integer: 4 bytes\n",
    "    - Integer: 2 or 4 bytes\n",
    "- Notes\n",
    "    - Technically these sizes can vary depending on your processor (32/64 bit) and compiler\n",
    "    - You should not assume the sizes but the hierarchy of sizes will not change (short memory < long memory)"
   ]
  },
  {
   "cell_type": "markdown",
   "metadata": {},
   "source": [
    "#### Integer size"
   ]
  },
  {
   "cell_type": "code",
   "execution_count": 6,
   "metadata": {},
   "outputs": [
    {
     "name": "stdout",
     "output_type": "stream",
     "text": [
      "Size of an integer: 4"
     ]
    }
   ],
   "source": [
    "cout << \"Size of an integer: \" << sizeof (int);"
   ]
  },
  {
   "cell_type": "markdown",
   "metadata": {},
   "source": [
    "#### Short integer size"
   ]
  },
  {
   "cell_type": "code",
   "execution_count": 7,
   "metadata": {},
   "outputs": [
    {
     "name": "stdout",
     "output_type": "stream",
     "text": [
      "Size of a short integer: 2"
     ]
    }
   ],
   "source": [
    "cout << \"Size of a short integer: \" << sizeof (short int);"
   ]
  },
  {
   "cell_type": "markdown",
   "metadata": {},
   "source": [
    "#### Long integer size"
   ]
  },
  {
   "cell_type": "code",
   "execution_count": 8,
   "metadata": {},
   "outputs": [
    {
     "name": "stdout",
     "output_type": "stream",
     "text": [
      "Size of an long integer: 8"
     ]
    }
   ],
   "source": [
    "cout << \"Size of an long integer: \" << sizeof (long int);"
   ]
  },
  {
   "cell_type": "markdown",
   "metadata": {},
   "source": [
    "### Unsigned or signed integers\n",
    "- Unsigned integers: only can hold positive integers\n",
    "- Signed integers: can hold positive/negative integers"
   ]
  },
  {
   "cell_type": "markdown",
   "metadata": {},
   "source": [
    "#### Signed short integer"
   ]
  },
  {
   "cell_type": "code",
   "execution_count": 9,
   "metadata": {},
   "outputs": [
    {
     "name": "stdout",
     "output_type": "stream",
     "text": [
      "Size of an signed short integer: 2"
     ]
    }
   ],
   "source": [
    "cout << \"Size of an signed short integer: \" << sizeof (signed short int);"
   ]
  },
  {
   "cell_type": "markdown",
   "metadata": {},
   "source": [
    "#### Unsigned short integer"
   ]
  },
  {
   "cell_type": "code",
   "execution_count": 10,
   "metadata": {},
   "outputs": [
    {
     "name": "stdout",
     "output_type": "stream",
     "text": [
      "Size of an unsigned short integer: 2"
     ]
    }
   ],
   "source": [
    "cout << \"Size of an unsigned short integer: \" << sizeof (unsigned short int);"
   ]
  },
  {
   "cell_type": "markdown",
   "metadata": {},
   "source": [
    "#### Signed long integer"
   ]
  },
  {
   "cell_type": "code",
   "execution_count": 11,
   "metadata": {},
   "outputs": [
    {
     "name": "stdout",
     "output_type": "stream",
     "text": [
      "Size of an signed long integer: 8"
     ]
    }
   ],
   "source": [
    "cout << \"Size of an signed long integer: \" << sizeof (signed long int);"
   ]
  },
  {
   "cell_type": "markdown",
   "metadata": {},
   "source": [
    "#### Unsigned long integer"
   ]
  },
  {
   "cell_type": "code",
   "execution_count": 12,
   "metadata": {
    "scrolled": true
   },
   "outputs": [
    {
     "name": "stdout",
     "output_type": "stream",
     "text": [
      "Size of an unsigned long integer: 8"
     ]
    }
   ],
   "source": [
    "cout << \"Size of an unsigned long integer: \" << sizeof (unsigned long int);"
   ]
  },
  {
   "cell_type": "markdown",
   "metadata": {},
   "source": [
    "## Constants"
   ]
  },
  {
   "cell_type": "markdown",
   "metadata": {},
   "source": [
    "### Literal Constants"
   ]
  },
  {
   "cell_type": "code",
   "execution_count": 13,
   "metadata": {},
   "outputs": [
    {
     "name": "stdout",
     "output_type": "stream",
     "text": [
      "20\n"
     ]
    }
   ],
   "source": [
    "int varOne = 20;\n",
    "std::cout << varOne << std::endl;"
   ]
  },
  {
   "cell_type": "markdown",
   "metadata": {},
   "source": [
    "### Enumerated Constants\n",
    "This enables you to create a new type! In this example we create a new type `directions` containing `Up`, `Down`, `Left`, and `Right`."
   ]
  },
  {
   "cell_type": "code",
   "execution_count": 14,
   "metadata": {},
   "outputs": [
    {
     "name": "stdout",
     "output_type": "stream",
     "text": [
      "Go right\n"
     ]
    }
   ],
   "source": [
    "enum directions {Up, Down, Left, Right};\n",
    "    \n",
    "directions goWhere;\n",
    "goWhere = Right;\n",
    "\n",
    "if (goWhere == Right)\n",
    "    std::cout << \"Go right\" << std::endl;"
   ]
  },
  {
   "cell_type": "markdown",
   "metadata": {},
   "source": [
    "## Functions"
   ]
  },
  {
   "cell_type": "markdown",
   "metadata": {},
   "source": [
    "### Function Without Return Value\n",
    "Syntax generally follows `void FunctionName(argOne, argTwo)` to define the function followed by `FuntionName()` to call the function."
   ]
  },
  {
   "cell_type": "code",
   "execution_count": 15,
   "metadata": {
    "collapsed": true,
    "scrolled": true
   },
   "outputs": [],
   "source": [
    "// Usage of void when the function does not return anything\n",
    "// In this example, this function prints out the multiplication result of two given numbers\n",
    "void MultiplyTwoNumbers(int firstNum, int secondNum)\n",
    "{\n",
    "    // Define variable as integer type\n",
    "    long int value;\n",
    "    value = firstNum * secondNum;\n",
    "    std::cout << value << std::endl; \n",
    "}"
   ]
  },
  {
   "cell_type": "markdown",
   "metadata": {},
   "source": [
    "#### Multiply Two Numbers 3 and 2"
   ]
  },
  {
   "cell_type": "code",
   "execution_count": 16,
   "metadata": {},
   "outputs": [
    {
     "name": "stdout",
     "output_type": "stream",
     "text": [
      "6\n"
     ]
    }
   ],
   "source": [
    "MultiplyTwoNumbers(3, 2)"
   ]
  },
  {
   "cell_type": "markdown",
   "metadata": {},
   "source": [
    "#### Multiply Two Numbers 6 and 2"
   ]
  },
  {
   "cell_type": "code",
   "execution_count": 17,
   "metadata": {},
   "outputs": [
    {
     "name": "stdout",
     "output_type": "stream",
     "text": [
      "12\n"
     ]
    }
   ],
   "source": [
    "MultiplyTwoNumbers(6, 2)"
   ]
  },
  {
   "cell_type": "markdown",
   "metadata": {},
   "source": [
    "### Aliases Function\n",
    "\n",
    "Say we want the variable `value` to be of type `unsigned short int` such that it's 2 bytes and can hold 2x the range of values compared to just `short int`. We can use `typedef` as an alias.\n",
    "\n",
    "| Type  |  Bytes (Size) | Range of Values|\n",
    "|-------|--------------|----------------|\n",
    "| short int | 2 | -32,768 to 32,767 |\n",
    "| unsigned short int | 2 |  0 to 65,536 |"
   ]
  },
  {
   "cell_type": "code",
   "execution_count": 18,
   "metadata": {
    "collapsed": true
   },
   "outputs": [],
   "source": [
    "// Usage of void when the function does not return anything\n",
    "// In this exmaple, this function prints out the multiplication result of two given numbers\n",
    "void MultiplyTwoNumbersWithAlias(int firstNum, int secondNum)\n",
    "{\n",
    "    // Using an alias\n",
    "    typedef unsigned short int ushortint;\n",
    "    // initializing value variable with ushortint type\n",
    "    ushortint value;\n",
    "    value = firstNum * secondNum;\n",
    "    std::cout << value << std::endl; \n",
    "}"
   ]
  },
  {
   "cell_type": "markdown",
   "metadata": {},
   "source": [
    "#### Multiply Two Numbers 10 and 10"
   ]
  },
  {
   "cell_type": "code",
   "execution_count": 19,
   "metadata": {},
   "outputs": [
    {
     "name": "stdout",
     "output_type": "stream",
     "text": [
      "100\n"
     ]
    }
   ],
   "source": [
    "MultiplyTwoNumbersWithAlias(10, 10)"
   ]
  },
  {
   "cell_type": "markdown",
   "metadata": {},
   "source": [
    "#### Multiply Two Numbers 1000 and 65"
   ]
  },
  {
   "cell_type": "code",
   "execution_count": 20,
   "metadata": {},
   "outputs": [
    {
     "name": "stdout",
     "output_type": "stream",
     "text": [
      "65000\n"
     ]
    }
   ],
   "source": [
    "MultiplyTwoNumbersWithAlias(1000, 65)"
   ]
  },
  {
   "cell_type": "markdown",
   "metadata": {},
   "source": [
    "#### Multiply Two Numbers 1000 and 67\n",
    "- Notice how you don't get 67,000? This is because our variable `value` of `ushortint` type can only hold values up to the integer 65,536.\n",
    "- What this returns is the remainder of 67,000 - 65,536 = 1464"
   ]
  },
  {
   "cell_type": "code",
   "execution_count": 21,
   "metadata": {
    "scrolled": true
   },
   "outputs": [
    {
     "name": "stdout",
     "output_type": "stream",
     "text": [
      "1464\n"
     ]
    }
   ],
   "source": [
    "MultiplyTwoNumbersWithAlias(1000, 67)"
   ]
  },
  {
   "cell_type": "code",
   "execution_count": 22,
   "metadata": {
    "scrolled": false
   },
   "outputs": [
    {
     "name": "stdout",
     "output_type": "stream",
     "text": [
      "1464\n"
     ]
    }
   ],
   "source": [
    "std::cout << 67 * 1000 - 65536 << std::endl;"
   ]
  },
  {
   "cell_type": "markdown",
   "metadata": {},
   "source": [
    "###  Function with Return Value\n",
    "Unlike functions without return values where we use `void` to declare the function, here we use `int` to declare our function that returns values."
   ]
  },
  {
   "cell_type": "code",
   "execution_count": 23,
   "metadata": {
    "collapsed": true
   },
   "outputs": [],
   "source": [
    "// In this exmaple, this function returns the value of the multiplication of two numbers\n",
    "int MultiplyTwoNumbersNoPrint(int firstNum, int secondNum)\n",
    "{\n",
    "    // Define variable as integer type\n",
    "    long int value;\n",
    "    value = firstNum * secondNum;\n",
    "    return value;\n",
    "}"
   ]
  },
  {
   "cell_type": "markdown",
   "metadata": {},
   "source": [
    "#### Call Function"
   ]
  },
  {
   "cell_type": "code",
   "execution_count": 24,
   "metadata": {},
   "outputs": [
    {
     "name": "stdout",
     "output_type": "stream",
     "text": [
      "20\n"
     ]
    }
   ],
   "source": [
    "// Declare variable with type\n",
    "long int returnValue;\n",
    "// Call function\n",
    "returnValue = MultiplyTwoNumbersNoPrint(10, 2);\n",
    "// Print variable\n",
    "std::cout << returnValue << std::endl;"
   ]
  },
  {
   "cell_type": "markdown",
   "metadata": {},
   "source": [
    "###  Function Inner Workings\n",
    "- Essentially our lines of codes translates to instruction pointers with unique memory addresses.\n",
    "- Execution of instruction pointers operates on a \"LIFO\" basis, last in first out.\n",
    "    - Oversimplifying here, in our example, the last line is taken off first and it follows up"
   ]
  },
  {
   "cell_type": "code",
   "execution_count": 25,
   "metadata": {},
   "outputs": [
    {
     "name": "stdout",
     "output_type": "stream",
     "text": [
      "10\n"
     ]
    },
    {
     "data": {
      "text/plain": [
       "@0x7f6a3fe1d460"
      ]
     },
     "execution_count": 25,
     "metadata": {},
     "output_type": "execute_result"
    }
   ],
   "source": [
    "// Code Space\n",
    "int varOneTest = 10; // Instruction pointer 100\n",
    "std::cout << varOneTest << std::endl; // Instruction Pointer 102"
   ]
  },
  {
   "cell_type": "markdown",
   "metadata": {
    "collapsed": true
   },
   "source": [
    "## Arrays\n",
    "\n",
    "An array contains a sequence of elements with the same data type. "
   ]
  },
  {
   "cell_type": "markdown",
   "metadata": {},
   "source": [
    "### Creating an Array"
   ]
  },
  {
   "cell_type": "code",
   "execution_count": 26,
   "metadata": {
    "collapsed": true
   },
   "outputs": [],
   "source": [
    "// This is how you declare an array of 50 elements each of type double\n",
    "double DoubleArray[50];"
   ]
  },
  {
   "cell_type": "markdown",
   "metadata": {},
   "source": [
    "#### Accessing Array's Elements"
   ]
  },
  {
   "cell_type": "markdown",
   "metadata": {},
   "source": [
    "##### First Element"
   ]
  },
  {
   "cell_type": "code",
   "execution_count": 27,
   "metadata": {},
   "outputs": [
    {
     "name": "stdout",
     "output_type": "stream",
     "text": [
      "0\n"
     ]
    }
   ],
   "source": [
    "// This access the first array \n",
    "std::cout << DoubleArray[0] << std::endl;"
   ]
  },
  {
   "cell_type": "markdown",
   "metadata": {},
   "source": [
    "##### Last Element"
   ]
  },
  {
   "cell_type": "code",
   "execution_count": 28,
   "metadata": {},
   "outputs": [
    {
     "name": "stdout",
     "output_type": "stream",
     "text": [
      "0\n"
     ]
    }
   ],
   "source": [
    "std::cout << DoubleArray[49] << std::endl;"
   ]
  },
  {
   "cell_type": "markdown",
   "metadata": {},
   "source": [
    "##### First 10 Elements"
   ]
  },
  {
   "cell_type": "code",
   "execution_count": 29,
   "metadata": {
    "scrolled": true
   },
   "outputs": [
    {
     "name": "stdout",
     "output_type": "stream",
     "text": [
      "Element 0 contains 0\n",
      "Element 1 contains 0\n",
      "Element 2 contains 0\n",
      "Element 3 contains 0\n",
      "Element 4 contains 0\n",
      "Element 5 contains 0\n",
      "Element 6 contains 0\n",
      "Element 7 contains 0\n",
      "Element 8 contains 0\n",
      "Element 9 contains 0\n"
     ]
    }
   ],
   "source": [
    "// In steps of 1\n",
    "for (int i=0; i<10; i++)\n",
    "{\n",
    "    // This is how you print a mix of characters and declared variables\n",
    "    std::cout << \"Element \" << i << \" contains \" <<  DoubleArray[i] << std::endl;\n",
    "}"
   ]
  },
  {
   "cell_type": "code",
   "execution_count": 30,
   "metadata": {},
   "outputs": [
    {
     "name": "stdout",
     "output_type": "stream",
     "text": [
      "Element 0 contains 0\n",
      "Element 2 contains 0\n",
      "Element 4 contains 0\n",
      "Element 6 contains 0\n",
      "Element 8 contains 0\n"
     ]
    }
   ],
   "source": [
    "// In steps of 2\n",
    "for (int i=0; i<10; i+=2)\n",
    "{\n",
    "    // This is how you print a mix of characters and declared variables\n",
    "    std::cout << \"Element \" << i << \" contains \" <<  DoubleArray[i] << std::endl;\n",
    "}"
   ]
  },
  {
   "cell_type": "markdown",
   "metadata": {
    "collapsed": true
   },
   "source": [
    "##### Going Beyond The Array's Length\n",
    "This will return a warning that it's past the end of the array\n",
    "\n",
    "```c++\n",
    "std::cout << DoubleArray[50] << std::endl;\n",
    "```\n",
    "```bash\n",
    "input_line_36:2:15: warning: array index 50 is past the end of the array (which contains 50 elements)\n",
    "      [-Warray-bounds]\n",
    " std::cout << DoubleArray[50] << std::endl;\n",
    "              ^           ~~\n",
    "input_line_32:3:1: note: array 'DoubleArray' declared here\n",
    "double DoubleArray[50];\n",
    "^\n",
    "4.94066e-323\n",
    "```"
   ]
  },
  {
   "cell_type": "markdown",
   "metadata": {},
   "source": [
    "### Arrays with Enumeration"
   ]
  },
  {
   "cell_type": "code",
   "execution_count": 31,
   "metadata": {
    "scrolled": false
   },
   "outputs": [
    {
     "name": "stdout",
     "output_type": "stream",
     "text": [
      "Up value:\t1\n",
      "Down value:\t2\n",
      "Left value:\t3\n",
      "Right value:\t4\n",
      "Num value:\t4\n"
     ]
    }
   ],
   "source": [
    "enum directionsNew {up, down, left, right, individualDirections};\n",
    "    \n",
    "int directionsArray[individualDirections] = {1, 2, 3, 4};\n",
    "\n",
    "std::cout << \"Up value:\\t\" << directionsArray[up];\n",
    "std::cout << \"\\nDown value:\\t\" << directionsArray[down];\n",
    "std::cout << \"\\nLeft value:\\t\" << directionsArray[left];\n",
    "std::cout << \"\\nRight value:\\t\" << directionsArray[right];\n",
    "// This is the number of elements in the array\n",
    "std::cout << \"\\nNum value:\\t\" << sizeof(directionsArray) / sizeof(directionsArray[0]) << std::endl;"
   ]
  },
  {
   "cell_type": "markdown",
   "metadata": {
    "collapsed": true
   },
   "source": [
    "### Arrays with >1 Dimension (Tensors)"
   ]
  },
  {
   "cell_type": "markdown",
   "metadata": {},
   "source": [
    "#### Multi Dimension Array with Numbers"
   ]
  },
  {
   "cell_type": "code",
   "execution_count": 32,
   "metadata": {},
   "outputs": [
    {
     "name": "stdout",
     "output_type": "stream",
     "text": [
      "12345\n",
      "\n",
      "22345\n",
      "\n",
      "32345\n",
      "\n",
      "42345\n",
      "\n",
      "52345\n",
      "\n"
     ]
    }
   ],
   "source": [
    "// This is how you declare a multi-dimensional array of 5x5 elements each of type double\n",
    "double multiDimArray[5][5] = {\n",
    "    {1, 2, 3, 4, 5},\n",
    "    {2, 2, 3, 4, 5},\n",
    "    {3, 2, 3, 4, 5},\n",
    "    {4, 2, 3, 4, 5},\n",
    "    {5, 2, 3, 4, 5}\n",
    "};\n",
    "\n",
    "// Print each row of our 5x5 multi-dimensional array\n",
    "for (int i=0; i<5; i++)\n",
    "{\n",
    "    for (int j=0; j<5; j++)\n",
    "    {\n",
    "        std::cout << multiDimArray[i][j];\n",
    "    };\n",
    "    std::cout << \"\\n\" << std::endl;\n",
    "};"
   ]
  },
  {
   "cell_type": "markdown",
   "metadata": {
    "collapsed": true
   },
   "source": [
    "#### Multi Dimension Array with Characters"
   ]
  },
  {
   "cell_type": "code",
   "execution_count": 33,
   "metadata": {},
   "outputs": [
    {
     "name": "stdout",
     "output_type": "stream",
     "text": [
      "abcde\n",
      "\n",
      "bbcde\n",
      "\n",
      "cbcde\n",
      "\n",
      "dbcde\n",
      "\n",
      "ebcde\n",
      "\n"
     ]
    }
   ],
   "source": [
    "// This is how you declare a multi-dimensional array of 5x5 elements each of type char\n",
    "char multiDimArrayChars[5][5] = {\n",
    "    {'a', 'b', 'c', 'd', 'e'},\n",
    "    {'b', 'b', 'c', 'd', 'e'},\n",
    "    {'c', 'b', 'c', 'd', 'e'},\n",
    "    {'d', 'b', 'c', 'd', 'e'},\n",
    "    {'e', 'b', 'c', 'd', 'e'},\n",
    "};\n",
    "\n",
    "// Print each row of our 5x5 multi-dimensional array\n",
    "for (int i=0; i<5; i++)\n",
    "{\n",
    "    for (int j=0; j<5; j++)\n",
    "    {\n",
    "        std::cout << multiDimArrayChars[i][j];\n",
    "    };\n",
    "    std::cout << \"\\n\" << std::endl;\n",
    "};"
   ]
  },
  {
   "cell_type": "markdown",
   "metadata": {},
   "source": [
    "### Copy Arrays"
   ]
  },
  {
   "cell_type": "markdown",
   "metadata": {},
   "source": [
    "#### Copy Number Arrays"
   ]
  },
  {
   "cell_type": "code",
   "execution_count": 34,
   "metadata": {},
   "outputs": [
    {
     "name": "stdout",
     "output_type": "stream",
     "text": [
      "1\n",
      "2\n",
      "3\n",
      "4\n",
      "5\n"
     ]
    }
   ],
   "source": [
    "double ArrayNumOne[] = {1, 2, 3, 4, 5};\n",
    "double ArrayNumTwo[5];\n",
    "\n",
    "// Use namespace std so it's cleaner\n",
    "using namespace std;\n",
    "\n",
    "// Copy array with copy()\n",
    "copy(begin(ArrayNumOne), end(ArrayNumOne), begin(ArrayNumTwo));\n",
    "\n",
    "// Print double type array with copy()\n",
    "copy(begin(ArrayNumTwo), end(ArrayNumTwo), ostream_iterator<double>(cout, \"\\n\"));"
   ]
  },
  {
   "cell_type": "markdown",
   "metadata": {
    "collapsed": true
   },
   "source": [
    "#### Copy String Arrays"
   ]
  },
  {
   "cell_type": "code",
   "execution_count": 35,
   "metadata": {},
   "outputs": [
    {
     "name": "stdout",
     "output_type": "stream",
     "text": [
      "a\n",
      "b\n",
      "c\n",
      "d\n",
      "e\n"
     ]
    }
   ],
   "source": [
    "char ArrayCharOne[] = {'a', 'b', 'c', 'd', 'e'};\n",
    "char ArrayCharTwo[5];\n",
    "\n",
    "// Use namespace std so it's cleaner\n",
    "using namespace std;\n",
    "\n",
    "// Copy array with copy()\n",
    "copy(begin(ArrayCharOne), end(ArrayCharOne), begin(ArrayCharTwo));\n",
    "\n",
    "// Print char type array with copy()\n",
    "copy(begin(ArrayCharTwo), end(ArrayCharTwo), ostream_iterator<char>(cout, \"\\n\"));"
   ]
  },
  {
   "cell_type": "markdown",
   "metadata": {
    "collapsed": true
   },
   "source": [
    "## Mathematical Operators\n",
    "- Add, subtract, multiply, divide and modulus"
   ]
  },
  {
   "cell_type": "markdown",
   "metadata": {},
   "source": [
    "### Add"
   ]
  },
  {
   "cell_type": "code",
   "execution_count": 36,
   "metadata": {},
   "outputs": [
    {
     "name": "stdout",
     "output_type": "stream",
     "text": [
      "10"
     ]
    }
   ],
   "source": [
    "double addStatement = 5 + 5;\n",
    "std::cout << addStatement;"
   ]
  },
  {
   "cell_type": "markdown",
   "metadata": {},
   "source": [
    "### Subtract"
   ]
  },
  {
   "cell_type": "code",
   "execution_count": 37,
   "metadata": {},
   "outputs": [
    {
     "name": "stdout",
     "output_type": "stream",
     "text": [
      "0"
     ]
    }
   ],
   "source": [
    "double subtractStatement = 5 - 5;\n",
    "std::cout << subtractStatement;"
   ]
  },
  {
   "cell_type": "markdown",
   "metadata": {},
   "source": [
    "### Divide"
   ]
  },
  {
   "cell_type": "code",
   "execution_count": 38,
   "metadata": {},
   "outputs": [
    {
     "name": "stdout",
     "output_type": "stream",
     "text": [
      "1"
     ]
    }
   ],
   "source": [
    "double divideStatement = 5 / 5;\n",
    "std::cout << divideStatement;"
   ]
  },
  {
   "cell_type": "markdown",
   "metadata": {},
   "source": [
    "### Multiply"
   ]
  },
  {
   "cell_type": "code",
   "execution_count": 39,
   "metadata": {},
   "outputs": [
    {
     "name": "stdout",
     "output_type": "stream",
     "text": [
      "25"
     ]
    }
   ],
   "source": [
    "double multiplyStatement = 5 * 5;\n",
    "std::cout << multiplyStatement;"
   ]
  },
  {
   "cell_type": "markdown",
   "metadata": {},
   "source": [
    "### Modulus\n",
    "- Gets the remainder of the division"
   ]
  },
  {
   "cell_type": "code",
   "execution_count": 40,
   "metadata": {},
   "outputs": [
    {
     "name": "stdout",
     "output_type": "stream",
     "text": [
      "3"
     ]
    }
   ],
   "source": [
    "double modulusStatement = 8 % 5;\n",
    "std::cout << modulusStatement;"
   ]
  },
  {
   "cell_type": "markdown",
   "metadata": {},
   "source": [
    "### Exponent\n",
    "- Base to the power of something, this requires a new package called `<cmath>` that we want to include."
   ]
  },
  {
   "cell_type": "code",
   "execution_count": 41,
   "metadata": {},
   "outputs": [
    {
     "name": "stdout",
     "output_type": "stream",
     "text": [
      "Base of 2 with exponent of 2 gives: 4\n"
     ]
    }
   ],
   "source": [
    "#include <cmath>\n",
    "\n",
    "void SquareNumber(int baseNum, int exponentNum)\n",
    "{\n",
    "    // Square the locally scoped variable with 2\n",
    "    int squaredNumber;\n",
    "    squaredNumber = pow(baseNum, exponentNum);\n",
    "    std::cout << \"Base of 2 with exponent of 2 gives: \" << squaredNumber << std::endl;\n",
    "}\n",
    "\n",
    "SquareNumber(2, 2)"
   ]
  },
  {
   "cell_type": "markdown",
   "metadata": {},
   "source": [
    "### Incrementing/Decrementing\n",
    "- 3 ways to do this, from least to most verbose"
   ]
  },
  {
   "cell_type": "markdown",
   "metadata": {},
   "source": [
    "#### Methods"
   ]
  },
  {
   "cell_type": "markdown",
   "metadata": {},
   "source": [
    "##### Method 1"
   ]
  },
  {
   "cell_type": "code",
   "execution_count": 42,
   "metadata": {},
   "outputs": [
    {
     "name": "stdout",
     "output_type": "stream",
     "text": [
      "2"
     ]
    }
   ],
   "source": [
    "double idx = 1;\n",
    "idx++;\n",
    "std::cout << idx;"
   ]
  },
  {
   "cell_type": "markdown",
   "metadata": {},
   "source": [
    "##### Method 2"
   ]
  },
  {
   "cell_type": "code",
   "execution_count": 43,
   "metadata": {},
   "outputs": [
    {
     "name": "stdout",
     "output_type": "stream",
     "text": [
      "3"
     ]
    }
   ],
   "source": [
    "idx += 1;\n",
    "std::cout << idx;"
   ]
  },
  {
   "cell_type": "markdown",
   "metadata": {},
   "source": [
    "##### Method 3"
   ]
  },
  {
   "cell_type": "code",
   "execution_count": 44,
   "metadata": {},
   "outputs": [
    {
     "name": "stdout",
     "output_type": "stream",
     "text": [
      "4"
     ]
    }
   ],
   "source": [
    "idx = idx + 1;\n",
    "std::cout << idx;"
   ]
  },
  {
   "cell_type": "markdown",
   "metadata": {},
   "source": [
    "#### Prefix/Postfix\n"
   ]
  },
  {
   "cell_type": "markdown",
   "metadata": {},
   "source": [
    "##### Prefix\n",
    "- This will change both incremented variable and the new variable you assign the incremented variable to\n",
    "- Summary: both variables will have the same values"
   ]
  },
  {
   "cell_type": "code",
   "execution_count": 45,
   "metadata": {},
   "outputs": [
    {
     "name": "stdout",
     "output_type": "stream",
     "text": [
      "Old a:\t1\n",
      "Old b:\t1\n",
      "New a:\t2\n",
      "New b:\t2\n"
     ]
    }
   ],
   "source": [
    "// Instantiate\n",
    "double a = 1;\n",
    "double b = 1;\n",
    "\n",
    "// Print original values\n",
    "cout << \"Old a:\\t\" << a << \"\\n\";\n",
    "cout << \"Old b:\\t\" << b << \"\\n\";\n",
    "\n",
    "// Prefix increment\n",
    "a = ++b;\n",
    "\n",
    "// Print new values\n",
    "cout << \"New a:\\t\" << a << \"\\n\";\n",
    "cout << \"New b:\\t\" << b << \"\\n\";"
   ]
  },
  {
   "cell_type": "markdown",
   "metadata": {},
   "source": [
    "##### Postfix\n",
    "- This will change only the incremented variable but not the variable it's assigned to\n",
    "- Summary: incremented variable will change but not the variable it was assigned to"
   ]
  },
  {
   "cell_type": "code",
   "execution_count": 46,
   "metadata": {},
   "outputs": [
    {
     "name": "stdout",
     "output_type": "stream",
     "text": [
      "Old c:\t2\n",
      "Old d:\t2\n",
      "New c:\t2\n",
      "New d:\t1\n"
     ]
    }
   ],
   "source": [
    "// Instantiate\n",
    "double c = 2;\n",
    "double d = 2;\n",
    "\n",
    "// Print original values\n",
    "cout << \"Old c:\\t\" << c << \"\\n\";\n",
    "cout << \"Old d:\\t\" << d << \"\\n\";\n",
    "\n",
    "// Prefix increment\n",
    "c = d--;\n",
    "\n",
    "// Print new values, notice how only d decremented? c which is what d is assigned to doesn't change.\n",
    "cout << \"New c:\\t\" << c << \"\\n\";\n",
    "cout << \"New d:\\t\" << d << \"\\n\";"
   ]
  },
  {
   "cell_type": "markdown",
   "metadata": {
    "collapsed": true
   },
   "source": [
    "## Conditional Statements"
   ]
  },
  {
   "cell_type": "markdown",
   "metadata": {
    "collapsed": true
   },
   "source": [
    "#### If"
   ]
  },
  {
   "cell_type": "code",
   "execution_count": 47,
   "metadata": {},
   "outputs": [
    {
     "name": "stdout",
     "output_type": "stream",
     "text": [
      "Reached max value!\n",
      "Value is 10\n"
     ]
    }
   ],
   "source": [
    "int maxValue = 10;\n",
    "    \n",
    "// Increment till 10\n",
    "for (int i=0; i<=10; i+=2)\n",
    "{\n",
    "    // Stop if the number reaches 10 (inclusive)\n",
    "    if (i == maxValue)\n",
    "    {\n",
    "        cout << \"Reached max value!\";\n",
    "        cout << \"\\nValue is \" << i << endl;\n",
    "    };\n",
    "};"
   ]
  },
  {
   "cell_type": "markdown",
   "metadata": {
    "collapsed": true
   },
   "source": [
    "#### Else"
   ]
  },
  {
   "cell_type": "code",
   "execution_count": 48,
   "metadata": {},
   "outputs": [
    {
     "name": "stdout",
     "output_type": "stream",
     "text": [
      "\n",
      "Current Value is 0\n",
      "\n",
      "Current Value is 2\n",
      "\n",
      "Current Value is 4\n",
      "\n",
      "Current Value is 6\n",
      "\n",
      "Current Value is 8\n",
      "\n",
      "Current Value is 10\n"
     ]
    }
   ],
   "source": [
    "int newMaxValue = 20;\n",
    "    \n",
    "// Increment till 10\n",
    "for (int i=0; i<=10; i+=2)\n",
    "{\n",
    "    // Stop if the number reaches 10 (inclusive)\n",
    "    if (i == newMaxValue)\n",
    "    {\n",
    "        cout << \"Reached max value!\";\n",
    "        cout << \"\\nValue is \" << i << endl;\n",
    "    }\n",
    "    // Else print current value\n",
    "    else\n",
    "    {\n",
    "        cout << \"\\nCurrent Value is \" << i << endl;\n",
    "    }\n",
    "}"
   ]
  },
  {
   "cell_type": "markdown",
   "metadata": {
    "collapsed": true
   },
   "source": [
    "## Logical Operators"
   ]
  },
  {
   "cell_type": "markdown",
   "metadata": {},
   "source": [
    "#### And"
   ]
  },
  {
   "cell_type": "code",
   "execution_count": 49,
   "metadata": {},
   "outputs": [
    {
     "name": "stdout",
     "output_type": "stream",
     "text": [
      "Both values equal to 10!\n"
     ]
    }
   ],
   "source": [
    "int varOneNew = 10;\n",
    "int varTwo = 10;\n",
    "int varCheckOne = 10;\n",
    "int varCheckTwo = 5;\n",
    "\n",
    "// This should print out\n",
    "if ((varOneNew == varCheckOne) && (varTwo == varCheckOne))\n",
    "{\n",
    "    std::cout << \"Both values equal to 10!\" << std::endl;\n",
    "}\n",
    "\n",
    "// This should not print out as varTwo does not equal to 5\n",
    "if ((varOneNew == varCheckOne) && (varTwo == varCheckTwo))\n",
    "{\n",
    "    std::cout << \"VarOneNew equals to 10, VarTwo equals to 5\" << std::endl;\n",
    "}"
   ]
  },
  {
   "cell_type": "markdown",
   "metadata": {},
   "source": [
    "#### Or"
   ]
  },
  {
   "cell_type": "code",
   "execution_count": 50,
   "metadata": {},
   "outputs": [
    {
     "name": "stdout",
     "output_type": "stream",
     "text": [
      "VarOneNew equals to 10 or VarTwo equals to 5\n"
     ]
    }
   ],
   "source": [
    "// On the contrary, this exact same statement would print out\n",
    "// as VarOne is equal to 10 and we are using an OR operator\n",
    "if ((varOneNew == varCheckOne) || (varTwo == varCheckTwo))\n",
    "{\n",
    "    std::cout << \"VarOneNew equals to 10 or VarTwo equals to 5\" << std::endl;\n",
    "}"
   ]
  },
  {
   "cell_type": "markdown",
   "metadata": {},
   "source": [
    "#### Not"
   ]
  },
  {
   "cell_type": "code",
   "execution_count": 51,
   "metadata": {},
   "outputs": [
    {
     "name": "stdout",
     "output_type": "stream",
     "text": [
      "VarTwo (10) is not equal to VarCheckTwo (5).\n"
     ]
    }
   ],
   "source": [
    "// This would print out as VarTwo is not equal to 5\n",
    "if (varTwo != varCheckTwo)\n",
    "{\n",
    "    std::cout << \"VarTwo (10) is not equal to VarCheckTwo (5).\" << std::endl;\n",
    "}"
   ]
  },
  {
   "cell_type": "markdown",
   "metadata": {
    "collapsed": true
   },
   "source": [
    "## Getting User Input"
   ]
  },
  {
   "cell_type": "code",
   "execution_count": 52,
   "metadata": {},
   "outputs": [
    {
     "name": "stdout",
     "output_type": "stream",
     "text": [
      "This program multiplies 2 given numbers\n",
      "Enter first number: \n",
      "100\n",
      "Enter second number: \n",
      "100\n",
      "Multiplication value: 10000\n"
     ]
    }
   ],
   "source": [
    "using namespace std;\n",
    "long double inputOne, inputTwo;\n",
    "cout << \"This program multiplies 2 given numbers\\n\";\n",
    "cout << \"Enter first number: \\n\";\n",
    "cin >> inputOne;\n",
    "cout << \"Enter second number: \\n\";\n",
    "cin >> inputTwo;\n",
    "cout << \"Multiplication value: \" << inputOne * inputTwo << endl;"
   ]
  },
  {
   "cell_type": "markdown",
   "metadata": {
    "collapsed": true
   },
   "source": [
    "## Loops"
   ]
  },
  {
   "cell_type": "markdown",
   "metadata": {},
   "source": [
    "### For Loop"
   ]
  },
  {
   "cell_type": "code",
   "execution_count": 53,
   "metadata": {},
   "outputs": [
    {
     "name": "stdout",
     "output_type": "stream",
     "text": [
      "Value of i is: 0\n",
      "Value of i is: 1\n",
      "Value of i is: 2\n",
      "Value of i is: 3\n",
      "Value of i is: 4\n",
      "Value of i is: 5\n",
      "Value of i is: 6\n",
      "Value of i is: 7\n",
      "Value of i is: 8\n",
      "Value of i is: 9\n"
     ]
    }
   ],
   "source": [
    "for (int i=0; i<10; i+=1)\n",
    "{\n",
    "    cout << \"Value of i is: \" << i << endl;\n",
    "}"
   ]
  },
  {
   "cell_type": "markdown",
   "metadata": {},
   "source": [
    "### While Loop"
   ]
  },
  {
   "cell_type": "code",
   "execution_count": 54,
   "metadata": {},
   "outputs": [
    {
     "name": "stdout",
     "output_type": "stream",
     "text": [
      "Value of while loop i is: 1\n",
      "Value of while loop i is: 2\n",
      "Value of while loop i is: 3\n",
      "Value of while loop i is: 4\n",
      "Value of while loop i is: 5\n",
      "Value of while loop i is: 6\n",
      "Value of while loop i is: 7\n",
      "Value of while loop i is: 8\n",
      "Value of while loop i is: 9\n",
      "Value of while loop i is: 10\n"
     ]
    }
   ],
   "source": [
    "int idxWhile = 0;\n",
    "\n",
    "while (idxWhile < 10)\n",
    "{\n",
    "    idxWhile += 1;\n",
    "    cout << \"Value of while loop i is: \" << idxWhile << endl;\n",
    "}"
   ]
  },
  {
   "cell_type": "markdown",
   "metadata": {},
   "source": [
    "### While Loop with Continue/Break\n"
   ]
  },
  {
   "cell_type": "code",
   "execution_count": 55,
   "metadata": {},
   "outputs": [
    {
     "name": "stdout",
     "output_type": "stream",
     "text": [
      "Value of while loop i is: 10\n",
      "Value of while loop i is: 10\n",
      "Value of while loop i is: 10\n",
      "Value of while loop i is: 10\n",
      "Value of while loop i is: 10\n",
      "Value of while loop i is: 10\n",
      "Value of while loop i is: 10\n",
      "Value of while loop i is: 10\n",
      "Value of while loop i is: 10\n",
      "Value of while loop i is: 10\n",
      "Max value of 10 reached!\n"
     ]
    }
   ],
   "source": [
    "int idxWhileNew = 0;\n",
    "\n",
    "while (idxWhileNew < 100)\n",
    "{\n",
    "    idxWhileNew += 1;\n",
    "    cout << \"Value of while loop i is: \" << idxWhile << endl;\n",
    "    \n",
    "    if (idxWhileNew == 10)\n",
    "    {\n",
    "        cout << \"Max value of 10 reached!\" << endl;\n",
    "        break;\n",
    "    }\n",
    "}"
   ]
  },
  {
   "cell_type": "markdown",
   "metadata": {},
   "source": [
    "## Pointers\n",
    "- **Benefit**\n",
    "    - This can be used as a huge advantage over Python, Java, etc. as it allows us to control memory via pointers.\n",
    "- **How**\n",
    "    - "
   ]
  },
  {
   "cell_type": "code",
   "execution_count": null,
   "metadata": {
    "collapsed": true
   },
   "outputs": [],
   "source": []
  }
 ],
 "metadata": {
  "kernelspec": {
   "display_name": "C++17",
   "language": "C++17",
   "name": "xcpp17"
  },
  "language_info": {
   "codemirror_mode": "text/x-c++src",
   "file_extension": ".cpp",
   "mimetype": "text/x-c++src",
   "name": "c++",
   "version": "-std=c++17"
  }
 },
 "nbformat": 4,
 "nbformat_minor": 2
}
