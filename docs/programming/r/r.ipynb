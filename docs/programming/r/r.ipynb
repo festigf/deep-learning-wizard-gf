{
 "cells": [
  {
   "cell_type": "markdown",
   "id": "ae8eb625-4654-4bb4-b629-a77a57ca431c",
   "metadata": {},
   "source": [
    "# R"
   ]
  },
  {
   "cell_type": "markdown",
   "id": "84c2f886-cc5c-4d28-87f2-c1478fe56449",
   "metadata": {},
   "source": [
    "## Quick Start Basics"
   ]
  },
  {
   "cell_type": "markdown",
   "id": "0ea302d3-42af-464d-b566-190c2d2e02f3",
   "metadata": {},
   "source": [
    "### Variable Object"
   ]
  },
  {
   "cell_type": "code",
   "execution_count": 32,
   "id": "0c3723aa-3ee7-48b2-9f2d-ce7575ae06b0",
   "metadata": {},
   "outputs": [
    {
     "name": "stdout",
     "output_type": "stream",
     "text": [
      "[1] 2\n"
     ]
    }
   ],
   "source": [
    "var_a <- 2\n",
    "print(var_a)"
   ]
  },
  {
   "cell_type": "code",
   "execution_count": 33,
   "id": "0cb8d612-085f-4ead-9013-8bdb7e786232",
   "metadata": {},
   "outputs": [
    {
     "name": "stdout",
     "output_type": "stream",
     "text": [
      "[1] 3\n"
     ]
    }
   ],
   "source": [
    "var_b = 3\n",
    "print(var_b)"
   ]
  },
  {
   "cell_type": "markdown",
   "id": "f0174479-2392-45b5-b773-69054a9dae4d",
   "metadata": {},
   "source": [
    "### Check Object Type"
   ]
  },
  {
   "cell_type": "code",
   "execution_count": 34,
   "id": "1564a936-243f-4696-a2eb-1e30a81fea79",
   "metadata": {},
   "outputs": [
    {
     "data": {
      "text/html": [
       "'numeric'"
      ],
      "text/latex": [
       "'numeric'"
      ],
      "text/markdown": [
       "'numeric'"
      ],
      "text/plain": [
       "[1] \"numeric\""
      ]
     },
     "metadata": {},
     "output_type": "display_data"
    }
   ],
   "source": [
    "# In this case, it's a numeric type\n",
    "class(var_a)"
   ]
  },
  {
   "cell_type": "markdown",
   "id": "57438854-9400-4187-a7f3-bc381cec015b",
   "metadata": {},
   "source": [
    "### List / Vector"
   ]
  },
  {
   "cell_type": "code",
   "execution_count": 35,
   "id": "1d3402d4-3364-4960-b592-e69217a4fc95",
   "metadata": {},
   "outputs": [
    {
     "data": {
      "text/html": [
       "<style>\n",
       ".list-inline {list-style: none; margin:0; padding: 0}\n",
       ".list-inline>li {display: inline-block}\n",
       ".list-inline>li:not(:last-child)::after {content: \"\\00b7\"; padding: 0 .5ex}\n",
       "</style>\n",
       "<ol class=list-inline><li>0</li><li>1</li><li>2</li></ol>\n"
      ],
      "text/latex": [
       "\\begin{enumerate*}\n",
       "\\item 0\n",
       "\\item 1\n",
       "\\item 2\n",
       "\\end{enumerate*}\n"
      ],
      "text/markdown": [
       "1. 0\n",
       "2. 1\n",
       "3. 2\n",
       "\n",
       "\n"
      ],
      "text/plain": [
       "[1] 0 1 2"
      ]
     },
     "metadata": {},
     "output_type": "display_data"
    }
   ],
   "source": [
    "list_a <- c(0, 1, 2)\n",
    "list_a"
   ]
  },
  {
   "cell_type": "code",
   "execution_count": 32,
   "id": "3080e113-1af9-468c-b27b-98b4d753491f",
   "metadata": {},
   "outputs": [
    {
     "data": {
      "text/html": [
       "<style>\n",
       ".list-inline {list-style: none; margin:0; padding: 0}\n",
       ".list-inline>li {display: inline-block}\n",
       ".list-inline>li:not(:last-child)::after {content: \"\\00b7\"; padding: 0 .5ex}\n",
       "</style>\n",
       "<ol class=list-inline><li>0</li><li>1</li><li>2</li><li>3</li><li>4</li><li>5</li><li>6</li></ol>\n"
      ],
      "text/latex": [
       "\\begin{enumerate*}\n",
       "\\item 0\n",
       "\\item 1\n",
       "\\item 2\n",
       "\\item 3\n",
       "\\item 4\n",
       "\\item 5\n",
       "\\item 6\n",
       "\\end{enumerate*}\n"
      ],
      "text/markdown": [
       "1. 0\n",
       "2. 1\n",
       "3. 2\n",
       "4. 3\n",
       "5. 4\n",
       "6. 5\n",
       "7. 6\n",
       "\n",
       "\n"
      ],
      "text/plain": [
       "[1] 0 1 2 3 4 5 6"
      ]
     },
     "metadata": {},
     "output_type": "display_data"
    }
   ],
   "source": [
    "# It's inclusive start till end, unlike Python which leaves the last out\n",
    "list_b <- c(0:6)\n",
    "list_b"
   ]
  },
  {
   "cell_type": "code",
   "execution_count": 33,
   "id": "08c142f5-6516-44a4-95df-7fadcd1a3817",
   "metadata": {},
   "outputs": [
    {
     "data": {
      "text/html": [
       "<dl>\n",
       "\t<dt>$john_height</dt>\n",
       "\t\t<dd>120</dd>\n",
       "\t<dt>$doe_height</dt>\n",
       "\t\t<dd>150</dd>\n",
       "</dl>\n"
      ],
      "text/latex": [
       "\\begin{description}\n",
       "\\item[\\$john\\_height] 120\n",
       "\\item[\\$doe\\_height] 150\n",
       "\\end{description}\n"
      ],
      "text/markdown": [
       "$john_height\n",
       ":   120\n",
       "$doe_height\n",
       ":   150\n",
       "\n",
       "\n"
      ],
      "text/plain": [
       "$john_height\n",
       "[1] 120\n",
       "\n",
       "$doe_height\n",
       "[1] 150\n"
      ]
     },
     "metadata": {},
     "output_type": "display_data"
    }
   ],
   "source": [
    "# Similar to a Python dictionary\n",
    "list_c <- list(john_height=120, doe_height=150)\n",
    "list_c"
   ]
  },
  {
   "cell_type": "code",
   "execution_count": 34,
   "id": "e506c039-6820-4b82-abac-ae5f3e8e2dbf",
   "metadata": {},
   "outputs": [
    {
     "data": {
      "text/html": [
       "<style>\n",
       ".list-inline {list-style: none; margin:0; padding: 0}\n",
       ".list-inline>li {display: inline-block}\n",
       ".list-inline>li:not(:last-child)::after {content: \"\\00b7\"; padding: 0 .5ex}\n",
       "</style>\n",
       "<ol class=list-inline><li>'john_height'</li><li>'doe_height'</li></ol>\n"
      ],
      "text/latex": [
       "\\begin{enumerate*}\n",
       "\\item 'john\\_height'\n",
       "\\item 'doe\\_height'\n",
       "\\end{enumerate*}\n"
      ],
      "text/markdown": [
       "1. 'john_height'\n",
       "2. 'doe_height'\n",
       "\n",
       "\n"
      ],
      "text/plain": [
       "[1] \"john_height\" \"doe_height\" "
      ]
     },
     "metadata": {},
     "output_type": "display_data"
    }
   ],
   "source": [
    "# Get keys only via names()\n",
    "names(list_c)"
   ]
  },
  {
   "cell_type": "code",
   "execution_count": 37,
   "id": "d5e3419d-6387-44be-965b-8eec6b0ca4e4",
   "metadata": {},
   "outputs": [
    {
     "data": {
      "text/html": [
       "<ol>\n",
       "\t<li>120</li>\n",
       "\t<li>150</li>\n",
       "</ol>\n"
      ],
      "text/latex": [
       "\\begin{enumerate}\n",
       "\\item 120\n",
       "\\item 150\n",
       "\\end{enumerate}\n"
      ],
      "text/markdown": [
       "1. 120\n",
       "2. 150\n",
       "\n",
       "\n"
      ],
      "text/plain": [
       "[[1]]\n",
       "[1] 120\n",
       "\n",
       "[[2]]\n",
       "[1] 150\n"
      ]
     },
     "metadata": {},
     "output_type": "display_data"
    }
   ],
   "source": [
    "# Get values only via uname()\n",
    "unname(list_c)"
   ]
  },
  {
   "cell_type": "markdown",
   "id": "b7d3c415-1b94-485e-81c3-48ba9e0112cb",
   "metadata": {},
   "source": [
    "### Matrix"
   ]
  },
  {
   "cell_type": "code",
   "execution_count": 44,
   "id": "3a9d9d39-9d65-42ba-915c-cf7903413cfe",
   "metadata": {},
   "outputs": [
    {
     "data": {
      "text/html": [
       "<style>\n",
       ".list-inline {list-style: none; margin:0; padding: 0}\n",
       ".list-inline>li {display: inline-block}\n",
       ".list-inline>li:not(:last-child)::after {content: \"\\00b7\"; padding: 0 .5ex}\n",
       "</style>\n",
       "<ol class=list-inline><li>1</li><li>2</li></ol>\n"
      ],
      "text/latex": [
       "\\begin{enumerate*}\n",
       "\\item 1\n",
       "\\item 2\n",
       "\\end{enumerate*}\n"
      ],
      "text/markdown": [
       "1. 1\n",
       "2. 2\n",
       "\n",
       "\n"
      ],
      "text/plain": [
       "[1] 1 2"
      ]
     },
     "metadata": {},
     "output_type": "display_data"
    },
    {
     "data": {
      "text/html": [
       "<style>\n",
       ".list-inline {list-style: none; margin:0; padding: 0}\n",
       ".list-inline>li {display: inline-block}\n",
       ".list-inline>li:not(:last-child)::after {content: \"\\00b7\"; padding: 0 .5ex}\n",
       "</style>\n",
       "<ol class=list-inline><li>3</li><li>4</li></ol>\n"
      ],
      "text/latex": [
       "\\begin{enumerate*}\n",
       "\\item 3\n",
       "\\item 4\n",
       "\\end{enumerate*}\n"
      ],
      "text/markdown": [
       "1. 3\n",
       "2. 4\n",
       "\n",
       "\n"
      ],
      "text/plain": [
       "[1] 3 4"
      ]
     },
     "metadata": {},
     "output_type": "display_data"
    }
   ],
   "source": [
    "# Create 2 vectors\n",
    "vect_a <- c(1, 2)\n",
    "vect_b <- c(3, 4)\n",
    "\n",
    "vect_a\n",
    "vect_b"
   ]
  },
  {
   "cell_type": "code",
   "execution_count": 45,
   "id": "e4995dc2-40d4-470d-b19c-82d2b28ece5d",
   "metadata": {},
   "outputs": [
    {
     "data": {
      "text/html": [
       "<table class=\"dataframe\">\n",
       "<caption>A matrix: 2 × 2 of type dbl</caption>\n",
       "<tbody>\n",
       "\t<tr><th scope=row>vect_a</th><td>1</td><td>2</td></tr>\n",
       "\t<tr><th scope=row>vect_b</th><td>3</td><td>4</td></tr>\n",
       "</tbody>\n",
       "</table>\n"
      ],
      "text/latex": [
       "A matrix: 2 × 2 of type dbl\n",
       "\\begin{tabular}{r|ll}\n",
       "\tvect\\_a & 1 & 2\\\\\n",
       "\tvect\\_b & 3 & 4\\\\\n",
       "\\end{tabular}\n"
      ],
      "text/markdown": [
       "\n",
       "A matrix: 2 × 2 of type dbl\n",
       "\n",
       "| vect_a | 1 | 2 |\n",
       "| vect_b | 3 | 4 |\n",
       "\n"
      ],
      "text/plain": [
       "       [,1] [,2]\n",
       "vect_a 1    2   \n",
       "vect_b 3    4   "
      ]
     },
     "metadata": {},
     "output_type": "display_data"
    }
   ],
   "source": [
    "# Bind as row\n",
    "mat_c <- rbind(vect_a, vect_b)\n",
    "mat_c"
   ]
  },
  {
   "cell_type": "code",
   "execution_count": 46,
   "id": "d03fa1b4-50d6-4c32-b886-b7cf2d61245d",
   "metadata": {},
   "outputs": [
    {
     "data": {
      "text/html": [
       "<table class=\"dataframe\">\n",
       "<caption>A matrix: 2 × 2 of type dbl</caption>\n",
       "<thead>\n",
       "\t<tr><th scope=col>vect_a</th><th scope=col>vect_b</th></tr>\n",
       "</thead>\n",
       "<tbody>\n",
       "\t<tr><td>1</td><td>3</td></tr>\n",
       "\t<tr><td>2</td><td>4</td></tr>\n",
       "</tbody>\n",
       "</table>\n"
      ],
      "text/latex": [
       "A matrix: 2 × 2 of type dbl\n",
       "\\begin{tabular}{ll}\n",
       " vect\\_a & vect\\_b\\\\\n",
       "\\hline\n",
       "\t 1 & 3\\\\\n",
       "\t 2 & 4\\\\\n",
       "\\end{tabular}\n"
      ],
      "text/markdown": [
       "\n",
       "A matrix: 2 × 2 of type dbl\n",
       "\n",
       "| vect_a | vect_b |\n",
       "|---|---|\n",
       "| 1 | 3 |\n",
       "| 2 | 4 |\n",
       "\n"
      ],
      "text/plain": [
       "     vect_a vect_b\n",
       "[1,] 1      3     \n",
       "[2,] 2      4     "
      ]
     },
     "metadata": {},
     "output_type": "display_data"
    }
   ],
   "source": [
    "# Bind as column\n",
    "mat_d <- cbind(vect_a, vect_b)\n",
    "mat_d"
   ]
  },
  {
   "cell_type": "code",
   "execution_count": 67,
   "id": "8c6f2e3d-fc99-46b9-b371-5fc3fd16b843",
   "metadata": {},
   "outputs": [
    {
     "data": {
      "text/html": [
       "<table class=\"dataframe\">\n",
       "<caption>A matrix: 2 × 3 of type dbl</caption>\n",
       "<tbody>\n",
       "\t<tr><td>1</td><td>3</td><td>5</td></tr>\n",
       "\t<tr><td>2</td><td>4</td><td>6</td></tr>\n",
       "</tbody>\n",
       "</table>\n"
      ],
      "text/latex": [
       "A matrix: 2 × 3 of type dbl\n",
       "\\begin{tabular}{lll}\n",
       "\t 1 & 3 & 5\\\\\n",
       "\t 2 & 4 & 6\\\\\n",
       "\\end{tabular}\n"
      ],
      "text/markdown": [
       "\n",
       "A matrix: 2 × 3 of type dbl\n",
       "\n",
       "| 1 | 3 | 5 |\n",
       "| 2 | 4 | 6 |\n",
       "\n"
      ],
      "text/plain": [
       "     [,1] [,2] [,3]\n",
       "[1,] 1    3    5   \n",
       "[2,] 2    4    6   "
      ]
     },
     "metadata": {},
     "output_type": "display_data"
    }
   ],
   "source": [
    "# Create matrix\n",
    "mat_e <- matrix(c(1, 2, 3, \n",
    "                 4, 5, 6), nrow=2, ncol=3)\n",
    "\n",
    "mat_e"
   ]
  },
  {
   "cell_type": "code",
   "execution_count": 68,
   "id": "a4f506a5-aabd-453d-89f9-1bc497f914c9",
   "metadata": {},
   "outputs": [
    {
     "data": {
      "text/html": [
       "<table class=\"dataframe\">\n",
       "<caption>A matrix: 2 × 3 of type dbl</caption>\n",
       "<tbody>\n",
       "\t<tr><td>1</td><td>3</td><td>5</td></tr>\n",
       "\t<tr><td>2</td><td>4</td><td>6</td></tr>\n",
       "</tbody>\n",
       "</table>\n"
      ],
      "text/latex": [
       "A matrix: 2 × 3 of type dbl\n",
       "\\begin{tabular}{lll}\n",
       "\t 1 & 3 & 5\\\\\n",
       "\t 2 & 4 & 6\\\\\n",
       "\\end{tabular}\n"
      ],
      "text/markdown": [
       "\n",
       "A matrix: 2 × 3 of type dbl\n",
       "\n",
       "| 1 | 3 | 5 |\n",
       "| 2 | 4 | 6 |\n",
       "\n"
      ],
      "text/plain": [
       "     [,1] [,2] [,3]\n",
       "[1,] 1    3    5   \n",
       "[2,] 2    4    6   "
      ]
     },
     "metadata": {},
     "output_type": "display_data"
    }
   ],
   "source": [
    "# Create matrix with byrow option\n",
    "mat_g <- matrix(c(1, 2, 3, 4, 5, 6), nrow=2, ncol=3, byrow=FALSE)\n",
    "\n",
    "mat_g"
   ]
  },
  {
   "cell_type": "code",
   "execution_count": 69,
   "id": "36298d5e-6221-4cc5-bd40-94fff563dc56",
   "metadata": {},
   "outputs": [
    {
     "data": {
      "text/html": [
       "<table class=\"dataframe\">\n",
       "<caption>A matrix: 2 × 3 of type dbl</caption>\n",
       "<tbody>\n",
       "\t<tr><td>1</td><td>2</td><td>3</td></tr>\n",
       "\t<tr><td>4</td><td>5</td><td>6</td></tr>\n",
       "</tbody>\n",
       "</table>\n"
      ],
      "text/latex": [
       "A matrix: 2 × 3 of type dbl\n",
       "\\begin{tabular}{lll}\n",
       "\t 1 & 2 & 3\\\\\n",
       "\t 4 & 5 & 6\\\\\n",
       "\\end{tabular}\n"
      ],
      "text/markdown": [
       "\n",
       "A matrix: 2 × 3 of type dbl\n",
       "\n",
       "| 1 | 2 | 3 |\n",
       "| 4 | 5 | 6 |\n",
       "\n"
      ],
      "text/plain": [
       "     [,1] [,2] [,3]\n",
       "[1,] 1    2    3   \n",
       "[2,] 4    5    6   "
      ]
     },
     "metadata": {},
     "output_type": "display_data"
    }
   ],
   "source": [
    "# Create same matrix with byrow option\n",
    "mat_f <- matrix(c(1, 2, 3, 4, 5, 6), nrow=2, ncol=3, byrow=TRUE)\n",
    "\n",
    "mat_f"
   ]
  },
  {
   "cell_type": "code",
   "execution_count": 70,
   "id": "af1b5903-17a4-497b-98e5-49ec07198cac",
   "metadata": {},
   "outputs": [
    {
     "data": {
      "text/html": [
       "1"
      ],
      "text/latex": [
       "1"
      ],
      "text/markdown": [
       "1"
      ],
      "text/plain": [
       "[1] 1"
      ]
     },
     "metadata": {},
     "output_type": "display_data"
    },
    {
     "data": {
      "text/html": [
       "4"
      ],
      "text/latex": [
       "4"
      ],
      "text/markdown": [
       "4"
      ],
      "text/plain": [
       "[1] 4"
      ]
     },
     "metadata": {},
     "output_type": "display_data"
    },
    {
     "data": {
      "text/html": [
       "6"
      ],
      "text/latex": [
       "6"
      ],
      "text/markdown": [
       "6"
      ],
      "text/plain": [
       "[1] 6"
      ]
     },
     "metadata": {},
     "output_type": "display_data"
    },
    {
     "data": {
      "text/html": [
       "<style>\n",
       ".list-inline {list-style: none; margin:0; padding: 0}\n",
       ".list-inline>li {display: inline-block}\n",
       ".list-inline>li:not(:last-child)::after {content: \"\\00b7\"; padding: 0 .5ex}\n",
       "</style>\n",
       "<ol class=list-inline><li>1</li><li>2</li><li>3</li></ol>\n"
      ],
      "text/latex": [
       "\\begin{enumerate*}\n",
       "\\item 1\n",
       "\\item 2\n",
       "\\item 3\n",
       "\\end{enumerate*}\n"
      ],
      "text/markdown": [
       "1. 1\n",
       "2. 2\n",
       "3. 3\n",
       "\n",
       "\n"
      ],
      "text/plain": [
       "[1] 1 2 3"
      ]
     },
     "metadata": {},
     "output_type": "display_data"
    },
    {
     "data": {
      "text/html": [
       "<style>\n",
       ".list-inline {list-style: none; margin:0; padding: 0}\n",
       ".list-inline>li {display: inline-block}\n",
       ".list-inline>li:not(:last-child)::after {content: \"\\00b7\"; padding: 0 .5ex}\n",
       "</style>\n",
       "<ol class=list-inline><li>1</li><li>4</li></ol>\n"
      ],
      "text/latex": [
       "\\begin{enumerate*}\n",
       "\\item 1\n",
       "\\item 4\n",
       "\\end{enumerate*}\n"
      ],
      "text/markdown": [
       "1. 1\n",
       "2. 4\n",
       "\n",
       "\n"
      ],
      "text/plain": [
       "[1] 1 4"
      ]
     },
     "metadata": {},
     "output_type": "display_data"
    }
   ],
   "source": [
    "# Index matrix of first row and first column\n",
    "mat_f[1,1]\n",
    "# Index matrix of second row and first column\n",
    "mat_f[2,1]\n",
    "# Index matrix of second row and third column\n",
    "mat_f[2,3]\n",
    "# Select full first row\n",
    "mat_f[1,]\n",
    "# Select full first column\n",
    "mat_f[,1]"
   ]
  },
  {
   "cell_type": "code",
   "execution_count": 66,
   "id": "15e4b522-5cb0-48d8-b46f-e932ab54259e",
   "metadata": {},
   "outputs": [
    {
     "data": {
      "text/html": [
       "<table class=\"dataframe\">\n",
       "<caption>A matrix: 3 × 2 of type dbl</caption>\n",
       "<tbody>\n",
       "\t<tr><td>1</td><td>4</td></tr>\n",
       "\t<tr><td>2</td><td>5</td></tr>\n",
       "\t<tr><td>3</td><td>6</td></tr>\n",
       "</tbody>\n",
       "</table>\n"
      ],
      "text/latex": [
       "A matrix: 3 × 2 of type dbl\n",
       "\\begin{tabular}{ll}\n",
       "\t 1 & 4\\\\\n",
       "\t 2 & 5\\\\\n",
       "\t 3 & 6\\\\\n",
       "\\end{tabular}\n"
      ],
      "text/markdown": [
       "\n",
       "A matrix: 3 × 2 of type dbl\n",
       "\n",
       "| 1 | 4 |\n",
       "| 2 | 5 |\n",
       "| 3 | 6 |\n",
       "\n"
      ],
      "text/plain": [
       "     [,1] [,2]\n",
       "[1,] 1    4   \n",
       "[2,] 2    5   \n",
       "[3,] 3    6   "
      ]
     },
     "metadata": {},
     "output_type": "display_data"
    }
   ],
   "source": [
    "# Find transpose of matrix: rows to cols\n",
    "t(mat_f)"
   ]
  },
  {
   "cell_type": "code",
   "execution_count": 83,
   "id": "06fc8d61-3db3-492d-9bdb-e237d31b8a77",
   "metadata": {},
   "outputs": [
    {
     "data": {
      "text/html": [
       "<table class=\"dataframe\">\n",
       "<caption>A matrix: 2 × 3 of type dbl</caption>\n",
       "<tbody>\n",
       "\t<tr><td>1</td><td>3</td><td>5</td></tr>\n",
       "\t<tr><td>2</td><td>4</td><td>6</td></tr>\n",
       "</tbody>\n",
       "</table>\n"
      ],
      "text/latex": [
       "A matrix: 2 × 3 of type dbl\n",
       "\\begin{tabular}{lll}\n",
       "\t 1 & 3 & 5\\\\\n",
       "\t 2 & 4 & 6\\\\\n",
       "\\end{tabular}\n"
      ],
      "text/markdown": [
       "\n",
       "A matrix: 2 × 3 of type dbl\n",
       "\n",
       "| 1 | 3 | 5 |\n",
       "| 2 | 4 | 6 |\n",
       "\n"
      ],
      "text/plain": [
       "     [,1] [,2] [,3]\n",
       "[1,] 1    3    5   \n",
       "[2,] 2    4    6   "
      ]
     },
     "metadata": {},
     "output_type": "display_data"
    },
    {
     "data": {
      "text/html": [
       "<table class=\"dataframe\">\n",
       "<caption>A matrix: 2 × 3 of type dbl</caption>\n",
       "<tbody>\n",
       "\t<tr><td>1</td><td>3</td><td>5</td></tr>\n",
       "\t<tr><td>2</td><td>4</td><td>6</td></tr>\n",
       "</tbody>\n",
       "</table>\n"
      ],
      "text/latex": [
       "A matrix: 2 × 3 of type dbl\n",
       "\\begin{tabular}{lll}\n",
       "\t 1 & 3 & 5\\\\\n",
       "\t 2 & 4 & 6\\\\\n",
       "\\end{tabular}\n"
      ],
      "text/markdown": [
       "\n",
       "A matrix: 2 × 3 of type dbl\n",
       "\n",
       "| 1 | 3 | 5 |\n",
       "| 2 | 4 | 6 |\n",
       "\n"
      ],
      "text/plain": [
       "     [,1] [,2] [,3]\n",
       "[1,] 1    3    5   \n",
       "[2,] 2    4    6   "
      ]
     },
     "metadata": {},
     "output_type": "display_data"
    },
    {
     "data": {
      "text/html": [
       "<table class=\"dataframe\">\n",
       "<caption>A matrix: 2 × 3 of type dbl</caption>\n",
       "<tbody>\n",
       "\t<tr><td>2</td><td>6</td><td>10</td></tr>\n",
       "\t<tr><td>4</td><td>8</td><td>12</td></tr>\n",
       "</tbody>\n",
       "</table>\n"
      ],
      "text/latex": [
       "A matrix: 2 × 3 of type dbl\n",
       "\\begin{tabular}{lll}\n",
       "\t 2 & 6 & 10\\\\\n",
       "\t 4 & 8 & 12\\\\\n",
       "\\end{tabular}\n"
      ],
      "text/markdown": [
       "\n",
       "A matrix: 2 × 3 of type dbl\n",
       "\n",
       "| 2 | 6 | 10 |\n",
       "| 4 | 8 | 12 |\n",
       "\n"
      ],
      "text/plain": [
       "     [,1] [,2] [,3]\n",
       "[1,] 2    6    10  \n",
       "[2,] 4    8    12  "
      ]
     },
     "metadata": {},
     "output_type": "display_data"
    }
   ],
   "source": [
    "# Add matrix\n",
    "mat_1 <- matrix(c(1, 2, 3, 4, 5, 6), nrow=2, ncol=3)\n",
    "mat_2 <- matrix(c(1, 2, 3, 4, 5, 6), nrow=2, ncol=3)\n",
    "mat_new <- mat_1 + mat_2\n",
    "mat_1\n",
    "mat_2\n",
    "mat_new"
   ]
  },
  {
   "cell_type": "code",
   "execution_count": 84,
   "id": "f7636bb9-2e6d-4f54-aa67-f92c1790e902",
   "metadata": {},
   "outputs": [
    {
     "data": {
      "text/html": [
       "<table class=\"dataframe\">\n",
       "<caption>A matrix: 2 × 3 of type dbl</caption>\n",
       "<tbody>\n",
       "\t<tr><td>1</td><td>3</td><td>5</td></tr>\n",
       "\t<tr><td>2</td><td>4</td><td>6</td></tr>\n",
       "</tbody>\n",
       "</table>\n"
      ],
      "text/latex": [
       "A matrix: 2 × 3 of type dbl\n",
       "\\begin{tabular}{lll}\n",
       "\t 1 & 3 & 5\\\\\n",
       "\t 2 & 4 & 6\\\\\n",
       "\\end{tabular}\n"
      ],
      "text/markdown": [
       "\n",
       "A matrix: 2 × 3 of type dbl\n",
       "\n",
       "| 1 | 3 | 5 |\n",
       "| 2 | 4 | 6 |\n",
       "\n"
      ],
      "text/plain": [
       "     [,1] [,2] [,3]\n",
       "[1,] 1    3    5   \n",
       "[2,] 2    4    6   "
      ]
     },
     "metadata": {},
     "output_type": "display_data"
    },
    {
     "data": {
      "text/html": [
       "<table class=\"dataframe\">\n",
       "<caption>A matrix: 2 × 3 of type dbl</caption>\n",
       "<tbody>\n",
       "\t<tr><td>1</td><td>3</td><td>5</td></tr>\n",
       "\t<tr><td>2</td><td>4</td><td>6</td></tr>\n",
       "</tbody>\n",
       "</table>\n"
      ],
      "text/latex": [
       "A matrix: 2 × 3 of type dbl\n",
       "\\begin{tabular}{lll}\n",
       "\t 1 & 3 & 5\\\\\n",
       "\t 2 & 4 & 6\\\\\n",
       "\\end{tabular}\n"
      ],
      "text/markdown": [
       "\n",
       "A matrix: 2 × 3 of type dbl\n",
       "\n",
       "| 1 | 3 | 5 |\n",
       "| 2 | 4 | 6 |\n",
       "\n"
      ],
      "text/plain": [
       "     [,1] [,2] [,3]\n",
       "[1,] 1    3    5   \n",
       "[2,] 2    4    6   "
      ]
     },
     "metadata": {},
     "output_type": "display_data"
    },
    {
     "data": {
      "text/html": [
       "<table class=\"dataframe\">\n",
       "<caption>A matrix: 2 × 3 of type dbl</caption>\n",
       "<tbody>\n",
       "\t<tr><td>0</td><td>0</td><td>0</td></tr>\n",
       "\t<tr><td>0</td><td>0</td><td>0</td></tr>\n",
       "</tbody>\n",
       "</table>\n"
      ],
      "text/latex": [
       "A matrix: 2 × 3 of type dbl\n",
       "\\begin{tabular}{lll}\n",
       "\t 0 & 0 & 0\\\\\n",
       "\t 0 & 0 & 0\\\\\n",
       "\\end{tabular}\n"
      ],
      "text/markdown": [
       "\n",
       "A matrix: 2 × 3 of type dbl\n",
       "\n",
       "| 0 | 0 | 0 |\n",
       "| 0 | 0 | 0 |\n",
       "\n"
      ],
      "text/plain": [
       "     [,1] [,2] [,3]\n",
       "[1,] 0    0    0   \n",
       "[2,] 0    0    0   "
      ]
     },
     "metadata": {},
     "output_type": "display_data"
    }
   ],
   "source": [
    "# Subtract matrix\n",
    "mat_1 <- matrix(c(1, 2, 3, 4, 5, 6), nrow=2, ncol=3)\n",
    "mat_2 <- matrix(c(1, 2, 3, 4, 5, 6), nrow=2, ncol=3)\n",
    "mat_new <- mat_1 - mat_2\n",
    "mat_1\n",
    "mat_2\n",
    "mat_new"
   ]
  },
  {
   "cell_type": "code",
   "execution_count": 85,
   "id": "1bf1aeac-e8c3-4bae-b347-3b644b96a004",
   "metadata": {},
   "outputs": [
    {
     "data": {
      "text/html": [
       "<table class=\"dataframe\">\n",
       "<caption>A matrix: 2 × 3 of type dbl</caption>\n",
       "<tbody>\n",
       "\t<tr><td>1</td><td>3</td><td>5</td></tr>\n",
       "\t<tr><td>2</td><td>4</td><td>6</td></tr>\n",
       "</tbody>\n",
       "</table>\n"
      ],
      "text/latex": [
       "A matrix: 2 × 3 of type dbl\n",
       "\\begin{tabular}{lll}\n",
       "\t 1 & 3 & 5\\\\\n",
       "\t 2 & 4 & 6\\\\\n",
       "\\end{tabular}\n"
      ],
      "text/markdown": [
       "\n",
       "A matrix: 2 × 3 of type dbl\n",
       "\n",
       "| 1 | 3 | 5 |\n",
       "| 2 | 4 | 6 |\n",
       "\n"
      ],
      "text/plain": [
       "     [,1] [,2] [,3]\n",
       "[1,] 1    3    5   \n",
       "[2,] 2    4    6   "
      ]
     },
     "metadata": {},
     "output_type": "display_data"
    },
    {
     "data": {
      "text/html": [
       "<table class=\"dataframe\">\n",
       "<caption>A matrix: 2 × 3 of type dbl</caption>\n",
       "<tbody>\n",
       "\t<tr><td>1</td><td>3</td><td>5</td></tr>\n",
       "\t<tr><td>2</td><td>4</td><td>6</td></tr>\n",
       "</tbody>\n",
       "</table>\n"
      ],
      "text/latex": [
       "A matrix: 2 × 3 of type dbl\n",
       "\\begin{tabular}{lll}\n",
       "\t 1 & 3 & 5\\\\\n",
       "\t 2 & 4 & 6\\\\\n",
       "\\end{tabular}\n"
      ],
      "text/markdown": [
       "\n",
       "A matrix: 2 × 3 of type dbl\n",
       "\n",
       "| 1 | 3 | 5 |\n",
       "| 2 | 4 | 6 |\n",
       "\n"
      ],
      "text/plain": [
       "     [,1] [,2] [,3]\n",
       "[1,] 1    3    5   \n",
       "[2,] 2    4    6   "
      ]
     },
     "metadata": {},
     "output_type": "display_data"
    },
    {
     "data": {
      "text/html": [
       "<table class=\"dataframe\">\n",
       "<caption>A matrix: 2 × 3 of type dbl</caption>\n",
       "<tbody>\n",
       "\t<tr><td>1</td><td> 9</td><td>25</td></tr>\n",
       "\t<tr><td>4</td><td>16</td><td>36</td></tr>\n",
       "</tbody>\n",
       "</table>\n"
      ],
      "text/latex": [
       "A matrix: 2 × 3 of type dbl\n",
       "\\begin{tabular}{lll}\n",
       "\t 1 &  9 & 25\\\\\n",
       "\t 4 & 16 & 36\\\\\n",
       "\\end{tabular}\n"
      ],
      "text/markdown": [
       "\n",
       "A matrix: 2 × 3 of type dbl\n",
       "\n",
       "| 1 |  9 | 25 |\n",
       "| 4 | 16 | 36 |\n",
       "\n"
      ],
      "text/plain": [
       "     [,1] [,2] [,3]\n",
       "[1,] 1     9   25  \n",
       "[2,] 4    16   36  "
      ]
     },
     "metadata": {},
     "output_type": "display_data"
    }
   ],
   "source": [
    "# Element-wise multiplication / Hadamard product\n",
    "mat_1 <- matrix(c(1, 2, 3, 4, 5, 6), nrow=2, ncol=3)\n",
    "mat_2 <- matrix(c(1, 2, 3, 4, 5, 6), nrow=2, ncol=3)\n",
    "mat_new <- mat_1 * mat_2\n",
    "mat_1\n",
    "mat_2\n",
    "mat_new"
   ]
  },
  {
   "cell_type": "code",
   "execution_count": 89,
   "id": "b9b249a9-ed39-4814-be88-cd05678ed4ef",
   "metadata": {},
   "outputs": [
    {
     "data": {
      "text/html": [
       "<table class=\"dataframe\">\n",
       "<caption>A matrix: 2 × 3 of type dbl</caption>\n",
       "<tbody>\n",
       "\t<tr><td>1</td><td>3</td><td>5</td></tr>\n",
       "\t<tr><td>2</td><td>4</td><td>6</td></tr>\n",
       "</tbody>\n",
       "</table>\n"
      ],
      "text/latex": [
       "A matrix: 2 × 3 of type dbl\n",
       "\\begin{tabular}{lll}\n",
       "\t 1 & 3 & 5\\\\\n",
       "\t 2 & 4 & 6\\\\\n",
       "\\end{tabular}\n"
      ],
      "text/markdown": [
       "\n",
       "A matrix: 2 × 3 of type dbl\n",
       "\n",
       "| 1 | 3 | 5 |\n",
       "| 2 | 4 | 6 |\n",
       "\n"
      ],
      "text/plain": [
       "     [,1] [,2] [,3]\n",
       "[1,] 1    3    5   \n",
       "[2,] 2    4    6   "
      ]
     },
     "metadata": {},
     "output_type": "display_data"
    },
    {
     "data": {
      "text/html": [
       "<table class=\"dataframe\">\n",
       "<caption>A matrix: 3 × 2 of type dbl</caption>\n",
       "<tbody>\n",
       "\t<tr><td>1</td><td>4</td></tr>\n",
       "\t<tr><td>2</td><td>5</td></tr>\n",
       "\t<tr><td>3</td><td>6</td></tr>\n",
       "</tbody>\n",
       "</table>\n"
      ],
      "text/latex": [
       "A matrix: 3 × 2 of type dbl\n",
       "\\begin{tabular}{ll}\n",
       "\t 1 & 4\\\\\n",
       "\t 2 & 5\\\\\n",
       "\t 3 & 6\\\\\n",
       "\\end{tabular}\n"
      ],
      "text/markdown": [
       "\n",
       "A matrix: 3 × 2 of type dbl\n",
       "\n",
       "| 1 | 4 |\n",
       "| 2 | 5 |\n",
       "| 3 | 6 |\n",
       "\n"
      ],
      "text/plain": [
       "     [,1] [,2]\n",
       "[1,] 1    4   \n",
       "[2,] 2    5   \n",
       "[3,] 3    6   "
      ]
     },
     "metadata": {},
     "output_type": "display_data"
    },
    {
     "data": {
      "text/html": [
       "<table class=\"dataframe\">\n",
       "<caption>A matrix: 2 × 2 of type dbl</caption>\n",
       "<tbody>\n",
       "\t<tr><td>22</td><td>49</td></tr>\n",
       "\t<tr><td>28</td><td>64</td></tr>\n",
       "</tbody>\n",
       "</table>\n"
      ],
      "text/latex": [
       "A matrix: 2 × 2 of type dbl\n",
       "\\begin{tabular}{ll}\n",
       "\t 22 & 49\\\\\n",
       "\t 28 & 64\\\\\n",
       "\\end{tabular}\n"
      ],
      "text/markdown": [
       "\n",
       "A matrix: 2 × 2 of type dbl\n",
       "\n",
       "| 22 | 49 |\n",
       "| 28 | 64 |\n",
       "\n"
      ],
      "text/plain": [
       "     [,1] [,2]\n",
       "[1,] 22   49  \n",
       "[2,] 28   64  "
      ]
     },
     "metadata": {},
     "output_type": "display_data"
    }
   ],
   "source": [
    "# Matrix multiplication \n",
    "mat_1 <- matrix(c(1, 2, 3, 4, 5, 6), nrow=2, ncol=3)\n",
    "mat_2 <- matrix(c(1, 2, 3, 4, 5, 6), nrow=3, ncol=2)\n",
    "mat_new <- mat_1 %*% mat_2\n",
    "mat_1\n",
    "mat_2\n",
    "mat_new"
   ]
  },
  {
   "cell_type": "code",
   "execution_count": 86,
   "id": "92000085-dc68-451d-b74c-5cc69a9a9fa4",
   "metadata": {},
   "outputs": [
    {
     "data": {
      "text/html": [
       "<table class=\"dataframe\">\n",
       "<caption>A matrix: 2 × 3 of type dbl</caption>\n",
       "<tbody>\n",
       "\t<tr><td>1</td><td>3</td><td>5</td></tr>\n",
       "\t<tr><td>2</td><td>4</td><td>6</td></tr>\n",
       "</tbody>\n",
       "</table>\n"
      ],
      "text/latex": [
       "A matrix: 2 × 3 of type dbl\n",
       "\\begin{tabular}{lll}\n",
       "\t 1 & 3 & 5\\\\\n",
       "\t 2 & 4 & 6\\\\\n",
       "\\end{tabular}\n"
      ],
      "text/markdown": [
       "\n",
       "A matrix: 2 × 3 of type dbl\n",
       "\n",
       "| 1 | 3 | 5 |\n",
       "| 2 | 4 | 6 |\n",
       "\n"
      ],
      "text/plain": [
       "     [,1] [,2] [,3]\n",
       "[1,] 1    3    5   \n",
       "[2,] 2    4    6   "
      ]
     },
     "metadata": {},
     "output_type": "display_data"
    },
    {
     "data": {
      "text/html": [
       "<table class=\"dataframe\">\n",
       "<caption>A matrix: 2 × 3 of type dbl</caption>\n",
       "<tbody>\n",
       "\t<tr><td>1</td><td>3</td><td>5</td></tr>\n",
       "\t<tr><td>2</td><td>4</td><td>6</td></tr>\n",
       "</tbody>\n",
       "</table>\n"
      ],
      "text/latex": [
       "A matrix: 2 × 3 of type dbl\n",
       "\\begin{tabular}{lll}\n",
       "\t 1 & 3 & 5\\\\\n",
       "\t 2 & 4 & 6\\\\\n",
       "\\end{tabular}\n"
      ],
      "text/markdown": [
       "\n",
       "A matrix: 2 × 3 of type dbl\n",
       "\n",
       "| 1 | 3 | 5 |\n",
       "| 2 | 4 | 6 |\n",
       "\n"
      ],
      "text/plain": [
       "     [,1] [,2] [,3]\n",
       "[1,] 1    3    5   \n",
       "[2,] 2    4    6   "
      ]
     },
     "metadata": {},
     "output_type": "display_data"
    },
    {
     "data": {
      "text/html": [
       "<table class=\"dataframe\">\n",
       "<caption>A matrix: 2 × 3 of type dbl</caption>\n",
       "<tbody>\n",
       "\t<tr><td>1</td><td>1</td><td>1</td></tr>\n",
       "\t<tr><td>1</td><td>1</td><td>1</td></tr>\n",
       "</tbody>\n",
       "</table>\n"
      ],
      "text/latex": [
       "A matrix: 2 × 3 of type dbl\n",
       "\\begin{tabular}{lll}\n",
       "\t 1 & 1 & 1\\\\\n",
       "\t 1 & 1 & 1\\\\\n",
       "\\end{tabular}\n"
      ],
      "text/markdown": [
       "\n",
       "A matrix: 2 × 3 of type dbl\n",
       "\n",
       "| 1 | 1 | 1 |\n",
       "| 1 | 1 | 1 |\n",
       "\n"
      ],
      "text/plain": [
       "     [,1] [,2] [,3]\n",
       "[1,] 1    1    1   \n",
       "[2,] 1    1    1   "
      ]
     },
     "metadata": {},
     "output_type": "display_data"
    }
   ],
   "source": [
    "# Element-wise division\n",
    "mat_1 <- matrix(c(1, 2, 3, 4, 5, 6), nrow=2, ncol=3)\n",
    "mat_2 <- matrix(c(1, 2, 3, 4, 5, 6), nrow=2, ncol=3)\n",
    "mat_new <- mat_1 / mat_2\n",
    "mat_1\n",
    "mat_2\n",
    "mat_new"
   ]
  },
  {
   "cell_type": "code",
   "execution_count": 87,
   "id": "1c75d5c7-a506-4271-8486-2939472e0f90",
   "metadata": {},
   "outputs": [
    {
     "data": {
      "text/html": [
       "<table class=\"dataframe\">\n",
       "<caption>A matrix: 2 × 3 of type dbl</caption>\n",
       "<tbody>\n",
       "\t<tr><td>1</td><td>3</td><td>5</td></tr>\n",
       "\t<tr><td>2</td><td>4</td><td>6</td></tr>\n",
       "</tbody>\n",
       "</table>\n"
      ],
      "text/latex": [
       "A matrix: 2 × 3 of type dbl\n",
       "\\begin{tabular}{lll}\n",
       "\t 1 & 3 & 5\\\\\n",
       "\t 2 & 4 & 6\\\\\n",
       "\\end{tabular}\n"
      ],
      "text/markdown": [
       "\n",
       "A matrix: 2 × 3 of type dbl\n",
       "\n",
       "| 1 | 3 | 5 |\n",
       "| 2 | 4 | 6 |\n",
       "\n"
      ],
      "text/plain": [
       "     [,1] [,2] [,3]\n",
       "[1,] 1    3    5   \n",
       "[2,] 2    4    6   "
      ]
     },
     "metadata": {},
     "output_type": "display_data"
    },
    {
     "data": {
      "text/html": [
       "<table class=\"dataframe\">\n",
       "<caption>A matrix: 2 × 3 of type dbl</caption>\n",
       "<tbody>\n",
       "\t<tr><td>10</td><td>30</td><td>50</td></tr>\n",
       "\t<tr><td>20</td><td>40</td><td>60</td></tr>\n",
       "</tbody>\n",
       "</table>\n"
      ],
      "text/latex": [
       "A matrix: 2 × 3 of type dbl\n",
       "\\begin{tabular}{lll}\n",
       "\t 10 & 30 & 50\\\\\n",
       "\t 20 & 40 & 60\\\\\n",
       "\\end{tabular}\n"
      ],
      "text/markdown": [
       "\n",
       "A matrix: 2 × 3 of type dbl\n",
       "\n",
       "| 10 | 30 | 50 |\n",
       "| 20 | 40 | 60 |\n",
       "\n"
      ],
      "text/plain": [
       "     [,1] [,2] [,3]\n",
       "[1,] 10   30   50  \n",
       "[2,] 20   40   60  "
      ]
     },
     "metadata": {},
     "output_type": "display_data"
    }
   ],
   "source": [
    "# Scalar multiplication with matrix\n",
    "mat_1 <- matrix(c(1, 2, 3, 4, 5, 6), nrow=2, ncol=3)\n",
    "mat_new <- 10 * mat_1\n",
    "mat_1\n",
    "mat_new"
   ]
  },
  {
   "cell_type": "code",
   "execution_count": 91,
   "id": "e4af98e6-3d48-4c60-a942-6ea6bdb0beec",
   "metadata": {},
   "outputs": [
    {
     "data": {
      "text/html": [
       "<table class=\"dataframe\">\n",
       "<caption>A matrix: 2 × 3 of type dbl</caption>\n",
       "<tbody>\n",
       "\t<tr><td>2</td><td>6</td><td>7</td></tr>\n",
       "\t<tr><td>4</td><td>5</td><td>9</td></tr>\n",
       "</tbody>\n",
       "</table>\n"
      ],
      "text/latex": [
       "A matrix: 2 × 3 of type dbl\n",
       "\\begin{tabular}{lll}\n",
       "\t 2 & 6 & 7\\\\\n",
       "\t 4 & 5 & 9\\\\\n",
       "\\end{tabular}\n"
      ],
      "text/markdown": [
       "\n",
       "A matrix: 2 × 3 of type dbl\n",
       "\n",
       "| 2 | 6 | 7 |\n",
       "| 4 | 5 | 9 |\n",
       "\n"
      ],
      "text/plain": [
       "     [,1] [,2] [,3]\n",
       "[1,] 2    6    7   \n",
       "[2,] 4    5    9   "
      ]
     },
     "metadata": {},
     "output_type": "display_data"
    }
   ],
   "source": [
    "# Broadcast vector of 1x3 to matrix of 2x3\n",
    "vec_1 <- c(1, 2, 3)\n",
    "mat_1 <- matrix(c(1, 2, 3, 4, 5, 6), nrow=2, ncol=3)\n",
    "vec_1 + mat_1"
   ]
  },
  {
   "cell_type": "code",
   "execution_count": 104,
   "id": "69736605-a85e-4222-a3d8-98d077db9e24",
   "metadata": {},
   "outputs": [
    {
     "data": {
      "text/html": [
       "<table class=\"dataframe\">\n",
       "<caption>A matrix: 2 × 2 of type dbl</caption>\n",
       "<tbody>\n",
       "\t<tr><td>1</td><td>3</td></tr>\n",
       "\t<tr><td>2</td><td>4</td></tr>\n",
       "</tbody>\n",
       "</table>\n"
      ],
      "text/latex": [
       "A matrix: 2 × 2 of type dbl\n",
       "\\begin{tabular}{ll}\n",
       "\t 1 & 3\\\\\n",
       "\t 2 & 4\\\\\n",
       "\\end{tabular}\n"
      ],
      "text/markdown": [
       "\n",
       "A matrix: 2 × 2 of type dbl\n",
       "\n",
       "| 1 | 3 |\n",
       "| 2 | 4 |\n",
       "\n"
      ],
      "text/plain": [
       "     [,1] [,2]\n",
       "[1,] 1    3   \n",
       "[2,] 2    4   "
      ]
     },
     "metadata": {},
     "output_type": "display_data"
    },
    {
     "name": "stdout",
     "output_type": "stream",
     "text": [
      "-2 is non-zero hence the inverse exist"
     ]
    }
   ],
   "source": [
    "# Check for determinant of matrix\n",
    "mat_A <- matrix(c(1, 2, 3, 4), nrow=2, ncol=2)\n",
    "mat_A\n",
    "# Here det != 0, hence inverse exist\n",
    "det_of_mat_A = det(mat_A)\n",
    "cat(det_of_mat_A, 'is non-zero hence the inverse exist')"
   ]
  },
  {
   "cell_type": "code",
   "execution_count": 105,
   "id": "8e9c5d60-1f53-4bf5-bd37-918e06da9871",
   "metadata": {},
   "outputs": [
    {
     "data": {
      "text/html": [
       "<table class=\"dataframe\">\n",
       "<caption>A matrix: 2 × 2 of type dbl</caption>\n",
       "<tbody>\n",
       "\t<tr><td>-2</td><td> 1.5</td></tr>\n",
       "\t<tr><td> 1</td><td>-0.5</td></tr>\n",
       "</tbody>\n",
       "</table>\n"
      ],
      "text/latex": [
       "A matrix: 2 × 2 of type dbl\n",
       "\\begin{tabular}{ll}\n",
       "\t -2 &  1.5\\\\\n",
       "\t  1 & -0.5\\\\\n",
       "\\end{tabular}\n"
      ],
      "text/markdown": [
       "\n",
       "A matrix: 2 × 2 of type dbl\n",
       "\n",
       "| -2 |  1.5 |\n",
       "|  1 | -0.5 |\n",
       "\n"
      ],
      "text/plain": [
       "     [,1] [,2]\n",
       "[1,] -2    1.5\n",
       "[2,]  1   -0.5"
      ]
     },
     "metadata": {},
     "output_type": "display_data"
    }
   ],
   "source": [
    "# Invert of Matrix: mat'\n",
    "mat_A_inv = solve(mat_A)\n",
    "mat_A_inv"
   ]
  },
  {
   "cell_type": "code",
   "execution_count": 108,
   "id": "03c42c6b-f94d-4917-8dbf-26a1a5e0a5f0",
   "metadata": {},
   "outputs": [
    {
     "data": {
      "text/html": [
       "<table class=\"dataframe\">\n",
       "<caption>A matrix: 2 × 2 of type dbl</caption>\n",
       "<tbody>\n",
       "\t<tr><td>1</td><td>0</td></tr>\n",
       "\t<tr><td>0</td><td>1</td></tr>\n",
       "</tbody>\n",
       "</table>\n"
      ],
      "text/latex": [
       "A matrix: 2 × 2 of type dbl\n",
       "\\begin{tabular}{ll}\n",
       "\t 1 & 0\\\\\n",
       "\t 0 & 1\\\\\n",
       "\\end{tabular}\n"
      ],
      "text/markdown": [
       "\n",
       "A matrix: 2 × 2 of type dbl\n",
       "\n",
       "| 1 | 0 |\n",
       "| 0 | 1 |\n",
       "\n"
      ],
      "text/plain": [
       "     [,1] [,2]\n",
       "[1,] 1    0   \n",
       "[2,] 0    1   "
      ]
     },
     "metadata": {},
     "output_type": "display_data"
    },
    {
     "data": {
      "text/html": [
       "<table class=\"dataframe\">\n",
       "<caption>A matrix: 2 × 2 of type dbl</caption>\n",
       "<tbody>\n",
       "\t<tr><td>1</td><td>0</td></tr>\n",
       "\t<tr><td>0</td><td>1</td></tr>\n",
       "</tbody>\n",
       "</table>\n"
      ],
      "text/latex": [
       "A matrix: 2 × 2 of type dbl\n",
       "\\begin{tabular}{ll}\n",
       "\t 1 & 0\\\\\n",
       "\t 0 & 1\\\\\n",
       "\\end{tabular}\n"
      ],
      "text/markdown": [
       "\n",
       "A matrix: 2 × 2 of type dbl\n",
       "\n",
       "| 1 | 0 |\n",
       "| 0 | 1 |\n",
       "\n"
      ],
      "text/plain": [
       "     [,1] [,2]\n",
       "[1,] 1    0   \n",
       "[2,] 0    1   "
      ]
     },
     "metadata": {},
     "output_type": "display_data"
    },
    {
     "data": {
      "text/html": [
       "<table class=\"dataframe\">\n",
       "<caption>A matrix: 2 × 2 of type dbl</caption>\n",
       "<tbody>\n",
       "\t<tr><td>1</td><td>0</td></tr>\n",
       "\t<tr><td>0</td><td>1</td></tr>\n",
       "</tbody>\n",
       "</table>\n"
      ],
      "text/latex": [
       "A matrix: 2 × 2 of type dbl\n",
       "\\begin{tabular}{ll}\n",
       "\t 1 & 0\\\\\n",
       "\t 0 & 1\\\\\n",
       "\\end{tabular}\n"
      ],
      "text/markdown": [
       "\n",
       "A matrix: 2 × 2 of type dbl\n",
       "\n",
       "| 1 | 0 |\n",
       "| 0 | 1 |\n",
       "\n"
      ],
      "text/plain": [
       "     [,1] [,2]\n",
       "[1,] 1    0   \n",
       "[2,] 0    1   "
      ]
     },
     "metadata": {},
     "output_type": "display_data"
    }
   ],
   "source": [
    "# I = A'A = AA'\n",
    "mat_A_identity = mat_A_inv %*% mat_A\n",
    "mat_A_identity\n",
    "mat_A_inv %*% mat_A\n",
    "mat_A %*% mat_A_inv"
   ]
  },
  {
   "cell_type": "code",
   "execution_count": 112,
   "id": "4ba867e4-012b-48e9-bd95-fb01b0fccf5a",
   "metadata": {},
   "outputs": [
    {
     "data": {
      "text/html": [
       "<table class=\"dataframe\">\n",
       "<caption>A matrix: 2 × 2 of type dbl</caption>\n",
       "<tbody>\n",
       "\t<tr><td>1</td><td>3</td></tr>\n",
       "\t<tr><td>2</td><td>4</td></tr>\n",
       "</tbody>\n",
       "</table>\n"
      ],
      "text/latex": [
       "A matrix: 2 × 2 of type dbl\n",
       "\\begin{tabular}{ll}\n",
       "\t 1 & 3\\\\\n",
       "\t 2 & 4\\\\\n",
       "\\end{tabular}\n"
      ],
      "text/markdown": [
       "\n",
       "A matrix: 2 × 2 of type dbl\n",
       "\n",
       "| 1 | 3 |\n",
       "| 2 | 4 |\n",
       "\n"
      ],
      "text/plain": [
       "     [,1] [,2]\n",
       "[1,] 1    3   \n",
       "[2,] 2    4   "
      ]
     },
     "metadata": {},
     "output_type": "display_data"
    },
    {
     "data": {
      "text/html": [
       "<table class=\"dataframe\">\n",
       "<caption>A matrix: 2 × 2 of type dbl</caption>\n",
       "<tbody>\n",
       "\t<tr><td>1</td><td>3</td></tr>\n",
       "\t<tr><td>2</td><td>4</td></tr>\n",
       "</tbody>\n",
       "</table>\n"
      ],
      "text/latex": [
       "A matrix: 2 × 2 of type dbl\n",
       "\\begin{tabular}{ll}\n",
       "\t 1 & 3\\\\\n",
       "\t 2 & 4\\\\\n",
       "\\end{tabular}\n"
      ],
      "text/markdown": [
       "\n",
       "A matrix: 2 × 2 of type dbl\n",
       "\n",
       "| 1 | 3 |\n",
       "| 2 | 4 |\n",
       "\n"
      ],
      "text/plain": [
       "     [,1] [,2]\n",
       "[1,] 1    3   \n",
       "[2,] 2    4   "
      ]
     },
     "metadata": {},
     "output_type": "display_data"
    },
    {
     "data": {
      "text/html": [
       "<table class=\"dataframe\">\n",
       "<caption>A matrix: 2 × 2 of type dbl</caption>\n",
       "<tbody>\n",
       "\t<tr><td>1</td><td>3</td></tr>\n",
       "\t<tr><td>2</td><td>4</td></tr>\n",
       "</tbody>\n",
       "</table>\n"
      ],
      "text/latex": [
       "A matrix: 2 × 2 of type dbl\n",
       "\\begin{tabular}{ll}\n",
       "\t 1 & 3\\\\\n",
       "\t 2 & 4\\\\\n",
       "\\end{tabular}\n"
      ],
      "text/markdown": [
       "\n",
       "A matrix: 2 × 2 of type dbl\n",
       "\n",
       "| 1 | 3 |\n",
       "| 2 | 4 |\n",
       "\n"
      ],
      "text/plain": [
       "     [,1] [,2]\n",
       "[1,] 1    3   \n",
       "[2,] 2    4   "
      ]
     },
     "metadata": {},
     "output_type": "display_data"
    }
   ],
   "source": [
    "# IA = AI = A\n",
    "mat_A\n",
    "mat_A_identity %*% mat_A\n",
    "mat_A %*% mat_A_identity"
   ]
  },
  {
   "cell_type": "markdown",
   "id": "5da7befb-22eb-4a4d-9d83-fc59095ea451",
   "metadata": {},
   "source": [
    "### DataFrames"
   ]
  },
  {
   "cell_type": "code",
   "execution_count": 152,
   "id": "91eddbe1-bc89-42f3-8c77-4758473d88a2",
   "metadata": {},
   "outputs": [
    {
     "data": {
      "text/html": [
       "<table class=\"dataframe\">\n",
       "<caption>A data.frame: 3 × 2</caption>\n",
       "<thead>\n",
       "\t<tr><th scope=col>price_var</th><th scope=col>date_var</th></tr>\n",
       "\t<tr><th scope=col>&lt;dbl&gt;</th><th scope=col>&lt;date&gt;</th></tr>\n",
       "</thead>\n",
       "<tbody>\n",
       "\t<tr><td>100</td><td>2021-01-11</td></tr>\n",
       "\t<tr><td>105</td><td>2021-01-12</td></tr>\n",
       "\t<tr><td>120</td><td>2021-01-13</td></tr>\n",
       "</tbody>\n",
       "</table>\n"
      ],
      "text/latex": [
       "A data.frame: 3 × 2\n",
       "\\begin{tabular}{ll}\n",
       " price\\_var & date\\_var\\\\\n",
       " <dbl> & <date>\\\\\n",
       "\\hline\n",
       "\t 100 & 2021-01-11\\\\\n",
       "\t 105 & 2021-01-12\\\\\n",
       "\t 120 & 2021-01-13\\\\\n",
       "\\end{tabular}\n"
      ],
      "text/markdown": [
       "\n",
       "A data.frame: 3 × 2\n",
       "\n",
       "| price_var &lt;dbl&gt; | date_var &lt;date&gt; |\n",
       "|---|---|\n",
       "| 100 | 2021-01-11 |\n",
       "| 105 | 2021-01-12 |\n",
       "| 120 | 2021-01-13 |\n",
       "\n"
      ],
      "text/plain": [
       "  price_var date_var  \n",
       "1 100       2021-01-11\n",
       "2 105       2021-01-12\n",
       "3 120       2021-01-13"
      ]
     },
     "metadata": {},
     "output_type": "display_data"
    }
   ],
   "source": [
    "price_var <- c(100, 105, 120)\n",
    "date_var <- as.Date(c('2021-01-11','2021-01-12','2021-01-13'))\n",
    "df <- data.frame(price_var, date_var)\n",
    "df"
   ]
  },
  {
   "cell_type": "markdown",
   "id": "5d033829-d5b6-431c-b9d7-c3add07ce253",
   "metadata": {},
   "source": [
    "### For Loop"
   ]
  },
  {
   "cell_type": "code",
   "execution_count": 40,
   "id": "b9cea946-6281-4c9a-b10e-0cab2bf22b86",
   "metadata": {},
   "outputs": [
    {
     "name": "stdout",
     "output_type": "stream",
     "text": [
      "[1] 0\n",
      "[1] 1\n",
      "[1] 2\n",
      "[1] 3\n"
     ]
    }
   ],
   "source": [
    "for (i in c(0:3)) {\n",
    "    print(i)\n",
    "}"
   ]
  },
  {
   "cell_type": "markdown",
   "id": "000b4466-3fc4-493a-9e9f-afae464407b1",
   "metadata": {},
   "source": [
    "### While Loop"
   ]
  },
  {
   "cell_type": "code",
   "execution_count": 48,
   "id": "dc55ed0e-321a-487a-89ac-0f965641ae57",
   "metadata": {},
   "outputs": [
    {
     "name": "stdout",
     "output_type": "stream",
     "text": [
      "[1] \"Yet to reach 3, i is:  0\"\n",
      "[1] \"Yet to reach 3, i is:  1\"\n",
      "[1] \"Yet to reach 3, i is:  2\"\n",
      "[1] \"Reached 3!\"\n"
     ]
    }
   ],
   "source": [
    "# Be careful, you might end up in an infinite loop\n",
    "# if say i = -1\n",
    "i <- 0\n",
    "while (i < 3) {\n",
    "    stdout_str = paste('Yet to reach 3, i is: ', i)\n",
    "    print(stdout_str)\n",
    "    i <- i + 1\n",
    "}\n",
    "\n",
    "print('Reached 3!')"
   ]
  },
  {
   "cell_type": "markdown",
   "id": "bff0a0c6-1cbe-4339-b1bc-a1157cca4d0f",
   "metadata": {},
   "source": [
    "### Math"
   ]
  },
  {
   "cell_type": "code",
   "execution_count": 1,
   "id": "ce3decb3-eb1c-4cf0-ac60-cebebec56c09",
   "metadata": {},
   "outputs": [
    {
     "data": {
      "text/html": [
       "4"
      ],
      "text/latex": [
       "4"
      ],
      "text/markdown": [
       "4"
      ],
      "text/plain": [
       "[1] 4"
      ]
     },
     "metadata": {},
     "output_type": "display_data"
    }
   ],
   "source": [
    "# Multiplication\n",
    "2 * 2"
   ]
  },
  {
   "cell_type": "code",
   "execution_count": 2,
   "id": "57cfa039-7293-4116-bc00-69d452b45945",
   "metadata": {},
   "outputs": [
    {
     "data": {
      "text/html": [
       "1"
      ],
      "text/latex": [
       "1"
      ],
      "text/markdown": [
       "1"
      ],
      "text/plain": [
       "[1] 1"
      ]
     },
     "metadata": {},
     "output_type": "display_data"
    }
   ],
   "source": [
    "# Division\n",
    "2 / 2"
   ]
  },
  {
   "cell_type": "code",
   "execution_count": 3,
   "id": "0c745ab5-5e44-4c73-bf53-fd5aaeb26f3d",
   "metadata": {
    "tags": []
   },
   "outputs": [
    {
     "data": {
      "text/html": [
       "4"
      ],
      "text/latex": [
       "4"
      ],
      "text/markdown": [
       "4"
      ],
      "text/plain": [
       "[1] 4"
      ]
     },
     "metadata": {},
     "output_type": "display_data"
    }
   ],
   "source": [
    "# Addition\n",
    "2 + 2"
   ]
  },
  {
   "cell_type": "code",
   "execution_count": 4,
   "id": "b60d2bfc-87a4-445e-873e-90bd1f24cd04",
   "metadata": {},
   "outputs": [
    {
     "data": {
      "text/html": [
       "0"
      ],
      "text/latex": [
       "0"
      ],
      "text/markdown": [
       "0"
      ],
      "text/plain": [
       "[1] 0"
      ]
     },
     "metadata": {},
     "output_type": "display_data"
    }
   ],
   "source": [
    "# Subtraction\n",
    "2 - 2"
   ]
  },
  {
   "cell_type": "code",
   "execution_count": 5,
   "id": "2b8051b9-9622-46d2-b5a8-956007a45f1f",
   "metadata": {},
   "outputs": [
    {
     "data": {
      "text/html": [
       "22026.4657948067"
      ],
      "text/latex": [
       "22026.4657948067"
      ],
      "text/markdown": [
       "22026.4657948067"
      ],
      "text/plain": [
       "[1] 22026.47"
      ]
     },
     "metadata": {},
     "output_type": "display_data"
    }
   ],
   "source": [
    "# Exponentiation\n",
    "exp(10)"
   ]
  },
  {
   "cell_type": "code",
   "execution_count": 6,
   "id": "9d4d624e-a3dc-4247-8aa4-f159d746e86e",
   "metadata": {},
   "outputs": [
    {
     "data": {
      "text/html": [
       "6.28318530717959"
      ],
      "text/latex": [
       "6.28318530717959"
      ],
      "text/markdown": [
       "6.28318530717959"
      ],
      "text/plain": [
       "[1] 6.283185"
      ]
     },
     "metadata": {},
     "output_type": "display_data"
    }
   ],
   "source": [
    "# Inbuilt value pi\n",
    "2*pi"
   ]
  },
  {
   "cell_type": "code",
   "execution_count": 8,
   "id": "b52151f0-753a-473f-9a99-daecdf128b50",
   "metadata": {},
   "outputs": [
    {
     "data": {
      "text/html": [
       "0.693147180559945"
      ],
      "text/latex": [
       "0.693147180559945"
      ],
      "text/markdown": [
       "0.693147180559945"
      ],
      "text/plain": [
       "[1] 0.6931472"
      ]
     },
     "metadata": {},
     "output_type": "display_data"
    }
   ],
   "source": [
    "# Natural log: ln\n",
    "log(2)"
   ]
  },
  {
   "cell_type": "code",
   "execution_count": 14,
   "id": "193ebe41-7f6d-4871-b5e3-90414e7bffca",
   "metadata": {},
   "outputs": [
    {
     "data": {
      "text/html": [
       "2.32192809488736"
      ],
      "text/latex": [
       "2.32192809488736"
      ],
      "text/markdown": [
       "2.32192809488736"
      ],
      "text/plain": [
       "[1] 2.321928"
      ]
     },
     "metadata": {},
     "output_type": "display_data"
    }
   ],
   "source": [
    "# Log with base 2\n",
    "var_a = log(5, base=2)\n",
    "var_a"
   ]
  },
  {
   "cell_type": "code",
   "execution_count": 15,
   "id": "c5d26ef9-b6ff-40d5-993a-5b6fcd0dd66f",
   "metadata": {},
   "outputs": [
    {
     "data": {
      "text/html": [
       "5"
      ],
      "text/latex": [
       "5"
      ],
      "text/markdown": [
       "5"
      ],
      "text/plain": [
       "[1] 5"
      ]
     },
     "metadata": {},
     "output_type": "display_data"
    }
   ],
   "source": [
    "# Power to go back to 2\n",
    "2**var_a"
   ]
  },
  {
   "cell_type": "code",
   "execution_count": 16,
   "id": "05fff293-a529-4d90-826c-eadd3ca7a09b",
   "metadata": {},
   "outputs": [
    {
     "data": {
      "text/html": [
       "4"
      ],
      "text/latex": [
       "4"
      ],
      "text/markdown": [
       "4"
      ],
      "text/plain": [
       "[1] 4"
      ]
     },
     "metadata": {},
     "output_type": "display_data"
    }
   ],
   "source": [
    "# Power\n",
    "2**2"
   ]
  },
  {
   "cell_type": "code",
   "execution_count": 19,
   "id": "927475df-214a-49f3-a650-898e5d94d8ba",
   "metadata": {},
   "outputs": [
    {
     "data": {
      "text/html": [
       "2"
      ],
      "text/latex": [
       "2"
      ],
      "text/markdown": [
       "2"
      ],
      "text/plain": [
       "[1] 2"
      ]
     },
     "metadata": {},
     "output_type": "display_data"
    },
    {
     "data": {
      "text/html": [
       "2"
      ],
      "text/latex": [
       "2"
      ],
      "text/markdown": [
       "2"
      ],
      "text/plain": [
       "[1] 2"
      ]
     },
     "metadata": {},
     "output_type": "display_data"
    }
   ],
   "source": [
    "# Square root\n",
    "sqrt(4)\n",
    "\n",
    "# Alternative square root via power yiled same results\n",
    "4**0.5"
   ]
  },
  {
   "cell_type": "code",
   "execution_count": 31,
   "id": "d3c1483f-fc7b-476d-9c06-dcb0cbe3bc28",
   "metadata": {},
   "outputs": [
    {
     "data": {
      "text/html": [
       "0+5i"
      ],
      "text/latex": [
       "0+5i"
      ],
      "text/markdown": [
       "0+5i"
      ],
      "text/plain": [
       "[1] 0+5i"
      ]
     },
     "metadata": {},
     "output_type": "display_data"
    },
    {
     "name": "stdout",
     "output_type": "stream",
     "text": [
      "---------------This will fail!---------------"
     ]
    },
    {
     "name": "stderr",
     "output_type": "stream",
     "text": [
      "Warning message in sqrt(-25):\n",
      "“NaNs produced”\n"
     ]
    },
    {
     "data": {
      "text/html": [
       "NaN"
      ],
      "text/latex": [
       "NaN"
      ],
      "text/markdown": [
       "NaN"
      ],
      "text/plain": [
       "[1] NaN"
      ]
     },
     "metadata": {},
     "output_type": "display_data"
    }
   ],
   "source": [
    "# We can square root a complex number\n",
    "sqrt(-25+0i)\n",
    "\n",
    "# But we cannot square root a real number\n",
    "cat(sprintf('---------------'))\n",
    "cat(sprintf('This will fail!'))\n",
    "cat(sprintf('---------------'))\n",
    "\n",
    "sqrt(-25)"
   ]
  },
  {
   "cell_type": "code",
   "execution_count": 38,
   "id": "f7dfd872-d76d-4118-a673-efc1a49376a8",
   "metadata": {},
   "outputs": [
    {
     "data": {
      "text/html": [
       "3/4"
      ],
      "text/latex": [
       "3/4"
      ],
      "text/markdown": [
       "3/4"
      ],
      "text/plain": [
       "[1] 3/4"
      ]
     },
     "metadata": {},
     "output_type": "display_data"
    }
   ],
   "source": [
    "# Print as fractions rather than decimal\n",
    "library(MASS)\n",
    "fractions(1 - 0.25)"
   ]
  },
  {
   "cell_type": "markdown",
   "id": "0fc03945-87ab-4259-b0e7-79ddb435e369",
   "metadata": {},
   "source": [
    "### Statistics"
   ]
  },
  {
   "cell_type": "code",
   "execution_count": 119,
   "id": "0b7e8ed5-74b4-4e74-91cc-07a2dca3a6b5",
   "metadata": {},
   "outputs": [
    {
     "name": "stdout",
     "output_type": "stream",
     "text": [
      "standard deviation: 1.870829\n",
      "variance: 3.5\n",
      "median: 3.5\n",
      "mean: 3.5"
     ]
    },
    {
     "data": {
      "text/plain": [
       "   Min. 1st Qu.  Median    Mean 3rd Qu.    Max. \n",
       "   1.00    2.25    3.50    3.50    4.75    6.00 "
      ]
     },
     "metadata": {},
     "output_type": "display_data"
    }
   ],
   "source": [
    "# Create list\n",
    "list_a <- c(1, 2, 3, 4, 5, 6)\n",
    "\n",
    "# Get standard deviation\n",
    "cat('standard deviation:', sd(list_a))\n",
    "\n",
    "# Get variance\n",
    "cat('\\nvariance:', var(list_a))\n",
    "\n",
    "# Get mean\n",
    "cat('\\nmedian:', mean(list_a))\n",
    "\n",
    "# Get median\n",
    "cat('\\nmean:', median(list_a))\n",
    "\n",
    "# Get summary statistics\n",
    "summary(list_a)"
   ]
  },
  {
   "cell_type": "code",
   "execution_count": 159,
   "id": "2a92f1b2-3ceb-43db-8efd-6202dc53dbb2",
   "metadata": {},
   "outputs": [
    {
     "data": {
      "text/plain": [
       "\n",
       "\tOne Sample t-test\n",
       "\n",
       "data:  list_a\n",
       "t = 4.5826, df = 5, p-value = 0.005934\n",
       "alternative hypothesis: true mean is not equal to 0\n",
       "95 percent confidence interval:\n",
       " 1.536686 5.463314\n",
       "sample estimates:\n",
       "mean of x \n",
       "      3.5 \n"
      ]
     },
     "metadata": {},
     "output_type": "display_data"
    }
   ],
   "source": [
    "# t-test\n",
    "var_test = t.test(list_a)\n",
    "var_test"
   ]
  },
  {
   "cell_type": "code",
   "execution_count": 160,
   "id": "636c4906-cdaa-4b41-ab16-3f3fa9bbc0c9",
   "metadata": {},
   "outputs": [
    {
     "data": {
      "text/html": [
       "<style>\n",
       ".list-inline {list-style: none; margin:0; padding: 0}\n",
       ".list-inline>li {display: inline-block}\n",
       ".list-inline>li:not(:last-child)::after {content: \"\\00b7\"; padding: 0 .5ex}\n",
       "</style>\n",
       "<ol class=list-inline><li>'statistic'</li><li>'parameter'</li><li>'p.value'</li><li>'conf.int'</li><li>'estimate'</li><li>'null.value'</li><li>'stderr'</li><li>'alternative'</li><li>'method'</li><li>'data.name'</li></ol>\n"
      ],
      "text/latex": [
       "\\begin{enumerate*}\n",
       "\\item 'statistic'\n",
       "\\item 'parameter'\n",
       "\\item 'p.value'\n",
       "\\item 'conf.int'\n",
       "\\item 'estimate'\n",
       "\\item 'null.value'\n",
       "\\item 'stderr'\n",
       "\\item 'alternative'\n",
       "\\item 'method'\n",
       "\\item 'data.name'\n",
       "\\end{enumerate*}\n"
      ],
      "text/markdown": [
       "1. 'statistic'\n",
       "2. 'parameter'\n",
       "3. 'p.value'\n",
       "4. 'conf.int'\n",
       "5. 'estimate'\n",
       "6. 'null.value'\n",
       "7. 'stderr'\n",
       "8. 'alternative'\n",
       "9. 'method'\n",
       "10. 'data.name'\n",
       "\n",
       "\n"
      ],
      "text/plain": [
       " [1] \"statistic\"   \"parameter\"   \"p.value\"     \"conf.int\"    \"estimate\"   \n",
       " [6] \"null.value\"  \"stderr\"      \"alternative\" \"method\"      \"data.name\"  "
      ]
     },
     "metadata": {},
     "output_type": "display_data"
    }
   ],
   "source": [
    "# This shows what you can call if we assign it to an object\n",
    "names(t.test(list_a))"
   ]
  },
  {
   "cell_type": "code",
   "execution_count": 162,
   "id": "37cba7a6-794a-455d-9de9-6578d85f01c0",
   "metadata": {},
   "outputs": [
    {
     "data": {
      "text/html": [
       "<style>\n",
       ".list-inline {list-style: none; margin:0; padding: 0}\n",
       ".list-inline>li {display: inline-block}\n",
       ".list-inline>li:not(:last-child)::after {content: \"\\00b7\"; padding: 0 .5ex}\n",
       "</style>\n",
       "<ol class=list-inline><li>1.53668569301968</li><li>5.46331430698032</li></ol>\n"
      ],
      "text/latex": [
       "\\begin{enumerate*}\n",
       "\\item 1.53668569301968\n",
       "\\item 5.46331430698032\n",
       "\\end{enumerate*}\n"
      ],
      "text/markdown": [
       "1. 1.53668569301968\n",
       "2. 5.46331430698032\n",
       "\n",
       "\n"
      ],
      "text/plain": [
       "[1] 1.536686 5.463314\n",
       "attr(,\"conf.level\")\n",
       "[1] 0.95"
      ]
     },
     "metadata": {},
     "output_type": "display_data"
    }
   ],
   "source": [
    "# Get confidence interval\n",
    "var_test$conf.int"
   ]
  },
  {
   "cell_type": "code",
   "execution_count": 166,
   "id": "82f38393-b95d-4925-ae86-289f59daa917",
   "metadata": {},
   "outputs": [
    {
     "data": {
      "text/html": [
       "3.5"
      ],
      "text/latex": [
       "3.5"
      ],
      "text/markdown": [
       "3.5"
      ],
      "text/plain": [
       "[1] 3.5"
      ]
     },
     "metadata": {},
     "output_type": "display_data"
    }
   ],
   "source": [
    "# Mid-point of confidence interval is the mean\n",
    "mean(var_test$conf.int)"
   ]
  },
  {
   "cell_type": "code",
   "execution_count": 164,
   "id": "508572a7-6288-46b7-9f46-8488f546718a",
   "metadata": {},
   "outputs": [
    {
     "data": {
      "text/html": [
       "0.00593354451759226"
      ],
      "text/latex": [
       "0.00593354451759226"
      ],
      "text/markdown": [
       "0.00593354451759226"
      ],
      "text/plain": [
       "[1] 0.005933545"
      ]
     },
     "metadata": {},
     "output_type": "display_data"
    }
   ],
   "source": [
    "# Get p-value\n",
    "var_test$p.value"
   ]
  },
  {
   "cell_type": "code",
   "execution_count": 125,
   "id": "0a1461da-4a2e-41dd-812c-6c2a1b99c4d6",
   "metadata": {},
   "outputs": [
    {
     "data": {
      "image/png": "[encoded data removed]",
      "text/plain": [
       "plot without title"
      ]
     },
     "metadata": {
      "image/png": {
       "height": 420,
       "width": 420
      }
     },
     "output_type": "display_data"
    }
   ],
   "source": [
    "# Plot histogram, hist() doesn't work all the time\n",
    "barplot(table(list_a))"
   ]
  },
  {
   "cell_type": "code",
   "execution_count": 122,
   "id": "f48e12c9-1ce5-4fed-a74a-57b5c9241fb0",
   "metadata": {},
   "outputs": [
    {
     "data": {
      "image/png": "[encoded data removed]",
      "text/plain": [
       "plot without title"
      ]
     },
     "metadata": {
      "image/png": {
       "height": 420,
       "width": 420
      }
     },
     "output_type": "display_data"
    }
   ],
   "source": [
    "# Plot dot plot\n",
    "plot(list_a)"
   ]
  },
  {
   "cell_type": "code",
   "execution_count": 144,
   "id": "59f62a6a-96fa-4ed9-8f0d-8fd0e7ff9fc8",
   "metadata": {},
   "outputs": [
    {
     "data": {
      "image/png": "[encoded data removed]",
      "text/plain": [
       "Plot with title “X-Y Plot”"
      ]
     },
     "metadata": {
      "image/png": {
       "height": 420,
       "width": 420
      }
     },
     "output_type": "display_data"
    }
   ],
   "source": [
    "# Plot dot plot\n",
    "# type: p for point, l for line, b for both\n",
    "# col: cyan, blue, green, red\n",
    "plot(list_a, xlab='variable x', ylab='variable y', main='X-Y Plot', type='b', col='blue')"
   ]
  },
  {
   "cell_type": "code",
   "execution_count": null,
   "id": "c6e606c8-4dd9-4be9-ab07-8c5490414664",
   "metadata": {},
   "outputs": [],
   "source": []
  },
  {
   "cell_type": "code",
   "execution_count": null,
   "id": "97647b28-3781-40d5-a458-0627aaaad25d",
   "metadata": {},
   "outputs": [],
   "source": []
  },
  {
   "cell_type": "code",
   "execution_count": null,
   "id": "06ec9f12-f677-4f4a-9ef3-a764ab4de48b",
   "metadata": {},
   "outputs": [],
   "source": []
  }
 ],
 "metadata": {
  "kernelspec": {
   "display_name": "R",
   "language": "R",
   "name": "ir"
  },
  "language_info": {
   "codemirror_mode": "r",
   "file_extension": ".r",
   "mimetype": "text/x-r-source",
   "name": "R",
   "pygments_lexer": "r",
   "version": "4.1.1"
  }
 },
 "nbformat": 4,
 "nbformat_minor": 5
}
